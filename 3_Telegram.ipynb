{
  "nbformat": 4,
  "nbformat_minor": 0,
  "metadata": {
    "colab": {
      "provenance": [],
      "include_colab_link": true
    },
    "kernelspec": {
      "name": "python3",
      "display_name": "Python 3"
    },
    "language_info": {
      "name": "python"
    }
  },
  "cells": [
    {
      "cell_type": "markdown",
      "metadata": {
        "id": "view-in-github",
        "colab_type": "text"
      },
      "source": [
        "<a href=\"https://colab.research.google.com/github/thiagomelostuckert/datathon-fakenews/blob/main/3_Telegram.ipynb\" target=\"_parent\"><img src=\"https://colab.research.google.com/assets/colab-badge.svg\" alt=\"Open In Colab\"/></a>"
      ]
    },
    {
      "cell_type": "markdown",
      "source": [
        "## Estruturação de aplicação para detecção de notícias a partir da extração de mensagens em grupo do Telegram\n",
        "\n",
        "Agora que o modelo já foi treinado é preciso analisar a performance dele em tempo real. Em parceria com um órgão do XX, a fração de D&A recebeu informações sobre um grupo de Telegram em que há suspeita de desinformação. Quando estiver em posse do modelo treinado, a equipe pode buscar representantes do desafio para obter o link do grupo.\n",
        "O engenheiro de dados deverá desenvolver aplicação que acompanha constantemente o grupo designado. Na ocorrência de uma mensagem nesse grupo, a aplicação deverá:\n",
        "\n",
        "i) preprocessar o texto da mesma forma que na etapa 1;\n",
        "\n",
        "ii) carregar os parâmetros do modelo treinado na etapa 2;\n",
        "\n",
        "iii) realizar inferência no texto processado, gerando previsão de se a notícia é falsa ou não;\n",
        "\n",
        "iv) salvar o texto, o timestamp de recebimento da mensagem, o timestamp após a realização da inferência e a previsão do modelo para aquela notícia em um pandas dataframe;\n",
        "\n",
        "v) ao fim do recebimento das mensagens (será indicado ao grupo), deverá salvar o pandas dataframe em formato .csv.\n",
        "\n",
        "Recomenda-se a utilização da biblioteca python telethon, que é assíncrona (deve ser utilizada conjuntamente à biblioteca asyncio). É possível utilizar a biblioteca no Google Colab (nesse caso, deve utilizar ainda o nest_asyncio). Para utilizar a biblioteca telethon é necessário também obter os dados da API do Telegram, que pode ser feito utilizando esse link (https://core.telegram.org/api/obtaining_api_id).\n",
        "\n",
        "Serão considerados na avaliação: intervalo de tempo entre o recebimento da mensagem e a realização da inferência; eficiência do código."
      ],
      "metadata": {
        "id": "81O01SErqUuT"
      }
    },
    {
      "cell_type": "markdown",
      "source": [
        "Importação das bibliotecas"
      ],
      "metadata": {
        "id": "2g_O-VvyqRzQ"
      }
    },
    {
      "cell_type": "code",
      "source": [
        "import pandas as pd\n",
        "from datetime import datetime\n",
        "\n",
        "#https://colab.research.google.com/github/tensorflow/io/blob/master/docs/tutorials/kafka.ipynb\n",
        "\n",
        "!pip install tensorflow-io\n",
        "!pip install kafka-python\n",
        "\n",
        "import tensorflow as tf\n",
        "import tensorflow_io as tfio\n",
        "import time\n",
        "import threading\n",
        "from kafka.admin import KafkaAdminClient,NewTopic\n",
        "from kafka import KafkaProducer\n",
        "from kafka import KafkaConsumer\n",
        "from kafka.errors import KafkaError\n",
        "from sklearn.model_selection import train_test_split\n",
        "import os\n",
        "import threading\n",
        "\n",
        "\n",
        "\n",
        "#Extração das mensagens do grupo do telegram\n",
        "!pip install Telethon\n",
        "from telethon import TelegramClient, events\n",
        "from telethon import utils\n",
        "\n",
        "import asyncio\n",
        "import nest_asyncio\n",
        "\n",
        "import json\n",
        "\n",
        "# Pré-processamento\n",
        "import nltk\n",
        "from nltk.stem import RSLPStemmer\n",
        "from nltk.stem.wordnet import WordNetLemmatizer\n",
        "\n",
        "#Utilizado para carregar o classificador\n",
        "import gzip\n",
        "import pickle\n",
        "!pip install openpyxl\n",
        "import openpyxl\n",
        "\n",
        "\n",
        "#Biblioteca utilizadas para o processamento da linguagem\n",
        "import spacy\n",
        "from spacy.lang.pt.examples import sentences\n",
        "\n",
        "from spacy.tokenizer import Tokenizer\n",
        "from spacy.lang.pt import Portuguese\n",
        "import re\n",
        "from collections import Counter\n",
        "\n",
        "!pip install Unidecode\n",
        "from unidecode import unidecode\n",
        "\n",
        "!pip install yake\n",
        "import yake\n",
        "\n",
        "#Baixa o corpus utilizado na próxima análise\n",
        "# Referência: https://spacy.io/models/pt#pt_core_news_md\n",
        "# Observação:tem a opção de carregar datasets maiores\n",
        "!spacy download pt_core_news_md"
      ],
      "metadata": {
        "id": "G1dmtDvBmT45",
        "colab": {
          "base_uri": "https://localhost:8080/"
        },
        "outputId": "4623bd75-c533-495d-8584-04f88d3bd1ed"
      },
      "execution_count": 6,
      "outputs": [
        {
          "output_type": "stream",
          "name": "stdout",
          "text": [
            "Collecting tensorflow-io\n",
            "  Downloading tensorflow_io-0.34.0-cp310-cp310-manylinux_2_12_x86_64.manylinux2010_x86_64.whl (28.8 MB)\n",
            "\u001b[2K     \u001b[90m━━━━━━━━━━━━━━━━━━━━━━━━━━━━━━━━━━━━━━━━\u001b[0m \u001b[32m28.8/28.8 MB\u001b[0m \u001b[31m52.0 MB/s\u001b[0m eta \u001b[36m0:00:00\u001b[0m\n",
            "\u001b[?25hRequirement already satisfied: tensorflow-io-gcs-filesystem==0.34.0 in /usr/local/lib/python3.10/dist-packages (from tensorflow-io) (0.34.0)\n",
            "Installing collected packages: tensorflow-io\n",
            "Successfully installed tensorflow-io-0.34.0\n",
            "Collecting kafka-python\n",
            "  Downloading kafka_python-2.0.2-py2.py3-none-any.whl (246 kB)\n",
            "\u001b[2K     \u001b[90m━━━━━━━━━━━━━━━━━━━━━━━━━━━━━━━━━━━━━━━━\u001b[0m \u001b[32m246.5/246.5 kB\u001b[0m \u001b[31m4.3 MB/s\u001b[0m eta \u001b[36m0:00:00\u001b[0m\n",
            "\u001b[?25hInstalling collected packages: kafka-python\n",
            "Successfully installed kafka-python-2.0.2\n",
            "Collecting Telethon\n",
            "  Downloading Telethon-1.33.0.tar.gz (568 kB)\n",
            "\u001b[2K     \u001b[90m━━━━━━━━━━━━━━━━━━━━━━━━━━━━━━━━━━━━━━━━\u001b[0m \u001b[32m568.8/568.8 kB\u001b[0m \u001b[31m7.5 MB/s\u001b[0m eta \u001b[36m0:00:00\u001b[0m\n",
            "\u001b[?25h  Installing build dependencies ... \u001b[?25l\u001b[?25hdone\n",
            "  Getting requirements to build wheel ... \u001b[?25l\u001b[?25hdone\n",
            "  Preparing metadata (pyproject.toml) ... \u001b[?25l\u001b[?25hdone\n",
            "Collecting pyaes (from Telethon)\n",
            "  Downloading pyaes-1.6.1.tar.gz (28 kB)\n",
            "  Preparing metadata (setup.py) ... \u001b[?25l\u001b[?25hdone\n",
            "Requirement already satisfied: rsa in /usr/local/lib/python3.10/dist-packages (from Telethon) (4.9)\n",
            "Requirement already satisfied: pyasn1>=0.1.3 in /usr/local/lib/python3.10/dist-packages (from rsa->Telethon) (0.5.1)\n",
            "Building wheels for collected packages: Telethon, pyaes\n",
            "  Building wheel for Telethon (pyproject.toml) ... \u001b[?25l\u001b[?25hdone\n",
            "  Created wheel for Telethon: filename=Telethon-1.33.0-py3-none-any.whl size=640886 sha256=aed7fd2ceea220a231ce1312b70e358f39bc8e44599c23e6e18f7e773808518b\n",
            "  Stored in directory: /root/.cache/pip/wheels/f6/2a/ce/8d4a70c27c49d4cfd7e38bff8aae2b0ac8990011cfe28e1ca8\n",
            "  Building wheel for pyaes (setup.py) ... \u001b[?25l\u001b[?25hdone\n",
            "  Created wheel for pyaes: filename=pyaes-1.6.1-py3-none-any.whl size=26346 sha256=88cc75d60c4d8443b9fc7463576b8c2e239c63c4518b01f11bf0c62afea0a752\n",
            "  Stored in directory: /root/.cache/pip/wheels/d6/84/5f/ea6aef85a93c7e1922486369874f4740a5642d261e09c59140\n",
            "Successfully built Telethon pyaes\n",
            "Installing collected packages: pyaes, Telethon\n",
            "Successfully installed Telethon-1.33.0 pyaes-1.6.1\n",
            "Requirement already satisfied: openpyxl in /usr/local/lib/python3.10/dist-packages (3.1.2)\n",
            "Requirement already satisfied: et-xmlfile in /usr/local/lib/python3.10/dist-packages (from openpyxl) (1.1.0)\n",
            "Collecting Unidecode\n",
            "  Downloading Unidecode-1.3.7-py3-none-any.whl (235 kB)\n",
            "\u001b[2K     \u001b[90m━━━━━━━━━━━━━━━━━━━━━━━━━━━━━━━━━━━━━━━━\u001b[0m \u001b[32m235.5/235.5 kB\u001b[0m \u001b[31m3.3 MB/s\u001b[0m eta \u001b[36m0:00:00\u001b[0m\n",
            "\u001b[?25hInstalling collected packages: Unidecode\n",
            "Successfully installed Unidecode-1.3.7\n",
            "Collecting yake\n",
            "  Downloading yake-0.4.8-py2.py3-none-any.whl (60 kB)\n",
            "\u001b[2K     \u001b[90m━━━━━━━━━━━━━━━━━━━━━━━━━━━━━━━━━━━━━━━━\u001b[0m \u001b[32m60.2/60.2 kB\u001b[0m \u001b[31m1.9 MB/s\u001b[0m eta \u001b[36m0:00:00\u001b[0m\n",
            "\u001b[?25hRequirement already satisfied: tabulate in /usr/local/lib/python3.10/dist-packages (from yake) (0.9.0)\n",
            "Requirement already satisfied: click>=6.0 in /usr/local/lib/python3.10/dist-packages (from yake) (8.1.7)\n",
            "Requirement already satisfied: numpy in /usr/local/lib/python3.10/dist-packages (from yake) (1.23.5)\n",
            "Collecting segtok (from yake)\n",
            "  Downloading segtok-1.5.11-py3-none-any.whl (24 kB)\n",
            "Requirement already satisfied: networkx in /usr/local/lib/python3.10/dist-packages (from yake) (3.2.1)\n",
            "Collecting jellyfish (from yake)\n",
            "  Downloading jellyfish-1.0.3-cp310-cp310-manylinux_2_17_x86_64.manylinux2014_x86_64.whl (1.2 MB)\n",
            "\u001b[2K     \u001b[90m━━━━━━━━━━━━━━━━━━━━━━━━━━━━━━━━━━━━━━━━\u001b[0m \u001b[32m1.2/1.2 MB\u001b[0m \u001b[31m19.4 MB/s\u001b[0m eta \u001b[36m0:00:00\u001b[0m\n",
            "\u001b[?25hRequirement already satisfied: regex in /usr/local/lib/python3.10/dist-packages (from segtok->yake) (2023.6.3)\n",
            "Installing collected packages: segtok, jellyfish, yake\n",
            "Successfully installed jellyfish-1.0.3 segtok-1.5.11 yake-0.4.8\n"
          ]
        }
      ]
    },
    {
      "cell_type": "code",
      "source": [
        "\n",
        "#Download e setup do Kafka e zookeeper\n",
        "!curl -sSOL https://archive.apache.org/dist/kafka/3.1.0/kafka_2.13-3.1.0.tgz\n"
      ],
      "metadata": {
        "id": "lvrMiB3IKqbH"
      },
      "execution_count": 7,
      "outputs": []
    },
    {
      "cell_type": "code",
      "source": [
        "!tar -xzf kafka_2.13-3.1.0.tgz"
      ],
      "metadata": {
        "id": "EyCHx-XzK9wk"
      },
      "execution_count": 8,
      "outputs": []
    },
    {
      "cell_type": "code",
      "source": [
        "!./kafka_2.13-3.1.0/bin/zookeeper-server-start.sh -daemon ./kafka_2.13-3.1.0/config/zookeeper.properties\n",
        "!./kafka_2.13-3.1.0/bin/kafka-server-start.sh -daemon ./kafka_2.13-3.1.0/config/server.properties\n",
        "!echo \"Waiting for 10 secs until kafka and zookeeper services are up and running\"\n",
        "!sleep 10"
      ],
      "metadata": {
        "colab": {
          "base_uri": "https://localhost:8080/"
        },
        "id": "5sDU6C6AK7HV",
        "outputId": "c928d043-f81c-431d-9a2c-bdaed4f0e90f"
      },
      "execution_count": 9,
      "outputs": [
        {
          "output_type": "stream",
          "name": "stdout",
          "text": [
            "Waiting for 10 secs until kafka and zookeeper services are up and running\n"
          ]
        }
      ]
    },
    {
      "cell_type": "code",
      "source": [
        "#Verifica o processo do kafka rodando na máquina\n",
        "!ps -ef | grep kafka"
      ],
      "metadata": {
        "colab": {
          "base_uri": "https://localhost:8080/"
        },
        "id": "Ii6tc3LJLnH0",
        "outputId": "666011a2-620b-4c45-f3f3-6e3146fb4805"
      },
      "execution_count": 10,
      "outputs": [
        {
          "output_type": "stream",
          "name": "stdout",
          "text": [
            "root        1932     242  0 21:04 ?        00:00:00 /bin/bash -c ps -ef | grep kafka\n",
            "root        1934    1932  0 21:04 ?        00:00:00 grep kafka\n"
          ]
        }
      ]
    },
    {
      "cell_type": "code",
      "source": [
        "admin_client = KafkaAdminClient(bootstrap_servers=\"localhost:9092\", client_id='Datathon')\n",
        "\n",
        "# Nome do tópico do Kafka utilizado na leitura em streaming\n",
        "topic_name=\"new-message\"\n",
        "#admin_client.delete_topics(topics=[topic_name])\n",
        "\n",
        "new_topic = NewTopic(name=topic_name, num_partitions= 5, replication_factor=1)\n",
        "topic_list = []\n",
        "topic_list.append(new_topic)\n",
        "\n",
        "#admin_client.create_topics(new_topics=topic_list)"
      ],
      "metadata": {
        "id": "6PIWd2BKUnjY"
      },
      "execution_count": 11,
      "outputs": []
    },
    {
      "cell_type": "markdown",
      "source": [
        "Extração dos textos do grupo de telegram\n",
        "\n",
        "Realizei os seguintes passos para obter as credenciais de acesso do Telegram:\n",
        "\n",
        "1) Acessei o site [my.telegram.org](https://);\n",
        "\n",
        "2) Informei o número do meu celular;\n",
        "\n",
        "3) Recebi um código de verificação;\n",
        "\n",
        "4) Digitei o código de verificação no site;\n",
        "\n",
        "5) Acessei a opção \"API development tools\", preenchi o formulário conforme\n",
        "imagem abaixo;\n",
        "\n",
        "6) Cliquei em \"Create application\";\n",
        "\n",
        "7) Recebi o App api_id e o App api_hash.\n",
        "\n",
        "![setAPITelegram.png](data:image/png;base64,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)\n",
        "\n",
        "Referências:\n",
        "https://www.itpanther.com/scrape-telegram-group-messages/\n",
        "https://arabic-telethon.readthedocs.io/en/stable/extra/examples/telegram-client.html#getting-messages"
      ],
      "metadata": {
        "id": "nrplzLFnnZc1"
      }
    },
    {
      "cell_type": "code",
      "source": [
        "#Leitura das credenciais de acesso ao telegram\n",
        "file_path = \"/content/telegram_app_configuration.json\"\n",
        "try:\n",
        "  with open(file_path, 'r') as f:\n",
        "    app_config = json.load(f)\n",
        "    api_id=app_config[\"api_id\"]\n",
        "    api_hash=app_config[\"api_hash\"]\n",
        "    phone_number=app_config[\"phone_number\"]\n",
        "    token_bot=app_config[\"token_bot\"]\n",
        "    print(\"Carregou as credenciais do telegram com sucesso.\")\n",
        "except Exception as error:\n",
        "  print(\"Falha ao carregar as credenciais do telegram.\")\n",
        "  print(\"É necessário fazer upload do arquivo de credenciais no google colab.\")\n",
        "  print(f\"Exceção: {error} \")"
      ],
      "metadata": {
        "colab": {
          "base_uri": "https://localhost:8080/"
        },
        "id": "9cG39xIint3P",
        "outputId": "47257524-5ecf-459b-adb4-655669798c4d"
      },
      "execution_count": 12,
      "outputs": [
        {
          "output_type": "stream",
          "name": "stdout",
          "text": [
            "Carregou as credenciais do telegram com sucesso.\n"
          ]
        }
      ]
    },
    {
      "cell_type": "code",
      "source": [
        "#Imprime o número de celular presente no arquivo de configuração\n",
        "print(\"Phone Number: \",phone_number)"
      ],
      "metadata": {
        "colab": {
          "base_uri": "https://localhost:8080/"
        },
        "id": "XZkRTCf4zKgc",
        "outputId": "dda79f76-80bf-4c38-9dba-e0f29e92a896"
      },
      "execution_count": 13,
      "outputs": [
        {
          "output_type": "stream",
          "name": "stdout",
          "text": [
            "Phone Number:  5561998210957\n"
          ]
        }
      ]
    },
    {
      "cell_type": "code",
      "source": [
        "async def get_chat_ids(client):\n",
        "  async for dialog in client.iter_dialogs():\n",
        "    if dialog.is_channel or dialog.is_group:\n",
        "      print(f\"{dialog.title}:{int(dialog.id)}\")\n",
        "\n",
        "\n",
        "nest_asyncio.apply()\n",
        "async with TelegramClient('datathon', api_id, api_hash) as client:\n",
        "  client.loop.run_until_complete(get_chat_ids(client))"
      ],
      "metadata": {
        "id": "NmYO10MEum9d",
        "colab": {
          "base_uri": "https://localhost:8080/"
        },
        "outputId": "93240ed1-30a6-473f-d5f7-907a1974ce02"
      },
      "execution_count": 15,
      "outputs": [
        {
          "output_type": "stream",
          "name": "stdout",
          "text": [
            "TesteDatathon1:-1002141343872\n",
            "datathon_equipe3:-4043521267\n",
            "TesteDatathon1:-4030344137\n",
            "Thiago and Um Pé:-4083684181\n"
          ]
        }
      ]
    },
    {
      "cell_type": "code",
      "source": [
        "#chat = \"jairbolsonarobrasil\"\n",
        "#chat = \"gconoticias\"\n",
        "chat = -1002141343872 #TesteDatathon1\n",
        "#chat = -4043521267 #datathon_equipe3"
      ],
      "metadata": {
        "id": "CKpoCWm5-bft"
      },
      "execution_count": 16,
      "outputs": []
    },
    {
      "cell_type": "code",
      "source": [
        "#Cria o produtor de mensagens do Kafka\n",
        "producer = KafkaProducer(bootstrap_servers=['127.0.0.1:9092'], value_serializer=lambda v: json.dumps(v).encode('utf-8'))\n",
        "#producer.close()"
      ],
      "metadata": {
        "id": "ZKHW5arWVT8W"
      },
      "execution_count": 17,
      "outputs": []
    },
    {
      "cell_type": "markdown",
      "source": [
        "Monitora as mensagens em tempo real"
      ],
      "metadata": {
        "id": "DfEvvDvHvp-a"
      }
    },
    {
      "cell_type": "code",
      "source": [
        "def extrai_informacoes_evento(event,client):\n",
        "  event_dict = event.to_dict()\n",
        "  message_dict = event_dict[\"message\"].to_dict()\n",
        "  if (message_dict['message'] == \"LOGOUT\"):\n",
        "    client.disconnect()\n",
        "\n",
        "  print(message_dict['date'])\n",
        "  print(message_dict['message'])\n",
        "  print(message_dict['from_id']['user_id'])\n",
        "  message_json = json.dumps(message_dict, indent = 4,sort_keys=True, default=str)\n",
        "  producer.send(topic_name, message_json)\n",
        "  producer.flush()"
      ],
      "metadata": {
        "id": "5cQVV2f325PK"
      },
      "execution_count": 18,
      "outputs": []
    },
    {
      "cell_type": "code",
      "source": [
        "# Dispara o recebimento de mensagens em tempo real\n",
        "# Referência: https://arabic-telethon.readthedocs.io/en/stable/extra/basic/working-with-updates.html\n",
        "async def get_new_messages(api_id, api_hash):\n",
        "  nest_asyncio.apply()\n",
        "  async with TelegramClient('datathon', api_id, api_hash) as client:\n",
        "    @client.on(events.NewMessage)\n",
        "    async def trata_novas_mensagens(event):\n",
        "      try:\n",
        "        await extrai_informacoes_evento(event,client)\n",
        "      except Exception as e:\n",
        "        #Pendência tratar exceção\n",
        "        print(e)\n",
        "        pass\n",
        "    try:\n",
        "      await client.run_until_disconnected()\n",
        "    except Exception as e:\n",
        "      #Pendência tratar exceção\n",
        "      print(e)\n",
        "      pass\n",
        "\n"
      ],
      "metadata": {
        "id": "wPMuxFdSCbKa"
      },
      "execution_count": 19,
      "outputs": []
    },
    {
      "cell_type": "code",
      "source": [
        "# Cria um thread para ficar recebendo as mensagens em background\n",
        "def run_get_new_messages(api_id, api_hash):\n",
        "  asyncio.run(get_new_messages(api_id, api_hash))\n",
        "\n",
        "thread_produtor = threading.Thread(target=run_get_new_messages, name=\"streaming\", args=[api_id, api_hash])\n",
        "thread_produtor.start()"
      ],
      "metadata": {
        "id": "HplRVwznmUBW"
      },
      "execution_count": 20,
      "outputs": []
    },
    {
      "cell_type": "code",
      "source": [
        "#Verifica se a thread ainda está sendo executada\n",
        "thread_produtor.is_alive()\n"
      ],
      "metadata": {
        "id": "f_Hj0b4msP_Y",
        "colab": {
          "base_uri": "https://localhost:8080/"
        },
        "outputId": "68756804-047c-46e6-f867-de1927c8bfae"
      },
      "execution_count": 21,
      "outputs": [
        {
          "output_type": "execute_result",
          "data": {
            "text/plain": [
              "True"
            ]
          },
          "metadata": {},
          "execution_count": 21
        }
      ]
    },
    {
      "cell_type": "code",
      "source": [
        "def classifica_novo_texto(model_name, news_text):\n",
        "  #Carrega o modelo treinado\n",
        "  file_name = model_name+'.pkl'\n",
        "  file_path=\"/content/\"+file_name\n",
        "  try:\n",
        "    with open(file_path, 'rb') as f:\n",
        "      model = pickle.load(f)\n",
        "      #Classifica o novo texto com o modelo\n",
        "      classificacao = model.predict(news_text)\n",
        "      return classificacao[0]\n",
        "  except Exception as error:\n",
        "    print(\"Falha ao carregar o modelo treinado.\")\n",
        "    print(f\"Exceção: {error} \")"
      ],
      "metadata": {
        "id": "-iCdv59wsj3X"
      },
      "execution_count": 22,
      "outputs": []
    },
    {
      "cell_type": "code",
      "source": [
        "#Baixa o modelo treinado\n",
        "model_name = \"RFC\"\n",
        "url = \"https://github.com/thiagomelostuckert/datathon-fakenews/raw/main/\"+model_name+\".pkl\"\n",
        "!wget $url"
      ],
      "metadata": {
        "id": "S17MPE6MslDp",
        "colab": {
          "base_uri": "https://localhost:8080/"
        },
        "outputId": "4298641d-bc09-410c-802b-b29852a03283"
      },
      "execution_count": 25,
      "outputs": [
        {
          "output_type": "stream",
          "name": "stdout",
          "text": [
            "--2023-12-03 21:05:33--  https://github.com/thiagomelostuckert/datathon-fakenews/raw/main/RFC.pkl\n",
            "Resolving github.com (github.com)... 140.82.113.4\n",
            "Connecting to github.com (github.com)|140.82.113.4|:443... connected.\n",
            "HTTP request sent, awaiting response... 302 Found\n",
            "Location: https://raw.githubusercontent.com/thiagomelostuckert/datathon-fakenews/main/RFC.pkl [following]\n",
            "--2023-12-03 21:05:33--  https://raw.githubusercontent.com/thiagomelostuckert/datathon-fakenews/main/RFC.pkl\n",
            "Resolving raw.githubusercontent.com (raw.githubusercontent.com)... 185.199.111.133, 185.199.109.133, 185.199.108.133, ...\n",
            "Connecting to raw.githubusercontent.com (raw.githubusercontent.com)|185.199.111.133|:443... connected.\n",
            "HTTP request sent, awaiting response... 200 OK\n",
            "Length: 10391204 (9.9M) [application/octet-stream]\n",
            "Saving to: ‘RFC.pkl’\n",
            "\n",
            "RFC.pkl             100%[===================>]   9.91M  --.-KB/s    in 0.1s    \n",
            "\n",
            "2023-12-03 21:05:34 (80.4 MB/s) - ‘RFC.pkl’ saved [10391204/10391204]\n",
            "\n"
          ]
        }
      ]
    },
    {
      "cell_type": "code",
      "source": [
        "#metadata3 = category\n",
        "def get_category(text):\n",
        "  language = \"pt\"\n",
        "  max_ngram_size = 1\n",
        "  deduplication_threshold = 0.9\n",
        "  deduplication_algo = 'seqm'\n",
        "  windowSize = 1\n",
        "  numOfKeywords = 5\n",
        "\n",
        "  custom_kw_extractor = yake.KeywordExtractor(lan=language, n=max_ngram_size, dedupLim=deduplication_threshold, dedupFunc=deduplication_algo, windowsSize=windowSize, top=numOfKeywords, features=None)\n",
        "  keywords_set = custom_kw_extractor.extract_keywords(text)\n",
        "  keywords = []\n",
        "  for kw in keywords_set:\n",
        "    keywords.append(kw[0])\n",
        "  return str(keywords)\n",
        "\n"
      ],
      "metadata": {
        "id": "aVeLPX03-Nq-"
      },
      "execution_count": 26,
      "outputs": []
    },
    {
      "cell_type": "code",
      "source": [
        "# metadata5 = number of tokens\n",
        "def get_num_tokens(nlp_pt,text):\n",
        "  #Uma abordagem mais simples\n",
        "  #tokens = text.split()\n",
        "  #return len(tokens)\n",
        "\n",
        "  #Adiciona esse parâmetro para contar ponto-final.\n",
        "  suffix_re = re.compile(r'''\\.$''')\n",
        "  tokenizer = Tokenizer(nlp_pt.vocab, suffix_search=suffix_re.search)\n",
        "\n",
        "  tokens = tokenizer(text)\n",
        "  return len(tokens)\n",
        "\n"
      ],
      "metadata": {
        "id": "6AP9DnCmDMQq"
      },
      "execution_count": 27,
      "outputs": []
    },
    {
      "cell_type": "code",
      "source": [
        " #metadata6 = number of words without punctuation\n",
        " def get_number_words_without_punctuation(doc_pt):\n",
        "  num_words = 0\n",
        "  for token in doc_pt:\n",
        "    if not token.is_punct:\n",
        "      token_original = str(token)\n",
        "      token_decode = unidecode(token_original)\n",
        "      if token_decode == token_original:\n",
        "        num_words = num_words + 1\n",
        "  return num_words\n",
        "\n",
        "\n"
      ],
      "metadata": {
        "id": "fzkXgFm1DiZC"
      },
      "execution_count": 28,
      "outputs": []
    },
    {
      "cell_type": "code",
      "source": [
        " #metadata7 = number of types\n",
        "def get_num_palavras_unicas(doc_pt):\n",
        "  words = set()\n",
        "  for token in doc_pt:\n",
        "    token_str = str(token)\n",
        "    result = re.search(\"[a-z]+\", token_str, re.IGNORECASE)\n",
        "    if result is not None:\n",
        "      words.add(token_str)\n",
        "  return len(words)\n",
        "\n"
      ],
      "metadata": {
        "id": "9L548crzD6Rp"
      },
      "execution_count": 29,
      "outputs": []
    },
    {
      "cell_type": "code",
      "source": [
        "# metadata9 = number of words in upper case\n",
        "def get_number_words_in_upper_case(doc_pt):\n",
        "  num_words = 0\n",
        "  for token in doc_pt:\n",
        "    if token.is_upper:\n",
        "      num_words = num_words + 1\n",
        "  return num_words\n",
        "\n"
      ],
      "metadata": {
        "id": "9m2YgfzKESDS"
      },
      "execution_count": 30,
      "outputs": []
    },
    {
      "cell_type": "code",
      "source": [
        "#  metadata10 = number of verbs\n",
        "def get_number_of_verbs(doc_folha):\n",
        "  num_verbs = 0\n",
        "  for token in doc_folha:\n",
        "    if token.pos_ == 'VERB':\n",
        "      num_verbs = num_verbs + 1\n",
        "  return num_verbs\n",
        "\n"
      ],
      "metadata": {
        "id": "fow8VNKVEsTM"
      },
      "execution_count": 31,
      "outputs": []
    },
    {
      "cell_type": "code",
      "source": [
        "#metadata12 = number of nouns\n",
        "def get_number_nouns(doc_folha):\n",
        "  num_nouns = 0\n",
        "  for token in doc_folha:\n",
        "    if token.pos_ == 'NOUN':\n",
        "      num_nouns = num_nouns + 1\n",
        "  return num_nouns\n",
        "\n"
      ],
      "metadata": {
        "id": "W6ct4PzNFFd4"
      },
      "execution_count": 32,
      "outputs": []
    },
    {
      "cell_type": "code",
      "source": [
        " #metadata13 = number of adjectives\n",
        "def get_number_adjectives(doc_folha):\n",
        "  number_adjectives = 0\n",
        "  for token in doc_folha:\n",
        "    if token.pos_ == 'ADJ':\n",
        "      number_adjectives = number_adjectives + 1\n",
        "  return number_adjectives\n",
        "\n"
      ],
      "metadata": {
        "id": "Ho5ikYbFFN0a"
      },
      "execution_count": 33,
      "outputs": []
    },
    {
      "cell_type": "code",
      "source": [
        "# metadata14 = number of adverbs\n",
        "def get_number_adverbs(doc_folha):\n",
        "  number_adverbs = 0\n",
        "  for token in doc_folha:\n",
        "    if token.pos_ == 'ADV':\n",
        "      number_adverbs = number_adverbs + 1\n",
        "  return number_adverbs\n",
        "\n"
      ],
      "metadata": {
        "id": "dCu661UMFW4Q"
      },
      "execution_count": 34,
      "outputs": []
    },
    {
      "cell_type": "code",
      "source": [
        "#  metadata15 = number of modal verbs (mainly auxiliary verbs)\n",
        "# Pendência: contando apenas os verbos auxiliares\n",
        "\n",
        "def get_auxiliary_verbs(doc_folha):\n",
        "  number_auxiliary_verbs = 0\n",
        "  for token in doc_folha:\n",
        "    if token.pos_ == 'AUX':\n",
        "      number_auxiliary_verbs = number_auxiliary_verbs + 1\n",
        "  return number_auxiliary_verbs\n",
        "\n"
      ],
      "metadata": {
        "id": "fSQ4yIpUFevD"
      },
      "execution_count": 35,
      "outputs": []
    },
    {
      "cell_type": "code",
      "source": [
        "#  metadata16 = number of singular first and second personal pronouns\n",
        "# Primeira pessoa do singular: eu, me, mim, comigo\n",
        "# Segunda pessoa do singular: tu, te, ti, contigo\n",
        "def get_first_second_personal_pronouns(doc_folha):\n",
        "  number_pronouns = 0\n",
        "  for token in doc_folha:\n",
        "    if token.pos_ == 'PRON':\n",
        "      if str(token).lower() in [\"eu\", \"me\", \"mim\", \"comigo\", \"tu\", \"te\", \"ti\", \"contigo\"]:\n",
        "        number_pronouns = number_pronouns + 1\n",
        "  return number_pronouns\n",
        "\n"
      ],
      "metadata": {
        "id": "gDd3-hfZF4Od"
      },
      "execution_count": 36,
      "outputs": []
    },
    {
      "cell_type": "code",
      "source": [
        "def get_personal_pronouns(doc_folha):\n",
        "  number_pronouns = 0\n",
        "  for token in doc_folha:\n",
        "    if token.pos_ == 'PRON':\n",
        "      if str(token).lower() in [\"nós\", \"nos\", \"conosco\"]:\n",
        "        number_pronouns = number_pronouns + 1\n",
        "  return number_pronouns\n",
        "\n"
      ],
      "metadata": {
        "id": "PJ6_Bf6QGB70"
      },
      "execution_count": 37,
      "outputs": []
    },
    {
      "cell_type": "code",
      "source": [
        "#  metadata18 = number of pronouns\n",
        "def get_num_pronouns(doc_folha):\n",
        "  number_pronouns = 0\n",
        "  for token in doc_folha:\n",
        "    if token.pos_ == 'PRON':\n",
        "      number_pronouns = number_pronouns + 1\n",
        "  return number_pronouns\n",
        "\n"
      ],
      "metadata": {
        "id": "FBi9GfuqGKOJ"
      },
      "execution_count": 38,
      "outputs": []
    },
    {
      "cell_type": "code",
      "source": [
        "def get_num_sentencas(text):\n",
        "  result = re.findall(\"[(.|?|!)*]+\", text, re.IGNORECASE)\n",
        "  num_sentencas = len(result)\n",
        "  return num_sentencas"
      ],
      "metadata": {
        "id": "dH-9norQGUfz"
      },
      "execution_count": 39,
      "outputs": []
    },
    {
      "cell_type": "code",
      "source": [
        "# metadata19 = pausality\n",
        "################################\n",
        "# Pendência: consideramos apenas a vírgula como sinal de pontuação\n",
        "#################################\n",
        "def get_pausality(text):\n",
        "  result = re.findall(\"[(,)*]+\", text, re.IGNORECASE)\n",
        "  num_virgulas = len(result)\n",
        "  num_sentencas = get_num_sentencas(text)\n",
        "  if num_sentencas == 0:\n",
        "    pausality = 0\n",
        "  else:\n",
        "    pausality = num_virgulas / num_sentencas\n",
        "  return pausality\n",
        "\n"
      ],
      "metadata": {
        "id": "B4s9fqFOGYyi"
      },
      "execution_count": 40,
      "outputs": []
    },
    {
      "cell_type": "code",
      "source": [
        "#Referência https://spacy.io/api/token\n",
        "def get_num_palavras(doc_pt):\n",
        "  num_words = 0\n",
        "  for token in doc_pt:\n",
        "    #Estratégia de verificação anterior com o token.is_alpha não reconhecia palavras que estavam fora do corpus\n",
        "    #if token.is_alpha:\n",
        "    result = re.search(\"[a-z]+\", str(token), re.IGNORECASE)\n",
        "    if result is not None:\n",
        "      num_words = num_words + 1\n",
        "  return num_words"
      ],
      "metadata": {
        "id": "0Mc-1q84GkcH"
      },
      "execution_count": 41,
      "outputs": []
    },
    {
      "cell_type": "code",
      "source": [
        "#  metadata20 = number of characters\n",
        "def get_num_caracteres(doc_pt):\n",
        "  num_caracteres = 0\n",
        "  for token in doc_pt:\n",
        "    token_str = str(token)\n",
        "    result = re.search(\"[\\w]+\", token_str, re.IGNORECASE)\n",
        "    if result is not None:\n",
        "      num_caracteres = num_caracteres + len(token_str)\n",
        "  return num_caracteres\n",
        "\n"
      ],
      "metadata": {
        "id": "kBToZkkRGrff"
      },
      "execution_count": 42,
      "outputs": []
    },
    {
      "cell_type": "code",
      "source": [
        "#  metadata21 = average sentence length\n",
        "def get_tamanho_medio_sentenca(text,doc_pt):\n",
        "  num_sentencas = get_num_sentencas(text)\n",
        "  if num_sentencas == 0:\n",
        "    return 0\n",
        "  else:\n",
        "    return get_num_palavras(doc_pt)/num_sentencas\n",
        "\n"
      ],
      "metadata": {
        "id": "QP8rW0_vGz4N"
      },
      "execution_count": 43,
      "outputs": []
    },
    {
      "cell_type": "code",
      "source": [
        "# metadata22 = average word length\n",
        "def get_tamanho_medio_palavras(doc_pt):\n",
        "  num_palavras = get_num_palavras(doc_pt)\n",
        "  if num_palavras == 0:\n",
        "    return 0\n",
        "  else:\n",
        "    return get_num_caracteres(doc_pt)/num_palavras\n"
      ],
      "metadata": {
        "id": "oNb1Hf8cHNSc"
      },
      "execution_count": 44,
      "outputs": []
    },
    {
      "cell_type": "code",
      "source": [
        "# metadata24 = emotiveness\n",
        "def get_emotiveness(doc_folha, doc_pt):\n",
        "  number_of_verbs = get_number_of_verbs(doc_folha)\n",
        "  if number_of_verbs == 0:\n",
        "    return 0\n",
        "  else:\n",
        "    emotiveness = get_num_palavras(doc_pt) / number_of_verbs\n",
        "  return emotiveness\n",
        "\n"
      ],
      "metadata": {
        "id": "PZIRbolWHblF"
      },
      "execution_count": 45,
      "outputs": []
    },
    {
      "cell_type": "code",
      "source": [
        "#  metadata25 = diversity\n",
        "def get_diversity(doc_pt):\n",
        "  diversity = get_num_palavras_unicas(doc_pt) / get_num_palavras(doc_pt)\n",
        "  return diversity\n",
        "\n"
      ],
      "metadata": {
        "id": "9F3vGlQwHsKR"
      },
      "execution_count": 46,
      "outputs": []
    },
    {
      "cell_type": "code",
      "source": [
        "# metadata26 = incerteza\n",
        "# Pendente: a função que obtém os verbos modais e auxiliares está obtendo apenas os auxiliares\n",
        "def get_incerteza(doc_folha,doc_pt):\n",
        "  num_palavras = get_num_palavras(doc_pt)\n",
        "  incerteza = 0\n",
        "  if num_palavras != 0:\n",
        "    incerteza = get_auxiliary_verbs(doc_folha) / num_palavras\n",
        "  return incerteza\n",
        "\n",
        "\n"
      ],
      "metadata": {
        "id": "XXovuh469QjE"
      },
      "execution_count": 47,
      "outputs": []
    },
    {
      "cell_type": "code",
      "source": [
        "#Utilizado para obter os próximos metadados\n",
        "nlp_pt = Portuguese()\n",
        "#Podemos analisar as classes gramaticais das palavras utilizadas nos textos verdadeiros e falsos\n",
        "nlp_folha = spacy.load(\"pt_core_news_md\")\n",
        "\n",
        "def enriquece_metadados(df,nlp_pt,nlp_folha):\n",
        "  df[\"doc_pt\"] = df.apply(lambda x: nlp_pt(x.text) , axis=1)\n",
        "  df[\"doc_folha\"] = df.apply(lambda x: nlp_folha(x.text) , axis=1)\n",
        "  df[\"metadata3\"] = df.apply(lambda x: get_category(x.text) , axis=1)\n",
        "  df[\"metadata5\"] = df.apply(lambda x: get_num_tokens(nlp_pt,x.text), axis=1)\n",
        "  df[\"metadata6\"] = df.apply(lambda x: get_number_words_without_punctuation(x.doc_pt), axis=1)\n",
        "  df[\"metadata7\"] = df.apply(lambda x: get_num_palavras_unicas(x.doc_pt), axis=1)\n",
        "  df[\"metadata8\"] = df.apply(lambda x: \"Pendente\", axis=1)\n",
        "  df[\"metadata9\"] = df.apply(lambda x: get_number_words_in_upper_case(x.doc_pt), axis=1)\n",
        "  df[\"metadata10\"] = df.apply(lambda x: get_number_of_verbs(x.doc_folha), axis=1)\n",
        "  df[\"metadata11\"] = df.apply(lambda x: \"Pendente\", axis=1)\n",
        "  df[\"metadata12\"] = df.apply(lambda x: get_number_nouns(x.doc_folha), axis=1)\n",
        "  df[\"metadata13\"] = df.apply(lambda x: get_number_adjectives(x.doc_folha), axis=1)\n",
        "  df[\"metadata14\"] = df.apply(lambda x: get_number_adverbs(x.doc_folha), axis=1)\n",
        "  df[\"metadata15\"] = df.apply(lambda x: get_auxiliary_verbs(x.doc_folha), axis=1)\n",
        "  df[\"metadata16\"] = df.apply(lambda x: get_first_second_personal_pronouns(x.doc_folha), axis=1)\n",
        "  df[\"metadata17\"] = df.apply(lambda x: get_personal_pronouns(x.doc_folha), axis=1)\n",
        "  df[\"metadata18\"] = df.apply(lambda x: get_num_pronouns(x.doc_folha), axis=1)\n",
        "  df[\"metadata19\"] = df.apply(lambda x: get_pausality(x.text), axis=1)\n",
        "  df[\"metadata20\"] = df.apply(lambda x: get_num_caracteres(x.doc_pt), axis=1)\n",
        "  df[\"metadata21\"] = df.apply(lambda x: get_tamanho_medio_sentenca(x.text,x.doc_pt), axis=1)\n",
        "  df[\"metadata22\"] = df.apply(lambda x: get_tamanho_medio_palavras(x.doc_pt), axis=1)\n",
        "  df[\"metadata23\"] = \"Pendente\"\n",
        "  df[\"metadata24\"] = df.apply(lambda x: get_emotiveness(x.doc_folha,x.doc_pt), axis=1)\n",
        "  df[\"metadata25\"] = df.apply(lambda x: get_diversity(x.doc_pt), axis=1)\n",
        "  df[\"metadata26\"] = df.apply(lambda x: get_incerteza(x.doc_folha, x.doc_pt), axis=1)\n",
        "  return df"
      ],
      "metadata": {
        "id": "sNPkvI3rcezL"
      },
      "execution_count": 50,
      "outputs": []
    },
    {
      "cell_type": "code",
      "source": [
        "def sort_drop_columns(df):\n",
        "  #após acabar de calcular os metadados apagar as colunas doc_pt e doc_folha\n",
        "  df = df.drop(columns=[\"doc_pt\",\"doc_folha\"])\n",
        "\n",
        "  #Reordenar as colunas para ficar de acordo com a planilha\n",
        "  df = df.reindex(columns=['received_timestamp', 'inference_timestamp','predicted_label','text',\n",
        "  'metadata1', 'metadata2', 'metadata3','metadata4','metadata5',\n",
        "  'metadata6', 'metadata7', 'metadata8', 'metadata9', 'metadata10',\n",
        "  'metadata11', 'metadata12', 'metadata13','metadata14', 'metadata15',\n",
        "  'metadata16','metadata17', 'metadata18', 'metadata22', 'metadata23',\n",
        "  'metadata24','metadata25', 'metadata26'])\n",
        "  return df"
      ],
      "metadata": {
        "id": "NchY-jFMa0IE"
      },
      "execution_count": 51,
      "outputs": []
    },
    {
      "cell_type": "code",
      "source": [
        "Primeira_mensagem = True"
      ],
      "metadata": {
        "id": "AOYKftp4YjwH"
      },
      "execution_count": 63,
      "outputs": []
    },
    {
      "cell_type": "code",
      "source": [
        "def consome_mensagens(consumer,chat,nlp_pt,nlp_folha,model_name,Primeira_mensagem):\n",
        "  while True:\n",
        "    for msg in consumer:\n",
        "      message = json.loads(json.loads(msg.value))\n",
        "\n",
        "      #Obtém o identificador do chat\n",
        "      peer_id = message[\"peer_id\"]\n",
        "      if \"chat_id\" in peer_id:\n",
        "        chat_id = peer_id[\"chat_id\"]\n",
        "      elif \"channel_id\" in peer_id:\n",
        "        chat_id = peer_id[\"channel_id\"]\n",
        "      else:\n",
        "        chat_id = \"\"\n",
        "\n",
        "\n",
        "      data = {\"received_timestamp\": datetime.now(),\n",
        "              \"text\" : message[\"message\"],\n",
        "              \"metadata1\":message[\"from_id\"][\"user_id\"],\n",
        "              \"metadata2\":\"Pendente\",\n",
        "              \"metadata4\": message[\"date\"],\n",
        "              \"id\": message[\"id\"],\n",
        "              \"chat_id\": chat_id,\n",
        "              \"mentioned\" : message[\"mentioned\"],\n",
        "              \"media_unread\": message[\"media_unread\"],\n",
        "               \"silent\": message[\"silent\"],\n",
        "              \"post\": message[\"post\"],\n",
        "              \"from_scheduled\":message[\"from_scheduled\"],\n",
        "              \"legacy\": message[\"legacy\"],\n",
        "              \"edit_hide\":message[\"edit_hide\"],\n",
        "              \"pinned\": message[\"pinned\"],\n",
        "              \"noforwards\": message[\"noforwards\"],\n",
        "              \"invert_media\": message[\"invert_media\"],\n",
        "              \"fwd_from\":message[\"fwd_from\"],\n",
        "             \"via_bot_id\": message[\"via_bot_id\"],\n",
        "             \"reply_to\":message[\"reply_to\"],\n",
        "             \"media\":message[\"media\"],\n",
        "             \"reply_markup\":message[\"reply_markup\"],\n",
        "             \"entities\":message[\"entities\"],\n",
        "             \"views\":message[\"views\"],\n",
        "             \"forwards\":message[\"forwards\"],\n",
        "             \"replies\":message[\"replies\"],\n",
        "             \"edit_date\":message[\"edit_date\"],\n",
        "             \"post_author\":message[\"post_author\"],\n",
        "             \"grouped_id\":message[\"grouped_id\"],\n",
        "             \"reactions\":message[\"reactions\"],\n",
        "             \"restriction_reason\":message[\"restriction_reason\"],\n",
        "             \"ttl_period\":message[\"ttl_period\"]\n",
        "        }\n",
        "\n",
        "      df = pd.json_normalize(data)\n",
        "      df[\"predicted_label\"] = df.apply(lambda x:  classifica_novo_texto(model_name, [x[\"text\"]]) , axis=1)\n",
        "      df[\"inference_timestamp\"] = datetime.now()\n",
        "\n",
        "      df = enriquece_metadados(df,nlp_pt,nlp_folha)\n",
        "      df = sort_drop_columns(df)\n",
        "\n",
        "\n",
        "      filename = \"mensagens-\"+str(chat)+\".csv\"\n",
        "      if Primeira_mensagem == True:\n",
        "        df.to_csv(filename, mode='a', index=False, header=True)\n",
        "        Primeira_mensagem = False\n",
        "      else:\n",
        "        df.to_csv(filename, mode='a', index=False, header=False)\n",
        "\n",
        "consumer = KafkaConsumer(topic_name,\n",
        "                        group_id=None,\n",
        "                         bootstrap_servers=['localhost:9092'],\n",
        "                         auto_offset_reset = 'earliest')\n",
        "\n",
        "#consome_mensagens(consumer,chat,nlp_pt,nlp_folha,model_name,Primeira_mensagem)\n",
        "thread_consumidor = threading.Thread(target=consome_mensagens, name=\"Consumidor\", args=[consumer,chat,nlp_pt,nlp_folha,model_name,Primeira_mensagem])\n",
        "thread_consumidor.start()"
      ],
      "metadata": {
        "colab": {
          "base_uri": "https://localhost:8080/"
        },
        "id": "xeGttlg-XtLY",
        "outputId": "07afda68-ec29-43ae-ff2d-ad8e8dc4eb88"
      },
      "execution_count": 65,
      "outputs": [
        {
          "output_type": "stream",
          "name": "stderr",
          "text": [
            "WARNING:kafka.coordinator.consumer:group_id is None: disabling auto-commit.\n"
          ]
        }
      ]
    },
    {
      "cell_type": "code",
      "source": [
        "thread_consumidor.is_alive()"
      ],
      "metadata": {
        "colab": {
          "base_uri": "https://localhost:8080/"
        },
        "id": "9p3kl5RpKXkJ",
        "outputId": "34ef602e-eefc-4ea3-e863-c0a4cc4128f1"
      },
      "execution_count": 66,
      "outputs": [
        {
          "output_type": "execute_result",
          "data": {
            "text/plain": [
              "True"
            ]
          },
          "metadata": {},
          "execution_count": 66
        }
      ]
    },
    {
      "cell_type": "code",
      "source": [
        "# Popula o grupo com notícias\n",
        "nest_asyncio.apply()\n",
        "async def send_messages(group_id, messages):\n",
        "    client = TelegramClient('datathon_insere_mensagens', api_id, api_hash)\n",
        "    await client.connect()\n",
        "    await client.start()\n",
        "\n",
        "    for message in messages:\n",
        "        print('Sending message!')\n",
        "        await client.send_message(group_id, message)\n",
        "        await asyncio.sleep(30)\n",
        "\n",
        "    await client.disconnect()\n",
        "messages = []\n",
        "asyncio.run(send_messages(chat, messages))"
      ],
      "metadata": {
        "colab": {
          "base_uri": "https://localhost:8080/"
        },
        "id": "uTZm6toj_msy",
        "outputId": "593e7c8e-b9d5-470a-d612-23a075dcaedf"
      },
      "execution_count": null,
      "outputs": [
        {
          "output_type": "stream",
          "name": "stdout",
          "text": [
            "Please enter your phone (or bot token): 5561998210957\n",
            "Please enter the code you received: 56366\n",
            "Signed in successfully as Thiago Melo; remember to not break the ToS or you will risk an account ban!\n"
          ]
        }
      ]
    },
    {
      "cell_type": "code",
      "source": [
        "# Popula o grupo com notícias extraídas de outro dataset\n",
        "#Utiliza notícias pré-processadas\n",
        "url=\"https://raw.githubusercontent.com/thiagomelostuckert/datathon-fakenews/main/pre-processed.csv\"\n",
        "df_send_texts = pd.read_csv(url,on_bad_lines = 'warn')\n",
        "\n",
        "#Seleciona N notícias aleatórias para enviar no grupo\n",
        "n = 0\n",
        "df_aleatorias = df_send_texts.sample(n)\n",
        "\n",
        "#Tamanho máximo da mensagem a ser enviada\n",
        "MAX_LEN=4096\n",
        "\n",
        "async def send_random_messages(client, chat, df_aleatorias):\n",
        "  for news_text in df_aleatorias[\"preprocessed_news\"]:\n",
        "    await client.send_message(chat, news_text[:MAX_LEN])\n",
        "\n",
        "#Esse comando nest_asyncio permite rodar mais de um loop ao mesmo tempo\n",
        "nest_asyncio.apply()\n",
        "async with TelegramClient('datathon', api_id, api_hash) as client:\n",
        "  client.loop.run_until_complete(send_random_messages(client, chat, df_aleatorias))"
      ],
      "metadata": {
        "id": "S3BepxfivMNp"
      },
      "execution_count": null,
      "outputs": []
    },
    {
      "cell_type": "code",
      "source": [],
      "metadata": {
        "id": "YHHwOVScIsq_"
      },
      "execution_count": null,
      "outputs": []
    },
    {
      "cell_type": "code",
      "source": [
        "# Obtém as mensagens do grupo\n",
        "# Referências\n",
        "# Dados obtidos das mensagens: https://core.telegram.org/constructor/message\n",
        "# Objeto message da biblioteca Telethon: https://docs.telethon.dev/en/stable/quick-references/objects-reference.html#message\n",
        "# Biblioteca que consume a API do Telegram:\n",
        "#https://buildmedia.readthedocs.org/media/pdf/telethon/stable/telethon.pdf\n",
        "\n",
        "async def get_all_messages(client,chat):\n",
        "  df = pd.DataFrame()\n",
        "  async for message in client.iter_messages(chat):\n",
        "    if(str(type(message)) !=  \"<class 'telethon.tl.patched.MessageService'>\"):\n",
        "      #Não captura mensagens de serviço, que não são mensagens de usuários\n",
        "      data = {\"received_timestamp\": datetime.now(),\n",
        "              \"text\" : message.message,\n",
        "              \"metadata1\":message.from_id.user_id,\n",
        "              \"metadata2\":\"Pendente\",\n",
        "              \"metadata4\": message.date,\n",
        "              \"id\": message.id,\n",
        "              \"chat_id\": message.peer_id.chat_id,\n",
        "              \"mentioned\" : message.mentioned,\n",
        "              \"media_unread\": message.media_unread,\n",
        "               \"silent\": message.silent,\n",
        "              \"post\": message.post,\n",
        "              \"from_scheduled\":message.from_scheduled,\n",
        "              \"legacy\": message.legacy,\n",
        "              \"edit_hide\":message.edit_hide,\n",
        "              \"pinned\": message.pinned,\n",
        "              \"noforwards\": message.noforwards,\n",
        "              \"invert_media\": message.invert_media,\n",
        "              \"fwd_from\":message.fwd_from,\n",
        "             \"via_bot_id\": message.via_bot_id,\n",
        "             \"reply_to\":message.reply_to,\n",
        "             \"media\":message.media,\n",
        "             \"reply_markup\":message.reply_markup,\n",
        "             \"entities\":message.entities,\n",
        "             \"views\":message.views,\n",
        "             \"forwards\":message.forwards,\n",
        "             \"replies\":message.replies,\n",
        "             \"edit_date\":message.edit_date,\n",
        "             \"post_author\":message.post_author,\n",
        "             \"grouped_id\":message.grouped_id,\n",
        "             \"reactions\":message.reactions,\n",
        "             \"restriction_reason\":message.restriction_reason,\n",
        "             \"ttl_period\":message.ttl_period\n",
        "      }\n",
        "\n",
        "\n",
        "      temp_df = pd.DataFrame(data, index=[1])\n",
        "      df = pd.concat([temp_df, df])\n",
        "  return df"
      ],
      "metadata": {
        "id": "B2iefTbCD-J_"
      },
      "execution_count": null,
      "outputs": []
    },
    {
      "cell_type": "code",
      "source": [
        "nest_asyncio.apply()\n",
        "async with TelegramClient('datathon', api_id, api_hash) as client:\n",
        "  df = client.loop.run_until_complete(get_all_messages(client, chat))"
      ],
      "metadata": {
        "id": "v_sJGc0lIMK7"
      },
      "execution_count": null,
      "outputs": []
    },
    {
      "cell_type": "code",
      "source": [
        "if chat == -4043521267:\n",
        "  #Desconsidera as primeiras duas mensagens\n",
        "  df = df.iloc[2:]\n"
      ],
      "metadata": {
        "id": "4Du5ZwfzFQi-"
      },
      "execution_count": null,
      "outputs": []
    },
    {
      "cell_type": "code",
      "source": [
        "#Mostra a quantidade de mensagens que foi obtida e quantas colunas foram preenchidas\n",
        "#df.shape"
      ],
      "metadata": {
        "id": "jLNd3_JXBZcA"
      },
      "execution_count": null,
      "outputs": []
    },
    {
      "cell_type": "markdown",
      "source": [
        "Classifica as mensagens obtidas do grupo do telegram"
      ],
      "metadata": {
        "id": "Na30wnkLrh9-"
      }
    },
    {
      "cell_type": "code",
      "source": [
        "#Apresenta algumas mensagens\n",
        "#print(df.head())"
      ],
      "metadata": {
        "id": "pyth2BJvIGpH"
      },
      "execution_count": null,
      "outputs": []
    },
    {
      "cell_type": "code",
      "source": [
        "#Classifica as mensagens baixadas\n",
        "df[\"predicted_label\"] = df.apply(lambda x:  classifica_novo_texto(model_name, [x[\"text\"]]) , axis=1)\n",
        "df[\"inference_timestamp\"] = datetime.now()"
      ],
      "metadata": {
        "id": "AX4niO66nVt0"
      },
      "execution_count": null,
      "outputs": []
    },
    {
      "cell_type": "markdown",
      "source": [
        "Enriquecimento com as pistas linguísticas"
      ],
      "metadata": {
        "id": "Wjtibcy8-FWz"
      }
    },
    {
      "cell_type": "code",
      "source": [
        "df = enriquece_metadados(df,nlp_pt,nlp_folha)\n",
        "df = sort_drop_columns(df)\n"
      ],
      "metadata": {
        "id": "usCHTzZyakIL"
      },
      "execution_count": null,
      "outputs": []
    },
    {
      "cell_type": "markdown",
      "source": [
        "Persistência do dado em arquivo"
      ],
      "metadata": {
        "id": "6DE5_Zsi-LBs"
      }
    },
    {
      "cell_type": "code",
      "source": [
        "#Gera o arquivo das mensagens no formato csv\n",
        "tempo = datetime.now().strftime(\"-%Y-%m-%d-%H:%M:%S\")\n",
        "file_name = \"mensagens-\"+str(chat)+tempo+\".csv\"\n",
        "df.to_csv(file_name, index=False)"
      ],
      "metadata": {
        "id": "7dfKZNZbE9wF"
      },
      "execution_count": null,
      "outputs": []
    },
    {
      "cell_type": "code",
      "source": [
        "#df_grupos = df[['Identificador_Grupo']]\n",
        "#df_grupos = df_grupos.rename(columns={\"Identificador_Grupo\":\"Id\"})\n",
        "#df_grupos = df_grupos.drop_duplicates()\n",
        "\n",
        "df_usuarios = df[['metadata1']]\n",
        "df_usuarios = df_usuarios.rename(columns={\"metadata1\":\"Id\"})\n",
        "df_usuarios = df_usuarios.drop_duplicates()"
      ],
      "metadata": {
        "id": "OeYxYN5bWxG_"
      },
      "execution_count": null,
      "outputs": []
    },
    {
      "cell_type": "code",
      "source": [
        "# Obtém o nome do grupo e do usuário emissor da mensagem pelo identificador\n",
        "#https://docs.telethon.dev/en/stable/modules/utils.html\n",
        "async def get_name(id):\n",
        "  async with TelegramClient('datathon', api_id, api_hash) as client:\n",
        "    entity = await client.get_entity(id)\n",
        "    nome = utils.get_display_name(entity)\n",
        "    return nome"
      ],
      "metadata": {
        "id": "xs4kkwsQhdRM"
      },
      "execution_count": null,
      "outputs": []
    },
    {
      "cell_type": "code",
      "source": [
        "#df_grupos[\"Nome\"] = await asyncio.gather(*(get_name(id) for id in df_grupos['Id']))"
      ],
      "metadata": {
        "id": "RmXXRIOnbVjl"
      },
      "execution_count": null,
      "outputs": []
    },
    {
      "cell_type": "code",
      "source": [
        "df_usuarios[\"Nome\"] = await asyncio.gather(*(get_name(id) for id in df_usuarios['Id']))"
      ],
      "metadata": {
        "id": "_H6EbLHMjQ3C"
      },
      "execution_count": null,
      "outputs": []
    },
    {
      "cell_type": "code",
      "source": [
        "#Gera o arquivo dos grupos no formato csv\n",
        "#tempo = datetime.now().strftime(\"-%Y-%m-%d-%H:%M:%S\")\n",
        "#file_name = \"grupos-\"+str(chat)+tempo+\".csv\"\n",
        "#df_grupos.to_csv(file_name, index=False)\n"
      ],
      "metadata": {
        "id": "FpA1J7MXph8d"
      },
      "execution_count": null,
      "outputs": []
    },
    {
      "cell_type": "code",
      "source": [
        "#Gera o arquivo dos usuários no formato csv\n",
        "tempo = datetime.now().strftime(\"-%Y-%m-%d-%H:%M:%S\")\n",
        "file_name = \"usuarios-\"+str(chat)+tempo+\".csv\"\n",
        "df_usuarios.to_csv(file_name, index=False)"
      ],
      "metadata": {
        "id": "LPSbIs-apcWv"
      },
      "execution_count": null,
      "outputs": []
    },
    {
      "cell_type": "markdown",
      "source": [
        "i) preprocessar o texto da mesma forma que na etapa 1;"
      ],
      "metadata": {
        "id": "uTSNMObTmLV4"
      }
    },
    {
      "cell_type": "code",
      "source": [],
      "metadata": {
        "id": "cazgY0nsmTWb"
      },
      "execution_count": null,
      "outputs": []
    },
    {
      "cell_type": "markdown",
      "source": [
        "No pré-processamento de linguagem natural é comum retirar palavras sem significado semântico (conhecidas em inglês como \"stop words\")."
      ],
      "metadata": {
        "id": "z3MpvCCrmsNc"
      }
    },
    {
      "cell_type": "code",
      "source": [
        "# Stopwords em português:\n",
        "nltk.download('stopwords')\n",
        "stopwordspt = nltk.corpus.stopwords.words('portuguese')\n",
        "stopwordsen = nltk.corpus.stopwords.words('english')\n",
        "stopwordspt[:10]"
      ],
      "metadata": {
        "colab": {
          "base_uri": "https://localhost:8080/"
        },
        "id": "YKpiJDAvmyfq",
        "outputId": "29c116a0-0e7c-4a26-ee6a-0fd83b5fa709"
      },
      "execution_count": null,
      "outputs": [
        {
          "output_type": "stream",
          "name": "stderr",
          "text": [
            "[nltk_data] Downloading package stopwords to /root/nltk_data...\n",
            "[nltk_data]   Unzipping corpora/stopwords.zip.\n"
          ]
        },
        {
          "output_type": "execute_result",
          "data": {
            "text/plain": [
              "['a',\n",
              " 'à',\n",
              " 'ao',\n",
              " 'aos',\n",
              " 'aquela',\n",
              " 'aquelas',\n",
              " 'aquele',\n",
              " 'aqueles',\n",
              " 'aquilo',\n",
              " 'as']"
            ]
          },
          "metadata": {},
          "execution_count": 5
        }
      ]
    },
    {
      "cell_type": "markdown",
      "source": [
        "Outro pré-processamento possível é a retirada de prefixos e sufixos desnecessários das palavras ( processo conhecido em inglês pelos termos \"lemmatizing and stemming\")"
      ],
      "metadata": {
        "id": "kOJs0gJum1yO"
      }
    },
    {
      "cell_type": "code",
      "source": [
        "# Download lista de radicais e sufixos\n",
        "!wget https://github.com/michmech/lemmatization-lists/raw/master/lemmatization-pt.txt -q\n",
        "nltk.download('rslp')\n",
        "\n",
        "ptstemmer = RSLPStemmer()\n",
        "enstemmer = WordNetLemmatizer()\n",
        "\n",
        "# Convert to dictionary\n",
        "lmztpt = {}\n",
        "dic = open(\"lemmatization-pt.txt\")\n",
        "for line in dic:\n",
        "  txt = line.split()\n",
        "  lmztpt[txt[1]] = txt[0]\n",
        "\n",
        "# Lemmatize wherever possible\n",
        "def PortugueseMess(word):\n",
        "  if word in lmztpt.keys():\n",
        "    return lmztpt.get(word)\n",
        "  else:\n",
        "    return ptstemmer.stem(word)"
      ],
      "metadata": {
        "colab": {
          "base_uri": "https://localhost:8080/"
        },
        "id": "Om1_oCONm24w",
        "outputId": "ce66e9b7-6fd4-4c4b-fafc-1d5840639051"
      },
      "execution_count": null,
      "outputs": [
        {
          "output_type": "stream",
          "name": "stderr",
          "text": [
            "[nltk_data] Downloading package rslp to /root/nltk_data...\n",
            "[nltk_data]   Unzipping stemmers/rslp.zip.\n"
          ]
        }
      ]
    },
    {
      "cell_type": "markdown",
      "source": [
        "ii) carregar os parâmetros do modelo treinado na etapa 2;"
      ],
      "metadata": {
        "id": "GtJ92MV-mSYe"
      }
    },
    {
      "cell_type": "code",
      "source": [],
      "metadata": {
        "id": "pedBSNhTmcQd"
      },
      "execution_count": null,
      "outputs": []
    },
    {
      "cell_type": "markdown",
      "source": [
        "iii) realizar inferência no texto processado, gerando previsão de se a notícia é falsa ou não;"
      ],
      "metadata": {
        "id": "Tb1CaYf-mYRY"
      }
    },
    {
      "cell_type": "code",
      "source": [],
      "metadata": {
        "id": "OLXXupcxmhuu"
      },
      "execution_count": null,
      "outputs": []
    },
    {
      "cell_type": "markdown",
      "source": [
        "iv) salvar o texto, o timestamp de recebimento da mensagem, o timestamp após a realização da inferência e a previsão do modelo para aquela notícia em um pandas dataframe;"
      ],
      "metadata": {
        "id": "TfbHFiCJmguv"
      }
    },
    {
      "cell_type": "code",
      "source": [],
      "metadata": {
        "id": "6KcIf9M-KmkZ"
      },
      "execution_count": null,
      "outputs": []
    },
    {
      "cell_type": "markdown",
      "source": [
        "v) ao fim do recebimento das mensagens (será indicado ao grupo), deverá salvar o pandas dataframe em formato .csv."
      ],
      "metadata": {
        "id": "mebAGz5Wmle9"
      }
    },
    {
      "cell_type": "code",
      "source": [],
      "metadata": {
        "id": "PDdc2j9vmOll"
      },
      "execution_count": null,
      "outputs": []
    }
  ]
}