{
  "nbformat": 4,
  "nbformat_minor": 0,
  "metadata": {
    "colab": {
      "provenance": [],
      "include_colab_link": true
    },
    "kernelspec": {
      "name": "python3",
      "display_name": "Python 3"
    },
    "language_info": {
      "name": "python"
    }
  },
  "cells": [
    {
      "cell_type": "markdown",
      "metadata": {
        "id": "view-in-github",
        "colab_type": "text"
      },
      "source": [
        "<a href=\"https://colab.research.google.com/github/thiagomelostuckert/datathon-fakenews/blob/main/3_Telegram.ipynb\" target=\"_parent\"><img src=\"https://colab.research.google.com/assets/colab-badge.svg\" alt=\"Open In Colab\"/></a>"
      ]
    },
    {
      "cell_type": "markdown",
      "source": [
        "## Estruturação de aplicação para detecção de notícias a partir da extração de mensagens em grupo do Telegram\n",
        "\n",
        "Agora que o modelo já foi treinado é preciso analisar a performance dele em tempo real. Em parceria com um órgão do XX, a fração de D&A recebeu informações sobre um grupo de Telegram em que há suspeita de desinformação. Quando estiver em posse do modelo treinado, a equipe pode buscar representantes do desafio para obter o link do grupo.\n",
        "O engenheiro de dados deverá desenvolver aplicação que acompanha constantemente o grupo designado. Na ocorrência de uma mensagem nesse grupo, a aplicação deverá:\n",
        "\n",
        "i) preprocessar o texto da mesma forma que na etapa 1;\n",
        "\n",
        "ii) carregar os parâmetros do modelo treinado na etapa 2;\n",
        "\n",
        "iii) realizar inferência no texto processado, gerando previsão de se a notícia é falsa ou não;\n",
        "\n",
        "iv) salvar o texto, o timestamp de recebimento da mensagem, o timestamp após a realização da inferência e a previsão do modelo para aquela notícia em um pandas dataframe;\n",
        "\n",
        "v) ao fim do recebimento das mensagens (será indicado ao grupo), deverá salvar o pandas dataframe em formato .csv.\n",
        "\n",
        "Recomenda-se a utilização da biblioteca python telethon, que é assíncrona (deve ser utilizada conjuntamente à biblioteca asyncio). É possível utilizar a biblioteca no Google Colab (nesse caso, deve utilizar ainda o nest_asyncio). Para utilizar a biblioteca telethon é necessário também obter os dados da API do Telegram, que pode ser feito utilizando esse link (https://core.telegram.org/api/obtaining_api_id).\n",
        "\n",
        "Serão considerados na avaliação: intervalo de tempo entre o recebimento da mensagem e a realização da inferência; eficiência do código."
      ],
      "metadata": {
        "id": "81O01SErqUuT"
      }
    },
    {
      "cell_type": "markdown",
      "source": [
        "Importação das bibliotecas"
      ],
      "metadata": {
        "id": "2g_O-VvyqRzQ"
      }
    },
    {
      "cell_type": "code",
      "source": [
        "import pandas as pd\n",
        "from datetime import datetime\n",
        "\n",
        "#https://colab.research.google.com/github/tensorflow/io/blob/master/docs/tutorials/kafka.ipynb\n",
        "\n",
        "!pip install tensorflow-io\n",
        "!pip install kafka-python\n",
        "\n",
        "import tensorflow as tf\n",
        "import tensorflow_io as tfio\n",
        "import time\n",
        "import threading\n",
        "from kafka.admin import KafkaAdminClient,NewTopic\n",
        "from kafka import KafkaProducer\n",
        "from kafka import KafkaConsumer\n",
        "from kafka.errors import KafkaError\n",
        "from sklearn.model_selection import train_test_split\n",
        "import os\n",
        "import threading\n",
        "\n",
        "\n",
        "\n",
        "#Extração das mensagens do grupo do telegram\n",
        "!pip install Telethon\n",
        "from telethon import TelegramClient, events\n",
        "from telethon import utils\n",
        "\n",
        "import asyncio\n",
        "import nest_asyncio\n",
        "\n",
        "import json\n",
        "\n",
        "# Pré-processamento\n",
        "import nltk\n",
        "from nltk.stem import RSLPStemmer\n",
        "from nltk.stem.wordnet import WordNetLemmatizer\n",
        "\n",
        "#Utilizado para carregar o classificador\n",
        "import gzip\n",
        "import pickle\n",
        "!pip install openpyxl\n",
        "import openpyxl\n",
        "\n",
        "\n",
        "#Biblioteca utilizadas para o processamento da linguagem\n",
        "import spacy\n",
        "from spacy.lang.pt.examples import sentences\n",
        "\n",
        "from spacy.tokenizer import Tokenizer\n",
        "from spacy.lang.pt import Portuguese\n",
        "import re\n",
        "from collections import Counter\n",
        "\n",
        "!pip install Unidecode\n",
        "from unidecode import unidecode\n",
        "\n",
        "!pip install yake\n",
        "import yake\n",
        "\n",
        "#Baixa o corpus utilizado na próxima análise\n",
        "# Referência: https://spacy.io/models/pt#pt_core_news_md\n",
        "# Observação:tem a opção de carregar datasets maiores\n",
        "!spacy download pt_core_news_md"
      ],
      "metadata": {
        "id": "G1dmtDvBmT45",
        "colab": {
          "base_uri": "https://localhost:8080/"
        },
        "outputId": "4623bd75-c533-495d-8584-04f88d3bd1ed"
      },
      "execution_count": null,
      "outputs": [
        {
          "output_type": "stream",
          "name": "stdout",
          "text": [
            "Collecting tensorflow-io\n",
            "  Downloading tensorflow_io-0.34.0-cp310-cp310-manylinux_2_12_x86_64.manylinux2010_x86_64.whl (28.8 MB)\n",
            "\u001b[2K     \u001b[90m━━━━━━━━━━━━━━━━━━━━━━━━━━━━━━━━━━━━━━━━\u001b[0m \u001b[32m28.8/28.8 MB\u001b[0m \u001b[31m52.0 MB/s\u001b[0m eta \u001b[36m0:00:00\u001b[0m\n",
            "\u001b[?25hRequirement already satisfied: tensorflow-io-gcs-filesystem==0.34.0 in /usr/local/lib/python3.10/dist-packages (from tensorflow-io) (0.34.0)\n",
            "Installing collected packages: tensorflow-io\n",
            "Successfully installed tensorflow-io-0.34.0\n",
            "Collecting kafka-python\n",
            "  Downloading kafka_python-2.0.2-py2.py3-none-any.whl (246 kB)\n",
            "\u001b[2K     \u001b[90m━━━━━━━━━━━━━━━━━━━━━━━━━━━━━━━━━━━━━━━━\u001b[0m \u001b[32m246.5/246.5 kB\u001b[0m \u001b[31m4.3 MB/s\u001b[0m eta \u001b[36m0:00:00\u001b[0m\n",
            "\u001b[?25hInstalling collected packages: kafka-python\n",
            "Successfully installed kafka-python-2.0.2\n",
            "Collecting Telethon\n",
            "  Downloading Telethon-1.33.0.tar.gz (568 kB)\n",
            "\u001b[2K     \u001b[90m━━━━━━━━━━━━━━━━━━━━━━━━━━━━━━━━━━━━━━━━\u001b[0m \u001b[32m568.8/568.8 kB\u001b[0m \u001b[31m7.5 MB/s\u001b[0m eta \u001b[36m0:00:00\u001b[0m\n",
            "\u001b[?25h  Installing build dependencies ... \u001b[?25l\u001b[?25hdone\n",
            "  Getting requirements to build wheel ... \u001b[?25l\u001b[?25hdone\n",
            "  Preparing metadata (pyproject.toml) ... \u001b[?25l\u001b[?25hdone\n",
            "Collecting pyaes (from Telethon)\n",
            "  Downloading pyaes-1.6.1.tar.gz (28 kB)\n",
            "  Preparing metadata (setup.py) ... \u001b[?25l\u001b[?25hdone\n",
            "Requirement already satisfied: rsa in /usr/local/lib/python3.10/dist-packages (from Telethon) (4.9)\n",
            "Requirement already satisfied: pyasn1>=0.1.3 in /usr/local/lib/python3.10/dist-packages (from rsa->Telethon) (0.5.1)\n",
            "Building wheels for collected packages: Telethon, pyaes\n",
            "  Building wheel for Telethon (pyproject.toml) ... \u001b[?25l\u001b[?25hdone\n",
            "  Created wheel for Telethon: filename=Telethon-1.33.0-py3-none-any.whl size=640886 sha256=aed7fd2ceea220a231ce1312b70e358f39bc8e44599c23e6e18f7e773808518b\n",
            "  Stored in directory: /root/.cache/pip/wheels/f6/2a/ce/8d4a70c27c49d4cfd7e38bff8aae2b0ac8990011cfe28e1ca8\n",
            "  Building wheel for pyaes (setup.py) ... \u001b[?25l\u001b[?25hdone\n",
            "  Created wheel for pyaes: filename=pyaes-1.6.1-py3-none-any.whl size=26346 sha256=88cc75d60c4d8443b9fc7463576b8c2e239c63c4518b01f11bf0c62afea0a752\n",
            "  Stored in directory: /root/.cache/pip/wheels/d6/84/5f/ea6aef85a93c7e1922486369874f4740a5642d261e09c59140\n",
            "Successfully built Telethon pyaes\n",
            "Installing collected packages: pyaes, Telethon\n",
            "Successfully installed Telethon-1.33.0 pyaes-1.6.1\n",
            "Requirement already satisfied: openpyxl in /usr/local/lib/python3.10/dist-packages (3.1.2)\n",
            "Requirement already satisfied: et-xmlfile in /usr/local/lib/python3.10/dist-packages (from openpyxl) (1.1.0)\n",
            "Collecting Unidecode\n",
            "  Downloading Unidecode-1.3.7-py3-none-any.whl (235 kB)\n",
            "\u001b[2K     \u001b[90m━━━━━━━━━━━━━━━━━━━━━━━━━━━━━━━━━━━━━━━━\u001b[0m \u001b[32m235.5/235.5 kB\u001b[0m \u001b[31m3.3 MB/s\u001b[0m eta \u001b[36m0:00:00\u001b[0m\n",
            "\u001b[?25hInstalling collected packages: Unidecode\n",
            "Successfully installed Unidecode-1.3.7\n",
            "Collecting yake\n",
            "  Downloading yake-0.4.8-py2.py3-none-any.whl (60 kB)\n",
            "\u001b[2K     \u001b[90m━━━━━━━━━━━━━━━━━━━━━━━━━━━━━━━━━━━━━━━━\u001b[0m \u001b[32m60.2/60.2 kB\u001b[0m \u001b[31m1.9 MB/s\u001b[0m eta \u001b[36m0:00:00\u001b[0m\n",
            "\u001b[?25hRequirement already satisfied: tabulate in /usr/local/lib/python3.10/dist-packages (from yake) (0.9.0)\n",
            "Requirement already satisfied: click>=6.0 in /usr/local/lib/python3.10/dist-packages (from yake) (8.1.7)\n",
            "Requirement already satisfied: numpy in /usr/local/lib/python3.10/dist-packages (from yake) (1.23.5)\n",
            "Collecting segtok (from yake)\n",
            "  Downloading segtok-1.5.11-py3-none-any.whl (24 kB)\n",
            "Requirement already satisfied: networkx in /usr/local/lib/python3.10/dist-packages (from yake) (3.2.1)\n",
            "Collecting jellyfish (from yake)\n",
            "  Downloading jellyfish-1.0.3-cp310-cp310-manylinux_2_17_x86_64.manylinux2014_x86_64.whl (1.2 MB)\n",
            "\u001b[2K     \u001b[90m━━━━━━━━━━━━━━━━━━━━━━━━━━━━━━━━━━━━━━━━\u001b[0m \u001b[32m1.2/1.2 MB\u001b[0m \u001b[31m19.4 MB/s\u001b[0m eta \u001b[36m0:00:00\u001b[0m\n",
            "\u001b[?25hRequirement already satisfied: regex in /usr/local/lib/python3.10/dist-packages (from segtok->yake) (2023.6.3)\n",
            "Installing collected packages: segtok, jellyfish, yake\n",
            "Successfully installed jellyfish-1.0.3 segtok-1.5.11 yake-0.4.8\n"
          ]
        }
      ]
    },
    {
      "cell_type": "code",
      "source": [
        "\n",
        "#Download e setup do Kafka e zookeeper\n",
        "!curl -sSOL https://archive.apache.org/dist/kafka/3.1.0/kafka_2.13-3.1.0.tgz\n"
      ],
      "metadata": {
        "id": "lvrMiB3IKqbH"
      },
      "execution_count": null,
      "outputs": []
    },
    {
      "cell_type": "code",
      "source": [
        "!tar -xzf kafka_2.13-3.1.0.tgz"
      ],
      "metadata": {
        "id": "EyCHx-XzK9wk"
      },
      "execution_count": null,
      "outputs": []
    },
    {
      "cell_type": "code",
      "source": [
        "!./kafka_2.13-3.1.0/bin/zookeeper-server-start.sh -daemon ./kafka_2.13-3.1.0/config/zookeeper.properties\n",
        "!./kafka_2.13-3.1.0/bin/kafka-server-start.sh -daemon ./kafka_2.13-3.1.0/config/server.properties\n",
        "!echo \"Waiting for 10 secs until kafka and zookeeper services are up and running\"\n",
        "!sleep 10"
      ],
      "metadata": {
        "colab": {
          "base_uri": "https://localhost:8080/"
        },
        "id": "5sDU6C6AK7HV",
        "outputId": "c928d043-f81c-431d-9a2c-bdaed4f0e90f"
      },
      "execution_count": null,
      "outputs": [
        {
          "output_type": "stream",
          "name": "stdout",
          "text": [
            "Waiting for 10 secs until kafka and zookeeper services are up and running\n"
          ]
        }
      ]
    },
    {
      "cell_type": "code",
      "source": [
        "#Verifica o processo do kafka rodando na máquina\n",
        "!ps -ef | grep kafka"
      ],
      "metadata": {
        "colab": {
          "base_uri": "https://localhost:8080/"
        },
        "id": "Ii6tc3LJLnH0",
        "outputId": "666011a2-620b-4c45-f3f3-6e3146fb4805"
      },
      "execution_count": null,
      "outputs": [
        {
          "output_type": "stream",
          "name": "stdout",
          "text": [
            "root        1932     242  0 21:04 ?        00:00:00 /bin/bash -c ps -ef | grep kafka\n",
            "root        1934    1932  0 21:04 ?        00:00:00 grep kafka\n"
          ]
        }
      ]
    },
    {
      "cell_type": "code",
      "source": [
        "admin_client = KafkaAdminClient(bootstrap_servers=\"localhost:9092\", client_id='Datathon')\n",
        "\n",
        "# Nome do tópico do Kafka utilizado na leitura em streaming\n",
        "topic_name=\"new-message\"\n",
        "#admin_client.delete_topics(topics=[topic_name])\n",
        "\n",
        "new_topic = NewTopic(name=topic_name, num_partitions= 5, replication_factor=1)\n",
        "topic_list = []\n",
        "topic_list.append(new_topic)\n",
        "\n",
        "#admin_client.create_topics(new_topics=topic_list)"
      ],
      "metadata": {
        "id": "6PIWd2BKUnjY"
      },
      "execution_count": null,
      "outputs": []
    },
    {
      "cell_type": "markdown",
      "source": [
        "Extração dos textos do grupo de telegram\n",
        "\n",
        "Realizei os seguintes passos para obter as credenciais de acesso do Telegram:\n",
        "\n",
        "1) Acessei o site [my.telegram.org](https://);\n",
        "\n",
        "2) Informei o número do meu celular;\n",
        "\n",
        "3) Recebi um código de verificação;\n",
        "\n",
        "4) Digitei o código de verificação no site;\n",
        "\n",
        "5) Acessei a opção \"API development tools\", preenchi o formulário conforme\n",
        "imagem abaixo;\n",
        "\n",
        "6) Cliquei em \"Create application\";\n",
        "\n",
        "7) Recebi o App api_id e o App api_hash.\n",
        "\n",
        "![setAPITelegram.png](data:image/png;base64,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)\n",
        "\n",
        "Referências:\n",
        "https://www.itpanther.com/scrape-telegram-group-messages/\n",
        "https://arabic-telethon.readthedocs.io/en/stable/extra/examples/telegram-client.html#getting-messages"
      ],
      "metadata": {
        "id": "nrplzLFnnZc1"
      }
    },
    {
      "cell_type": "code",
      "source": [
        "#Leitura das credenciais de acesso ao telegram\n",
        "file_path = \"/content/telegram_app_configuration.json\"\n",
        "try:\n",
        "  with open(file_path, 'r') as f:\n",
        "    app_config = json.load(f)\n",
        "    api_id=app_config[\"api_id\"]\n",
        "    api_hash=app_config[\"api_hash\"]\n",
        "    phone_number=app_config[\"phone_number\"]\n",
        "    token_bot=app_config[\"token_bot\"]\n",
        "    print(\"Carregou as credenciais do telegram com sucesso.\")\n",
        "except Exception as error:\n",
        "  print(\"Falha ao carregar as credenciais do telegram.\")\n",
        "  print(\"É necessário fazer upload do arquivo de credenciais no google colab.\")\n",
        "  print(f\"Exceção: {error} \")"
      ],
      "metadata": {
        "colab": {
          "base_uri": "https://localhost:8080/"
        },
        "id": "9cG39xIint3P",
        "outputId": "47257524-5ecf-459b-adb4-655669798c4d"
      },
      "execution_count": null,
      "outputs": [
        {
          "output_type": "stream",
          "name": "stdout",
          "text": [
            "Carregou as credenciais do telegram com sucesso.\n"
          ]
        }
      ]
    },
    {
      "cell_type": "code",
      "source": [
        "#Imprime o número de celular presente no arquivo de configuração\n",
        "print(\"Phone Number: \",phone_number)"
      ],
      "metadata": {
        "colab": {
          "base_uri": "https://localhost:8080/"
        },
        "id": "XZkRTCf4zKgc",
        "outputId": "dda79f76-80bf-4c38-9dba-e0f29e92a896"
      },
      "execution_count": null,
      "outputs": [
        {
          "output_type": "stream",
          "name": "stdout",
          "text": [
            "Phone Number:  5561998210957\n"
          ]
        }
      ]
    },
    {
      "cell_type": "code",
      "source": [
        "async def get_chat_ids(client):\n",
        "  async for dialog in client.iter_dialogs():\n",
        "    if dialog.is_channel or dialog.is_group:\n",
        "      print(f\"{dialog.title}:{int(dialog.id)}\")\n",
        "\n",
        "\n",
        "nest_asyncio.apply()\n",
        "async with TelegramClient('datathon', api_id, api_hash) as client:\n",
        "  client.loop.run_until_complete(get_chat_ids(client))"
      ],
      "metadata": {
        "id": "NmYO10MEum9d",
        "colab": {
          "base_uri": "https://localhost:8080/"
        },
        "outputId": "93240ed1-30a6-473f-d5f7-907a1974ce02"
      },
      "execution_count": null,
      "outputs": [
        {
          "output_type": "stream",
          "name": "stdout",
          "text": [
            "TesteDatathon1:-1002141343872\n",
            "datathon_equipe3:-4043521267\n",
            "TesteDatathon1:-4030344137\n",
            "Thiago and Um Pé:-4083684181\n"
          ]
        }
      ]
    },
    {
      "cell_type": "code",
      "source": [
        "#chat = \"jairbolsonarobrasil\"\n",
        "#chat = \"gconoticias\"\n",
        "chat = -1002141343872 #TesteDatathon1\n",
        "#chat = -4043521267 #datathon_equipe3"
      ],
      "metadata": {
        "id": "CKpoCWm5-bft"
      },
      "execution_count": null,
      "outputs": []
    },
    {
      "cell_type": "code",
      "source": [
        "#Cria o produtor de mensagens do Kafka\n",
        "producer = KafkaProducer(bootstrap_servers=['127.0.0.1:9092'], value_serializer=lambda v: json.dumps(v).encode('utf-8'))\n",
        "#producer.close()"
      ],
      "metadata": {
        "id": "ZKHW5arWVT8W"
      },
      "execution_count": null,
      "outputs": []
    },
    {
      "cell_type": "markdown",
      "source": [
        "Monitora as mensagens em tempo real"
      ],
      "metadata": {
        "id": "DfEvvDvHvp-a"
      }
    },
    {
      "cell_type": "code",
      "source": [
        "def extrai_informacoes_evento(event,client):\n",
        "  event_dict = event.to_dict()\n",
        "  message_dict = event_dict[\"message\"].to_dict()\n",
        "  if (message_dict['message'] == \"LOGOUT\"):\n",
        "    client.disconnect()\n",
        "\n",
        "  print(message_dict['date'])\n",
        "  print(message_dict['message'])\n",
        "  print(message_dict['from_id']['user_id'])\n",
        "  message_json = json.dumps(message_dict, indent = 4,sort_keys=True, default=str)\n",
        "  producer.send(topic_name, message_json)\n",
        "  producer.flush()"
      ],
      "metadata": {
        "id": "5cQVV2f325PK"
      },
      "execution_count": null,
      "outputs": []
    },
    {
      "cell_type": "code",
      "source": [
        "# Dispara o recebimento de mensagens em tempo real\n",
        "# Referência: https://arabic-telethon.readthedocs.io/en/stable/extra/basic/working-with-updates.html\n",
        "async def get_new_messages(api_id, api_hash):\n",
        "  nest_asyncio.apply()\n",
        "  async with TelegramClient('datathon', api_id, api_hash) as client:\n",
        "    @client.on(events.NewMessage)\n",
        "    async def trata_novas_mensagens(event):\n",
        "      try:\n",
        "        await extrai_informacoes_evento(event,client)\n",
        "      except Exception as e:\n",
        "        #Pendência tratar exceção\n",
        "        print(e)\n",
        "        pass\n",
        "    try:\n",
        "      await client.run_until_disconnected()\n",
        "    except Exception as e:\n",
        "      #Pendência tratar exceção\n",
        "      print(e)\n",
        "      pass\n",
        "\n"
      ],
      "metadata": {
        "id": "wPMuxFdSCbKa"
      },
      "execution_count": null,
      "outputs": []
    },
    {
      "cell_type": "code",
      "source": [
        "# Cria um thread para ficar recebendo as mensagens em background\n",
        "def run_get_new_messages(api_id, api_hash):\n",
        "  asyncio.run(get_new_messages(api_id, api_hash))\n",
        "\n",
        "thread_produtor = threading.Thread(target=run_get_new_messages, name=\"streaming\", args=[api_id, api_hash])\n",
        "thread_produtor.start()"
      ],
      "metadata": {
        "id": "HplRVwznmUBW"
      },
      "execution_count": null,
      "outputs": []
    },
    {
      "cell_type": "code",
      "source": [
        "#Verifica se a thread ainda está sendo executada\n",
        "thread_produtor.is_alive()\n"
      ],
      "metadata": {
        "id": "f_Hj0b4msP_Y",
        "colab": {
          "base_uri": "https://localhost:8080/"
        },
        "outputId": "68756804-047c-46e6-f867-de1927c8bfae"
      },
      "execution_count": null,
      "outputs": [
        {
          "output_type": "execute_result",
          "data": {
            "text/plain": [
              "True"
            ]
          },
          "metadata": {},
          "execution_count": 21
        }
      ]
    },
    {
      "cell_type": "code",
      "source": [
        "def classifica_novo_texto(model_name, news_text):\n",
        "  #Carrega o modelo treinado\n",
        "  file_name = model_name+'.pkl'\n",
        "  file_path=\"/content/\"+file_name\n",
        "  try:\n",
        "    with open(file_path, 'rb') as f:\n",
        "      model = pickle.load(f)\n",
        "      #Classifica o novo texto com o modelo\n",
        "      classificacao = model.predict(news_text)\n",
        "      return classificacao[0]\n",
        "  except Exception as error:\n",
        "    print(\"Falha ao carregar o modelo treinado.\")\n",
        "    print(f\"Exceção: {error} \")"
      ],
      "metadata": {
        "id": "-iCdv59wsj3X"
      },
      "execution_count": null,
      "outputs": []
    },
    {
      "cell_type": "code",
      "source": [
        "#Baixa o modelo treinado\n",
        "model_name = \"RFC\"\n",
        "url = \"https://github.com/thiagomelostuckert/datathon-fakenews/raw/main/\"+model_name+\".pkl\"\n",
        "!wget $url"
      ],
      "metadata": {
        "id": "S17MPE6MslDp",
        "colab": {
          "base_uri": "https://localhost:8080/"
        },
        "outputId": "4298641d-bc09-410c-802b-b29852a03283"
      },
      "execution_count": null,
      "outputs": [
        {
          "output_type": "stream",
          "name": "stdout",
          "text": [
            "--2023-12-03 21:05:33--  https://github.com/thiagomelostuckert/datathon-fakenews/raw/main/RFC.pkl\n",
            "Resolving github.com (github.com)... 140.82.113.4\n",
            "Connecting to github.com (github.com)|140.82.113.4|:443... connected.\n",
            "HTTP request sent, awaiting response... 302 Found\n",
            "Location: https://raw.githubusercontent.com/thiagomelostuckert/datathon-fakenews/main/RFC.pkl [following]\n",
            "--2023-12-03 21:05:33--  https://raw.githubusercontent.com/thiagomelostuckert/datathon-fakenews/main/RFC.pkl\n",
            "Resolving raw.githubusercontent.com (raw.githubusercontent.com)... 185.199.111.133, 185.199.109.133, 185.199.108.133, ...\n",
            "Connecting to raw.githubusercontent.com (raw.githubusercontent.com)|185.199.111.133|:443... connected.\n",
            "HTTP request sent, awaiting response... 200 OK\n",
            "Length: 10391204 (9.9M) [application/octet-stream]\n",
            "Saving to: ‘RFC.pkl’\n",
            "\n",
            "RFC.pkl             100%[===================>]   9.91M  --.-KB/s    in 0.1s    \n",
            "\n",
            "2023-12-03 21:05:34 (80.4 MB/s) - ‘RFC.pkl’ saved [10391204/10391204]\n",
            "\n"
          ]
        }
      ]
    },
    {
      "cell_type": "code",
      "source": [
        "#metadata3 = category\n",
        "def get_category(text):\n",
        "  language = \"pt\"\n",
        "  max_ngram_size = 1\n",
        "  deduplication_threshold = 0.9\n",
        "  deduplication_algo = 'seqm'\n",
        "  windowSize = 1\n",
        "  numOfKeywords = 5\n",
        "\n",
        "  custom_kw_extractor = yake.KeywordExtractor(lan=language, n=max_ngram_size, dedupLim=deduplication_threshold, dedupFunc=deduplication_algo, windowsSize=windowSize, top=numOfKeywords, features=None)\n",
        "  keywords_set = custom_kw_extractor.extract_keywords(text)\n",
        "  keywords = []\n",
        "  for kw in keywords_set:\n",
        "    keywords.append(kw[0])\n",
        "  return str(keywords)\n",
        "\n"
      ],
      "metadata": {
        "id": "aVeLPX03-Nq-"
      },
      "execution_count": null,
      "outputs": []
    },
    {
      "cell_type": "code",
      "source": [
        "# metadata5 = number of tokens\n",
        "def get_num_tokens(nlp_pt,text):\n",
        "  #Uma abordagem mais simples\n",
        "  #tokens = text.split()\n",
        "  #return len(tokens)\n",
        "\n",
        "  #Adiciona esse parâmetro para contar ponto-final.\n",
        "  suffix_re = re.compile(r'''\\.$''')\n",
        "  tokenizer = Tokenizer(nlp_pt.vocab, suffix_search=suffix_re.search)\n",
        "\n",
        "  tokens = tokenizer(text)\n",
        "  return len(tokens)\n",
        "\n"
      ],
      "metadata": {
        "id": "6AP9DnCmDMQq"
      },
      "execution_count": null,
      "outputs": []
    },
    {
      "cell_type": "code",
      "source": [
        " #metadata6 = number of words without punctuation\n",
        " def get_number_words_without_punctuation(doc_pt):\n",
        "  num_words = 0\n",
        "  for token in doc_pt:\n",
        "    if not token.is_punct:\n",
        "      token_original = str(token)\n",
        "      token_decode = unidecode(token_original)\n",
        "      if token_decode == token_original:\n",
        "        num_words = num_words + 1\n",
        "  return num_words\n",
        "\n",
        "\n"
      ],
      "metadata": {
        "id": "fzkXgFm1DiZC"
      },
      "execution_count": null,
      "outputs": []
    },
    {
      "cell_type": "code",
      "source": [
        " #metadata7 = number of types\n",
        "def get_num_palavras_unicas(doc_pt):\n",
        "  words = set()\n",
        "  for token in doc_pt:\n",
        "    token_str = str(token)\n",
        "    result = re.search(\"[a-z]+\", token_str, re.IGNORECASE)\n",
        "    if result is not None:\n",
        "      words.add(token_str)\n",
        "  return len(words)\n",
        "\n"
      ],
      "metadata": {
        "id": "9L548crzD6Rp"
      },
      "execution_count": null,
      "outputs": []
    },
    {
      "cell_type": "code",
      "source": [
        "# metadata9 = number of words in upper case\n",
        "def get_number_words_in_upper_case(doc_pt):\n",
        "  num_words = 0\n",
        "  for token in doc_pt:\n",
        "    if token.is_upper:\n",
        "      num_words = num_words + 1\n",
        "  return num_words\n",
        "\n"
      ],
      "metadata": {
        "id": "9m2YgfzKESDS"
      },
      "execution_count": null,
      "outputs": []
    },
    {
      "cell_type": "code",
      "source": [
        "#  metadata10 = number of verbs\n",
        "def get_number_of_verbs(doc_folha):\n",
        "  num_verbs = 0\n",
        "  for token in doc_folha:\n",
        "    if token.pos_ == 'VERB':\n",
        "      num_verbs = num_verbs + 1\n",
        "  return num_verbs\n",
        "\n"
      ],
      "metadata": {
        "id": "fow8VNKVEsTM"
      },
      "execution_count": null,
      "outputs": []
    },
    {
      "cell_type": "code",
      "source": [
        "#metadata12 = number of nouns\n",
        "def get_number_nouns(doc_folha):\n",
        "  num_nouns = 0\n",
        "  for token in doc_folha:\n",
        "    if token.pos_ == 'NOUN':\n",
        "      num_nouns = num_nouns + 1\n",
        "  return num_nouns\n",
        "\n"
      ],
      "metadata": {
        "id": "W6ct4PzNFFd4"
      },
      "execution_count": null,
      "outputs": []
    },
    {
      "cell_type": "code",
      "source": [
        " #metadata13 = number of adjectives\n",
        "def get_number_adjectives(doc_folha):\n",
        "  number_adjectives = 0\n",
        "  for token in doc_folha:\n",
        "    if token.pos_ == 'ADJ':\n",
        "      number_adjectives = number_adjectives + 1\n",
        "  return number_adjectives\n",
        "\n"
      ],
      "metadata": {
        "id": "Ho5ikYbFFN0a"
      },
      "execution_count": null,
      "outputs": []
    },
    {
      "cell_type": "code",
      "source": [
        "# metadata14 = number of adverbs\n",
        "def get_number_adverbs(doc_folha):\n",
        "  number_adverbs = 0\n",
        "  for token in doc_folha:\n",
        "    if token.pos_ == 'ADV':\n",
        "      number_adverbs = number_adverbs + 1\n",
        "  return number_adverbs\n",
        "\n"
      ],
      "metadata": {
        "id": "dCu661UMFW4Q"
      },
      "execution_count": null,
      "outputs": []
    },
    {
      "cell_type": "code",
      "source": [
        "#  metadata15 = number of modal verbs (mainly auxiliary verbs)\n",
        "# Pendência: contando apenas os verbos auxiliares\n",
        "\n",
        "def get_auxiliary_verbs(doc_folha):\n",
        "  number_auxiliary_verbs = 0\n",
        "  for token in doc_folha:\n",
        "    if token.pos_ == 'AUX':\n",
        "      number_auxiliary_verbs = number_auxiliary_verbs + 1\n",
        "  return number_auxiliary_verbs\n",
        "\n"
      ],
      "metadata": {
        "id": "fSQ4yIpUFevD"
      },
      "execution_count": null,
      "outputs": []
    },
    {
      "cell_type": "code",
      "source": [
        "#  metadata16 = number of singular first and second personal pronouns\n",
        "# Primeira pessoa do singular: eu, me, mim, comigo\n",
        "# Segunda pessoa do singular: tu, te, ti, contigo\n",
        "def get_first_second_personal_pronouns(doc_folha):\n",
        "  number_pronouns = 0\n",
        "  for token in doc_folha:\n",
        "    if token.pos_ == 'PRON':\n",
        "      if str(token).lower() in [\"eu\", \"me\", \"mim\", \"comigo\", \"tu\", \"te\", \"ti\", \"contigo\"]:\n",
        "        number_pronouns = number_pronouns + 1\n",
        "  return number_pronouns\n",
        "\n"
      ],
      "metadata": {
        "id": "gDd3-hfZF4Od"
      },
      "execution_count": null,
      "outputs": []
    },
    {
      "cell_type": "code",
      "source": [
        "def get_personal_pronouns(doc_folha):\n",
        "  number_pronouns = 0\n",
        "  for token in doc_folha:\n",
        "    if token.pos_ == 'PRON':\n",
        "      if str(token).lower() in [\"nós\", \"nos\", \"conosco\"]:\n",
        "        number_pronouns = number_pronouns + 1\n",
        "  return number_pronouns\n",
        "\n"
      ],
      "metadata": {
        "id": "PJ6_Bf6QGB70"
      },
      "execution_count": null,
      "outputs": []
    },
    {
      "cell_type": "code",
      "source": [
        "#  metadata18 = number of pronouns\n",
        "def get_num_pronouns(doc_folha):\n",
        "  number_pronouns = 0\n",
        "  for token in doc_folha:\n",
        "    if token.pos_ == 'PRON':\n",
        "      number_pronouns = number_pronouns + 1\n",
        "  return number_pronouns\n",
        "\n"
      ],
      "metadata": {
        "id": "FBi9GfuqGKOJ"
      },
      "execution_count": null,
      "outputs": []
    },
    {
      "cell_type": "code",
      "source": [
        "def get_num_sentencas(text):\n",
        "  result = re.findall(\"[(.|?|!)*]+\", text, re.IGNORECASE)\n",
        "  num_sentencas = len(result)\n",
        "  return num_sentencas"
      ],
      "metadata": {
        "id": "dH-9norQGUfz"
      },
      "execution_count": null,
      "outputs": []
    },
    {
      "cell_type": "code",
      "source": [
        "# metadata19 = pausality\n",
        "################################\n",
        "# Pendência: consideramos apenas a vírgula como sinal de pontuação\n",
        "#################################\n",
        "def get_pausality(text):\n",
        "  result = re.findall(\"[(,)*]+\", text, re.IGNORECASE)\n",
        "  num_virgulas = len(result)\n",
        "  num_sentencas = get_num_sentencas(text)\n",
        "  if num_sentencas == 0:\n",
        "    pausality = 0\n",
        "  else:\n",
        "    pausality = num_virgulas / num_sentencas\n",
        "  return pausality\n",
        "\n"
      ],
      "metadata": {
        "id": "B4s9fqFOGYyi"
      },
      "execution_count": null,
      "outputs": []
    },
    {
      "cell_type": "code",
      "source": [
        "#Referência https://spacy.io/api/token\n",
        "def get_num_palavras(doc_pt):\n",
        "  num_words = 0\n",
        "  for token in doc_pt:\n",
        "    #Estratégia de verificação anterior com o token.is_alpha não reconhecia palavras que estavam fora do corpus\n",
        "    #if token.is_alpha:\n",
        "    result = re.search(\"[a-z]+\", str(token), re.IGNORECASE)\n",
        "    if result is not None:\n",
        "      num_words = num_words + 1\n",
        "  return num_words"
      ],
      "metadata": {
        "id": "0Mc-1q84GkcH"
      },
      "execution_count": null,
      "outputs": []
    },
    {
      "cell_type": "code",
      "source": [
        "#  metadata20 = number of characters\n",
        "def get_num_caracteres(doc_pt):\n",
        "  num_caracteres = 0\n",
        "  for token in doc_pt:\n",
        "    token_str = str(token)\n",
        "    result = re.search(\"[\\w]+\", token_str, re.IGNORECASE)\n",
        "    if result is not None:\n",
        "      num_caracteres = num_caracteres + len(token_str)\n",
        "  return num_caracteres\n",
        "\n"
      ],
      "metadata": {
        "id": "kBToZkkRGrff"
      },
      "execution_count": null,
      "outputs": []
    },
    {
      "cell_type": "code",
      "source": [
        "#  metadata21 = average sentence length\n",
        "def get_tamanho_medio_sentenca(text,doc_pt):\n",
        "  num_sentencas = get_num_sentencas(text)\n",
        "  if num_sentencas == 0:\n",
        "    return 0\n",
        "  else:\n",
        "    return get_num_palavras(doc_pt)/num_sentencas\n",
        "\n"
      ],
      "metadata": {
        "id": "QP8rW0_vGz4N"
      },
      "execution_count": null,
      "outputs": []
    },
    {
      "cell_type": "code",
      "source": [
        "# metadata22 = average word length\n",
        "def get_tamanho_medio_palavras(doc_pt):\n",
        "  num_palavras = get_num_palavras(doc_pt)\n",
        "  if num_palavras == 0:\n",
        "    return 0\n",
        "  else:\n",
        "    return get_num_caracteres(doc_pt)/num_palavras\n"
      ],
      "metadata": {
        "id": "oNb1Hf8cHNSc"
      },
      "execution_count": null,
      "outputs": []
    },
    {
      "cell_type": "code",
      "source": [
        "# metadata24 = emotiveness\n",
        "def get_emotiveness(doc_folha, doc_pt):\n",
        "  number_of_verbs = get_number_of_verbs(doc_folha)\n",
        "  if number_of_verbs == 0:\n",
        "    return 0\n",
        "  else:\n",
        "    emotiveness = get_num_palavras(doc_pt) / number_of_verbs\n",
        "  return emotiveness\n",
        "\n"
      ],
      "metadata": {
        "id": "PZIRbolWHblF"
      },
      "execution_count": null,
      "outputs": []
    },
    {
      "cell_type": "code",
      "source": [
        "#  metadata25 = diversity\n",
        "def get_diversity(doc_pt):\n",
        "  diversity = get_num_palavras_unicas(doc_pt) / get_num_palavras(doc_pt)\n",
        "  return diversity\n",
        "\n"
      ],
      "metadata": {
        "id": "9F3vGlQwHsKR"
      },
      "execution_count": null,
      "outputs": []
    },
    {
      "cell_type": "code",
      "source": [
        "# metadata26 = incerteza\n",
        "# Pendente: a função que obtém os verbos modais e auxiliares está obtendo apenas os auxiliares\n",
        "def get_incerteza(doc_folha,doc_pt):\n",
        "  num_palavras = get_num_palavras(doc_pt)\n",
        "  incerteza = 0\n",
        "  if num_palavras != 0:\n",
        "    incerteza = get_auxiliary_verbs(doc_folha) / num_palavras\n",
        "  return incerteza\n",
        "\n",
        "\n"
      ],
      "metadata": {
        "id": "XXovuh469QjE"
      },
      "execution_count": null,
      "outputs": []
    },
    {
      "cell_type": "code",
      "source": [
        "#Utilizado para obter os próximos metadados\n",
        "nlp_pt = Portuguese()\n",
        "#Podemos analisar as classes gramaticais das palavras utilizadas nos textos verdadeiros e falsos\n",
        "nlp_folha = spacy.load(\"pt_core_news_md\")\n",
        "\n",
        "def enriquece_metadados(df,nlp_pt,nlp_folha):\n",
        "  df[\"doc_pt\"] = df.apply(lambda x: nlp_pt(x.text) , axis=1)\n",
        "  df[\"doc_folha\"] = df.apply(lambda x: nlp_folha(x.text) , axis=1)\n",
        "  df[\"metadata3\"] = df.apply(lambda x: get_category(x.text) , axis=1)\n",
        "  df[\"metadata5\"] = df.apply(lambda x: get_num_tokens(nlp_pt,x.text), axis=1)\n",
        "  df[\"metadata6\"] = df.apply(lambda x: get_number_words_without_punctuation(x.doc_pt), axis=1)\n",
        "  df[\"metadata7\"] = df.apply(lambda x: get_num_palavras_unicas(x.doc_pt), axis=1)\n",
        "  df[\"metadata8\"] = df.apply(lambda x: \"Pendente\", axis=1)\n",
        "  df[\"metadata9\"] = df.apply(lambda x: get_number_words_in_upper_case(x.doc_pt), axis=1)\n",
        "  df[\"metadata10\"] = df.apply(lambda x: get_number_of_verbs(x.doc_folha), axis=1)\n",
        "  df[\"metadata11\"] = df.apply(lambda x: \"Pendente\", axis=1)\n",
        "  df[\"metadata12\"] = df.apply(lambda x: get_number_nouns(x.doc_folha), axis=1)\n",
        "  df[\"metadata13\"] = df.apply(lambda x: get_number_adjectives(x.doc_folha), axis=1)\n",
        "  df[\"metadata14\"] = df.apply(lambda x: get_number_adverbs(x.doc_folha), axis=1)\n",
        "  df[\"metadata15\"] = df.apply(lambda x: get_auxiliary_verbs(x.doc_folha), axis=1)\n",
        "  df[\"metadata16\"] = df.apply(lambda x: get_first_second_personal_pronouns(x.doc_folha), axis=1)\n",
        "  df[\"metadata17\"] = df.apply(lambda x: get_personal_pronouns(x.doc_folha), axis=1)\n",
        "  df[\"metadata18\"] = df.apply(lambda x: get_num_pronouns(x.doc_folha), axis=1)\n",
        "  df[\"metadata19\"] = df.apply(lambda x: get_pausality(x.text), axis=1)\n",
        "  df[\"metadata20\"] = df.apply(lambda x: get_num_caracteres(x.doc_pt), axis=1)\n",
        "  df[\"metadata21\"] = df.apply(lambda x: get_tamanho_medio_sentenca(x.text,x.doc_pt), axis=1)\n",
        "  df[\"metadata22\"] = df.apply(lambda x: get_tamanho_medio_palavras(x.doc_pt), axis=1)\n",
        "  df[\"metadata23\"] = \"Pendente\"\n",
        "  df[\"metadata24\"] = df.apply(lambda x: get_emotiveness(x.doc_folha,x.doc_pt), axis=1)\n",
        "  df[\"metadata25\"] = df.apply(lambda x: get_diversity(x.doc_pt), axis=1)\n",
        "  df[\"metadata26\"] = df.apply(lambda x: get_incerteza(x.doc_folha, x.doc_pt), axis=1)\n",
        "  return df"
      ],
      "metadata": {
        "id": "sNPkvI3rcezL"
      },
      "execution_count": null,
      "outputs": []
    },
    {
      "cell_type": "code",
      "source": [
        "def sort_drop_columns(df):\n",
        "  #após acabar de calcular os metadados apagar as colunas doc_pt e doc_folha\n",
        "  df = df.drop(columns=[\"doc_pt\",\"doc_folha\"])\n",
        "\n",
        "  #Reordenar as colunas para ficar de acordo com a planilha\n",
        "  df = df.reindex(columns=['received_timestamp', 'inference_timestamp','predicted_label','text',\n",
        "  'metadata1', 'metadata2', 'metadata3','metadata4','metadata5',\n",
        "  'metadata6', 'metadata7', 'metadata8', 'metadata9', 'metadata10',\n",
        "  'metadata11', 'metadata12', 'metadata13','metadata14', 'metadata15',\n",
        "  'metadata16','metadata17', 'metadata18', 'metadata22', 'metadata23',\n",
        "  'metadata24','metadata25', 'metadata26'])\n",
        "  return df"
      ],
      "metadata": {
        "id": "NchY-jFMa0IE"
      },
      "execution_count": null,
      "outputs": []
    },
    {
      "cell_type": "code",
      "source": [
        "Primeira_mensagem = True"
      ],
      "metadata": {
        "id": "AOYKftp4YjwH"
      },
      "execution_count": null,
      "outputs": []
    },
    {
      "cell_type": "code",
      "source": [
        "def consome_mensagens(consumer,chat,nlp_pt,nlp_folha,model_name,Primeira_mensagem):\n",
        "  while True:\n",
        "    for msg in consumer:\n",
        "      message = json.loads(json.loads(msg.value))\n",
        "\n",
        "      #Obtém o identificador do chat\n",
        "      peer_id = message[\"peer_id\"]\n",
        "      if \"chat_id\" in peer_id:\n",
        "        chat_id = peer_id[\"chat_id\"]\n",
        "      elif \"channel_id\" in peer_id:\n",
        "        chat_id = peer_id[\"channel_id\"]\n",
        "      else:\n",
        "        chat_id = \"\"\n",
        "\n",
        "\n",
        "      data = {\"received_timestamp\": datetime.now(),\n",
        "              \"text\" : message[\"message\"],\n",
        "              \"metadata1\":message[\"from_id\"][\"user_id\"],\n",
        "              \"metadata2\":\"Pendente\",\n",
        "              \"metadata4\": message[\"date\"],\n",
        "              \"id\": message[\"id\"],\n",
        "              \"chat_id\": chat_id,\n",
        "              \"mentioned\" : message[\"mentioned\"],\n",
        "              \"media_unread\": message[\"media_unread\"],\n",
        "               \"silent\": message[\"silent\"],\n",
        "              \"post\": message[\"post\"],\n",
        "              \"from_scheduled\":message[\"from_scheduled\"],\n",
        "              \"legacy\": message[\"legacy\"],\n",
        "              \"edit_hide\":message[\"edit_hide\"],\n",
        "              \"pinned\": message[\"pinned\"],\n",
        "              \"noforwards\": message[\"noforwards\"],\n",
        "              \"invert_media\": message[\"invert_media\"],\n",
        "              \"fwd_from\":message[\"fwd_from\"],\n",
        "             \"via_bot_id\": message[\"via_bot_id\"],\n",
        "             \"reply_to\":message[\"reply_to\"],\n",
        "             \"media\":message[\"media\"],\n",
        "             \"reply_markup\":message[\"reply_markup\"],\n",
        "             \"entities\":message[\"entities\"],\n",
        "             \"views\":message[\"views\"],\n",
        "             \"forwards\":message[\"forwards\"],\n",
        "             \"replies\":message[\"replies\"],\n",
        "             \"edit_date\":message[\"edit_date\"],\n",
        "             \"post_author\":message[\"post_author\"],\n",
        "             \"grouped_id\":message[\"grouped_id\"],\n",
        "             \"reactions\":message[\"reactions\"],\n",
        "             \"restriction_reason\":message[\"restriction_reason\"],\n",
        "             \"ttl_period\":message[\"ttl_period\"]\n",
        "        }\n",
        "\n",
        "      df = pd.json_normalize(data)\n",
        "      df[\"predicted_label\"] = df.apply(lambda x:  classifica_novo_texto(model_name, [x[\"text\"]]) , axis=1)\n",
        "      df[\"inference_timestamp\"] = datetime.now()\n",
        "\n",
        "      df = enriquece_metadados(df,nlp_pt,nlp_folha)\n",
        "      df = sort_drop_columns(df)\n",
        "\n",
        "\n",
        "      filename = \"mensagens-\"+str(chat)+\".csv\"\n",
        "      if Primeira_mensagem == True:\n",
        "        df.to_csv(filename, mode='a', index=False, header=True)\n",
        "        Primeira_mensagem = False\n",
        "      else:\n",
        "        df.to_csv(filename, mode='a', index=False, header=False)\n",
        "\n",
        "consumer = KafkaConsumer(topic_name,\n",
        "                        group_id=None,\n",
        "                         bootstrap_servers=['localhost:9092'],\n",
        "                         auto_offset_reset = 'earliest')\n",
        "\n",
        "#consome_mensagens(consumer,chat,nlp_pt,nlp_folha,model_name,Primeira_mensagem)\n",
        "thread_consumidor = threading.Thread(target=consome_mensagens, name=\"Consumidor\", args=[consumer,chat,nlp_pt,nlp_folha,model_name,Primeira_mensagem])\n",
        "thread_consumidor.start()"
      ],
      "metadata": {
        "colab": {
          "base_uri": "https://localhost:8080/"
        },
        "id": "xeGttlg-XtLY",
        "outputId": "07afda68-ec29-43ae-ff2d-ad8e8dc4eb88"
      },
      "execution_count": null,
      "outputs": [
        {
          "output_type": "stream",
          "name": "stderr",
          "text": [
            "WARNING:kafka.coordinator.consumer:group_id is None: disabling auto-commit.\n"
          ]
        }
      ]
    },
    {
      "cell_type": "code",
      "source": [
        "thread_consumidor.is_alive()"
      ],
      "metadata": {
        "colab": {
          "base_uri": "https://localhost:8080/"
        },
        "id": "9p3kl5RpKXkJ",
        "outputId": "34ef602e-eefc-4ea3-e863-c0a4cc4128f1"
      },
      "execution_count": null,
      "outputs": [
        {
          "output_type": "execute_result",
          "data": {
            "text/plain": [
              "True"
            ]
          },
          "metadata": {},
          "execution_count": 66
        }
      ]
    },
    {
      "cell_type": "code",
      "source": [
        "url = \"https://raw.githubusercontent.com/thiagomelostuckert/datathon-fakenews/main/mensagens-historico.csv\"\n",
        "df_mensagens = pd.read_csv(url)\n",
        "messages = list(df_mensagens[\"text\"])\n",
        "print(messages)"
      ],
      "metadata": {
        "colab": {
          "base_uri": "https://localhost:8080/"
        },
        "id": "4ng9dLp2mz0Z",
        "outputId": "99560593-0629-4f17-cf22-29625a3335b4"
      },
      "execution_count": 87,
      "outputs": [
        {
          "output_type": "stream",
          "name": "stdout",
          "text": [
            "['sinal tres poderes republica nao temem possibilidade punicao boca urna dado dias deste mes congresso nacional criou fundo financiamento campanha fazendo unica concessao trocar insultada democracia descricao factual objetivo dinheiro farto melhor piso teto bancar certamente bilionarias campanhas eleitorais dinheiro tungado contribuinte mesma ocasiao turma reunida abrigo cumbuca virada tigela emborcada concedeu membros merce pegar dinheiro emprestado cofres viuva comprometer pagar nao quer dizer pagarao dividas uniao conjunto espoliado povo brasileiro logo seguida votacao decidida voto coluna meio presidente belas frases vazias supremo tribunal federal stf carmen lucia judiciario devolveu nada insignes tambem nada insignificantes parlamentares poder tornarem foro superprivilegio intocaveis antes disso executivo alto poder monarquico havia recorrido expedientes rotina garantir imunidade pe meio chefe concluido processo esvaziamento cofres todos receptaculos suado amarfanhado dinheiro escorchado contribuintes parte sobrou saque promovido dois aliados antanho luiz inacio lula silva dilma janete vana rousseff linhares comprar discricao zero apoio terco deputados federais permaneca poder nao trata claro algo inusitado sequer original pratica vem tempos idos certamente sera repetida dias ainda nao vividos governos todas origens regimes todas confissoes fe ideologica sempre nunca sao aceitaveis sob nenhum ponto vista contemple nao apenas civismo comum manifestacoes honestidade pessoal governante compra votos congressista age forma perversa maligna democracia faziam coroneis guarda nacional imperio republica velha pratica malsa eleicoes bico pena sempre distorcao fatal democracia demanda recursos saliva poderosos momento paulo bonifacio jose tamm andrada ambos deputados aprisco senador aecio neto tancredo neves ministro justica governo democratico gege vargas golpe parlamentarista canonizado povo encarregou conduzir nova republica longa folha corrida bons servicos prestados poderosos ocasiao relator primeira denuncia rodrigo janot contra temer exemplo tambem nesta novissima republica nacional sai nao regenera filho ibrahim ministro justica plena vigencia republica injustica posta servico tecnocratas militares deputado tucano mineiro nao fez rogado encarregado produzir relatorio alternativo substituir peemedebista contra sergio zveiter bonifacio xara aparentado patriarca independencia sempre candidato ilustre brasileiro todos tempos nunca negou votar contra povo democracia longeva passagem camara deputados ajudou derrotar emenda dante oliveira restabeleceria eleicoes diretas presidente preferiu paulo maluf hoje fiel aliado temer antes ja lula tancredo colegio eleitoral sempre sombra sim nobre parente cuja fotografia orna gabinete cujo exemplo nao honrado desempenhoi parlamentar desonra alias nao limita aspectos politicos eticos relatorio documento altura libelo acusatorio inepto insolito republica rodrigo janot tambem originario alterosas inepcia acusacao defesa travestida relatorio contudo nada ver derrota sempre dada liquida certa segunda tentativa denuncia contra presidente republica organizacao criminosa obstrucao justica margem votos favor morador jaburu ocupante planalto exclusivamente manobras manutencao mandato chefe governo qualquer custo banquetes palacio casa leais aliados distribuicao cargos benesses cumprimento obrigacao legal pagamento emendas orcamentarias vez usados nao porque habito cachimbo entorta boca principalmente porque meio eficaz levar rapidamente mao boca comer consentir desta vez contudo historia sera mal contada nao contiver novos elementos vice dilma posto ascendeu nunca usurpou garantem antigos aliados nele votaram hoje chamam golpista acrescentou rica casos pobre meritos historia celebracao malfeitos nome democracia brasil hoje ha bens vem mal distorcao bons ditos sabedoria popular responsaveis maior orgulho producao nacional agroindustria corretamente comparada galinha ovos ouro chiqueiro povoado gambas ta', 'policia federal fernando segovia comunicou telefone noite desta ministro justica torquato jardim decisao justica federal impedir luiz inacio lula silva sair pais ministro orientou segovia dar ciencia casa modo evitar constrangimentos segundo informou pasta juiz federal vara df ricardo leite determinou apreensao passaporte luiz inacio lula silva pt confirmou noite desta assessoria policia federal assessoria pf nao informou passaporte sera apreendido dia seguinte condenacao operacao lava jato confirmada tribunal regional federal regiao petista afirmou nesta vai respeitar decisao judicial sentenciou anos mes prisao pretende embarcar madrugada desta etiopia retorno marcado janeiro lula diz nao respeitara decisao justica formalizar presidencia lula informou sobre viagem tribunal regional federal regiao semana passada destino encontro lideres etiopia proximo dia convite uniao africana entidade reune estados retorno previsto dia segundo proprio informou meio advogados semana passada tribunal regional federal regiao pedido protocolado vara federal aonde lula reu operacao zelotes suposto trafico influencia lavagem dinheiro compra cacas suecos governo dilma roussef lula luiz claudio lula filho casal lobistas mauro marcondes cristina mautoni denunciados ministerio publico federal caso todos sao acusado negociacoes irregulares levaram compra cacas modelo gripen governo brasileiro prorrogacao incentivos fiscais destinados montadoras veiculos meio medida provisoria procuradoria republica afirma acusacao crimes sido praticados lula ja havia deixado palacio planalto condenacao confirmada nesta tribunal regional federal regiao tres votos zero entender triplex condominio solaris guaruja representou propina oas desembargadores corte ainda aumentaram pena petista anos meses determinada juiz federal sergio moro anos mes prisao regime fechado relator joao pedro gebran neto revisor processo leandro paulsen determinaram seguindo sumula tribunal lava jato execucao pena lula efetivada apos esgotamento recursos corte nesta tres advogados chegaram pedir apreensao passaporte tribunal regional federal regiao evocando viagem etiopia caso ainda nao julgado palavra advogado cristiano zanin martins defende lula grande estarrecimento recebemos noticia decisao proferida juizo vara federal brasilia proibiu luiz inacio lula silva deixar pais determinou apreensao passaporte juiz fundamentou decisao processo nao sob jurisdicao apelacao relativa chamado caso triplex julgado ontem tribunal regional federal regiao havia sido informado sobre viagem nao opos qualquer restricao lula assegurado constituicao federal direito ir vir cf art xv somente pode ser restringido hipotese decisao condenatoria transitada julgado nao caiba qualquer recurso nao existe acreditamos nao existira porque nao praticou qualquer crime brasil apresentou defesa perante comite direitos humanos onu afirmando nao ha restricao direito viajar exterior decisao hoje proferida reforca violacoes garantias fundamentais tal exposto comunicado feito instancia internacional lula convidado uniao africana participar encontro lideres mundiais fazer balanco encontro ocorrido ha anos tratar problema fome africa ja havia informado justica retorno dia passaporte lula sera entregue policia federal amanha prejuizo medidas cabiveis reparar indevida restricao direito ir vir cristiano zanin martins palavra instituto lula nota enviada continha incorrecao terceiro paragrafo juiz ricardo soares leite chegou decretar suspensao atividades instituto lula maio nao constou segue texto corrigido sao paulo resposta apreensao passaporte luiz inacio lula silva pt emitiu nota ha pouco afirmando decisao cria vexame internacional pais partido dirigiu criticas juiz federal vara distrito federal ricardo soares leite determinou apreensao lula preparava embarcar etiopia voo carreira desta sexta retorno marcado domingo conforme partido ricardo leite muitos erros ja afastamento solicitado ministerio publico assunto forma descabida extemporane', 'pai transexual relata luta contra preconceito balada nao ser agredida jessyca dias transexual jundiai conquistar direito usar nome social documento ter feito cirurgia mudanca sexo preocupado possiveis episodios preconceito filha transexual jessyca dias poderia sofrer durante juventude sapateiro arlindo dias jundiai sp tomou decisao amor protecao ate bares baladas jessyca anos primeira transexual cidade conquistar direito usar nome social documentos pessoais ter feito cirurgia mudanca sexo conquista segundo resultado processo apoio toda familia entrevista transexual destaca protecao pai alem todo apoio sempre deu escolha melhor pai mundo pois entende aceita sinto privilegiada ter pai ensinou respeitar diferencas acima tudo ensinou nao devo ter medo enfrentar mundo amo demais homem jessyca lembra pai passou apos ser vitima violencia vez agredida puxaram cabelo levei rasteira so nao apanhei porque gente perto protegeram disso pai ficou medo passou acompanhar alguns lugares arlindo afirma desde infancia percebia filha comportamento diferente outras criancas nunca preconceito relacao orientacao sexual percebemos comportamento porque davamos carrinho nao queria deixava lado juntava bonecas meninas jessyca assumiu familia mulher trans anos somente decidiu comecaria transformar corpo jovem fez acompanhamento psicologico frequentou sessoes terapia ajudaram confirmar ser mulher aprisionada corpo homem pouco tempo jessyca deu inicio mudancas fisicas tomando hormonios antiandrogeno servem inibir manifestacao hormonios masculinos corpo seguida comecou tambem tratamento hormonios femininos fase marcou vida atendente pois deixou lado roupas homem anos jessyca colocou proteses silicone seios cirurgia reforcou ainda feminilidade atendente confessa maiores medos durante transicao afastamento amigos infancia jessyca garante todos entenderam aceitaram transformacao atualmente jessyca cursa recursos humanos conta apesar preconceitos nunca ficou mercado trabalho conhece muitas transexuais sofrem tendo otimo curriculo gosto gente faco curso tecnico recursos humanos sonho dia conseguir fazer psicologia durante transicao pai conta nao entendia bem filha ainda assim aceitou bem escolha nenhum momento pensou deixar falar manter contato pai revelou nao nenhum preconceito ja percebeu olhares risos maldosos direcionados filha hoje conta brinca situacao prefere ver filha bem importar opinioes alheias amor grande nao explicar duas filhas sao coisas importantes vida jessyca conseguiu direito corrigir documentos pessoais enfrentar batalha quase quatro anos justica decisao inedita cidade pouco mil habitantes segundo instituto brasileiro geografia estatistica ibge conta hoje sente cidada jessyca diz sempre decicida buscar alterar registro documentos procurou ajuda judicial fazer retificacao advogada rose gouvea comenta processo dificil sempre otimista hoje nome jessyca dias impresso tanto certidao nascimento rg cnh felizmente nao precisamos chegar ate supremo tribunal federal conseguimos vitoria segunda instancia triubunal justica sao paulo concedeu direito jessyca usar nome mudar genero certidao nascimento jessyca conta infancia sete anos sabia comportamento diferente criancas mesma idade futebol coisas meninos faziam nao fazia gostava ficar junto meninas brincando boneca lembra passar periodo escolar dificil entao procurar psicologo descobrir forma resistir ataques brincadeiras preconceituosas maioridade jessyca abriu familia apos quatro anos buscando recurso justica jessyca realizou sonho ate posto atendimento poupatempo fez documentos rg carteiras trabalho motorista totalmente realizada diz primeira transexual mudar nome documentos jundiai veja noticias regiao sorocaba jundiai', 'video lula dilma conhecimento caixa diz marcelo odebrecht assista delacao odebrecht base inqueritos autorizados ministro edson tanto lula quanto dilma sabiam caixa segundo marcelo odebrecht embora nao conhecimento valores exatos veja videos abaixo trechos depoimento odebrecht diria dilma sabia grande parte apoio direcionado joao santana varias vezes longo tempo ainda nao pedisse pagamento joao santana varias vezes conversas mencionou questao sabia apoio dava amigo afirma empresario outro trecho depoimento marcelo fala sobre reunioes mantinha dilma explica media dois encontros longos ano duravam duas quatro horas quais discutiam diversos assuntos reunioes segundo constavam agenda publicas geral aconteciam palacio alvorada algumas ocasioes chegou encontrar jornalistas saida alem disso dois tambem encontravam rapidamente diversos eventos longo ano vistorias inauguracoes obras segundo empresario nessas ocasioes aproveitavam discutir temas urgentes poucos minutos segundo marcelo odebrecht contato dilma rousseff comecou ministra minas energia nunca relacao direta lula empresario tambem esclarece principais interlocutores tanto assuntos relativos pt quanto temas referentes governo federal antonio palocci guido mantega outro momento depoimento marcelo odebrecht afirma sobre pratica caixa dois outro video marcelo odebrecht comenta situacao dilma estaria desconfiada politicos pmdb estariam recebendo dinheiro empresa inclusive atual presidente michel temer executivo diz tambem apoio odebrecht campanhas eleitorais senadores deputados federais beneficiavam empresa durante mandatos visto compromisso moral marcelo odebrecht conta ainda procurado aecio neves vesperas turno eleicao presidencial pedido doacao entao candidato psdb busca folego campanha relata outro tema abordado depoimento marcelo odebrecht financiamento arena corinthians sede jogo abertura copa mundo segundo modelo negocio decidido reuniao informal casa contou presenca representantes governos federal estadual municipal corinthians ronaldo nazario marcelo odebrecht afirmou projeto fechado jantar casa janeiro ja governo dilma rouseff pt governador sao paulo geraldo alckmin psdb prefeito sao paulo gilberto kassab psd presidente banco nacional desenvolvimento economico social bndes luciano coutinho tambem presentes corinthians entao presidente clube andres sanchez entao diretor marketing luis paulo rosenberg ronaldo nazario lima trouxeram ronaldo fenomeno so dar importancia evento visao afirmou odebrecht marcelo odebrecht fala ainda sobre pagamento vantagens indevidas aumento linha credito exportacao angola afirma planejamento paulo bernardo encarregado lula solicitar us milhoes durante liberacao linha credito us bilhao diz entao ministro guido mantega nao participou negociacoes embora responsavel linha credito nunca tratei desses nunca nenhum pedido nunca fiz nenhuma especie sinalizacao disso tambem garante segundo marcelo dinheiro trazido angola abatimento us milhoes convertidos cerca r milhoes epoca ministro edson fachin relator operacao lava jato supremo tribunal federal stf autorizou nesta procuradoria geral republica investigar ministros governadores senadores deputados pedidos baseiam chamada lista janot feita base delacoes odebrecht donos empresa marcelo odebrecht leia tambem lista completa investigacoes autorizadas fachin', 'magnata ecologista financia campanha contra trump tom steyer ira destinar us milhoes ajudar democratas tentar maioria congresso eleicoes deste ano tambem financia campanha impeachment trump ja apoio milhoes pessoas magnata ecologista americano tom steyer anunciou nesta destinara us milhoes ajudar democratas recuperar maioria camara representantes eleicoes novembro continuara financiando campanha visando impeachment presidente donald trump steyer revelou ainda nao sera candidato legislativas deste ano omitiu planeja concorrer presidencia magnata informou reforcara apoio campanha internet destituir presidente republicano ja conta quatro milhoes pessoas objetivo donald trump destituido declarou steyer durante entrevista coletiva washington novembro sera renovada totalidade camara representantes terco senado ambos dominados republicanos tom steyer planeja destinar us milhoes organizacao nextgen rising procura mobilizar eleitorado jovem decisivo segundo disse definir proximas eleicoes sera ano luta alma deste pais anos steyer antigo proprietario fundos especulativos fortuna avaliada us bilhao segundo revista forbes', 'lista fachin prefeitos sao paulo maioria acusacoes sobre repasses recursos campanhas municipais nao declarados justica eleitoral todos citados negam empreiteira odebrecht citaram nome prefeitos cidades grande sao paulo interior paulista delacao premiada homologada ministro edson fachin supremo tribunal federal stf diversos politicos candidataram cargo tambem aparecem lista grande maioria delacoes revelam repasses recursos nao contabilizados campanhas especial pratica popularmente conhecida caixa dois delatores colocam sob suspeita financiamento corrida eleitoral executivo municipios todo estado abc ribeirao preto fachin remeteu instancias inferiores sao paulo peticoes indicios sobre envolvidos ja nao foro privilegiado decidirao citacoes merecem ser investigadas juntadas alguma investigacao ja curso simplesmente arquivadas falta provas todos envolvidos negam acusacoes sao bernardo campo delatores relatam pagamento vantagens luiz marinho pt reeleito prefeito r mil doacao oficial r mil nao contabilizados troca marinho missao aproximar executivos odebrecht alto comando petrobras assessoria imprensa luiz marinho informou todos valores recebidos campanhas constam prestacoes contas todas devidamente aprovadas justica eleitoral santo andre delator diz ter repassado valores carlos alberto grana pt campanha acabou eleito doacao oficial nao pode ser dito sobre contribuicao dada odebrecht nilson bonome pmdb concorreu pleito acordo delacao nao declarada carlos alberto grana disse todas contribuicoes campanha declaradas recebeu odebrecht apenas aparece prestacao contas oficial pediu posicionamento nilson bonome nao havia retornado contato ate maua ainda abc delatores afirmaram ter feito doacoes nao contabilizadas donisete pereira braga pt vanessa damo orosco pmdb tambem dois disputaram segundo turno cidade petista saiu vencedor nao conseguiu contato donisete braga vanessa damo guarulhos segunda maior cidade estado pagamento sebastiao alves almeida pt segundo delacao neste caso duas oportunidades eleito primeira vez reeleicao guarulhos sebastiao almeida afirma contas todas campanhas disputou vida analisadas aprovadas justica eleitoral todos casos doacoes feitas respeitando legislacao vigor epoca permitia contribuicao pessoas fisicas juridicas doacoes proprio partido meio comites nacional estadual municipal campinas ja interior estado delatores apontaram repasses cidade rosely nassim santos mulher helio oliveira santos doutor helio pdt empreiteira doado dinheiro campanha politico garantir contratada obra estacao tratamento esgoto assessoria rosey nassin santos disse eptv so vai posicionar apos ter acesso conteudo investigacao mogi guacu repasses irregulares tambem estariam relacionados esgoto delatores relata doacao r mil entao candidato reeleicao paulo eduardo barros pv levasse adiante privatizacao sistema saneamento basico cidade barros entanto derrotado urnas disse nao recebeu dinheiro hipotese alguma aguarda investigacao sumare cristina carrara psdb recebido r mil alavancar campanha valor nunca declarado segundo delacao estadual professor tito pt concorreu prefeitura cidade ano passado tambem citado executivos odebrecht cristina carrara disse nota ve tranquilidade decisao stf recursos campanha eleitoral contabilizados forma lei professor tito disse desconhece delacao nao viu nome lista alem disso afirma nao recebeu dinheiro algum odebrecht contas estao aprovadas afirma limeira municipio empreiteira abusou filantropia acordo delatores empresa doado quantias campanhas eliseu daniel dem lusenrique quintal psd paulo hadich psb acabou eleito hadich disse nao recebeu via legal ilegal qualquer recurso odebrecht nao conhece nunca conversou delator cita nome garante relacao construtora restringe papel vereador oposicao fiscalizava trabalho empresa cidade prefeito fiscalizava indiretamente execucao contrato ainda diz acusacoes delator nao qualquer fundamento fatico salienta todos recursos recebidos campanha contabilizados ja empresario lusenrique q', 'aloysio nunes osmar serraglio tomam posse planalto ministros senador assume ministerio relacoes exteriores lugar jose serra deputado ministerio justica vaga deixada alexandre moraes presidente michel temer deu posse nesta palacio planalto novos ministros relacoes exteriores aloysio nunes ferreira justica osmar serraglio aloysio nunes assume itamaraty lugar tambem senador psdb jose serra cargo desde maio ano passado pediu demissao ha duas semanas aloysio ocupava cargo lider governo senado funcao passara ser exercida romero juca caso ministerio justica osmar serraglio passa comandar pasta lugar alexandre moraes indicado presidente michel temer aprovado senado vaga teori zavascki supremo tribunal federal stf discurso posse ministros temer voltou destacar integracao extraordinaria palacio planalto congresso nacional presidente disse repetitivo reafirmou nao ter problema nenhum dizem atual governo semelhante semiparlamentarismo atualmente ministros dezena sao parlamentares quais deputados mendonca filho educacao osmar terra desenvolvimento social bruno araujo cidades raul jungmann defesa alem senador blairo maggi agricultura governo democratico especialmente quer modificar cultura politica voce saber governa executivo lado legislativo judiciario solucionando eventuais pendencias possam ocorrer fazemos conviccao acrescentou presidente temer aproveitou discurso elogiar novos ministros destar desafios osmar serraglio aloysio nunes terao frente duas pastas caso serraglio exemplo presidente citou plano nacional seguranca lancado inicio deste ano governo diante crise sistema carcerario rebelioes massacres diversos estados plano responsabilidades ministerio justica assim forca nacional seguranca policia federal departamento penitenciario nacional ja aloysio nunes presidente destacou novo ministro alem conhecer brasil conhece mundo comissao relacoes exteriores senado novo chanceler tera atribuicao disse temer fazer universalizacao relacoes internacionais aloysio nunes nascido aloysio nunes advogado formado universidade sao paulo usp ciencia politica economia politica universidade paris conheca trajetoria novo ministro biografia publicada site oficial senador tucano diz precisou sair brasil conta acoes contra ditadura militar exilio franca entrevista jornal folha sao paulo senador falou sobre assalto trem pagador integrava acao libertadora nacional aln responsavel dirigir carro roubado usado fuga acao parte guerrilha tentava derrubar regime militar volta brasil duas vezes deputado estadual sao paulo estado deputado federal tres mandatos eleito senador durante presidencia fernando henrique cardoso secretaria geral presidencia republica ministro justica ja senador aloysio nunes concorreu republica chapa formada aecio neves naquele ano chegaram disputar segundo turno eleicao perderam chapa dilma rousseff pt michel temer comissao relacoes exteriores senado aloysio nunes tera lidar questoes relacoes brasil estados unidos negociacoes acordo comercial mercosul uniao europeia novembro ano passado ainda senador aloysio nunes afirmou atual presidente estados unidos donald trump ha pior incontrolado exacerbado integrantes partido republicano osmar serraglio nascido rio grande sul osmar serraglio deputado estado parana quinto mandato parlamentar conheca trajetoria novo ministro peemedebista ficou conhecido nacionalmente assumiu relatoria cpi correios investigou esquema mensalao pt deputado pmdb tambem ganhou projecao nacional ano passado presidiu comissao constituicao justica camara longo carreira parlamentar osmar serraglio tambem relator pec transfere governo federal congresso nacional responsabilidade sobre demarcacao terras indigenas ainda camara deputado tambem relator proposta muda modelo atual indicacao ministros stf relembre deputado serraglio contra indicacao ministros estado stf frente ministerio justica osmar serraglio sera responsavel exemplo conducao plano nacional seguranca secretaria nacional seguranca departamento penitenciario nacional', 'mulher socia marqueteiro joao santana monica moura contou investigadores operacao lava jato delacao premiada dilma rousseff telefonou republica dominicana onde marido avisar ambos presos acusacao altissima gravidade teor explosao nuclear julgamento acao psdb contra chapa vencedora reeleicao publica relator lava jato ministro edson fachin homologou delacao premiada casal ligacao sido feita fevereiro ano passado casal alvo fase operacao lava jato deflagrada dia seguinte absurdo total comentario jornal eldorado radio eldorado fm maio ouvir clique aqui seguida play ouvir vem nao carlos imperial wilson simonal clique aqui eldorado maio mulher socia marqueteiro joao santana monica moura contou investigadores delacao dilma rousseff telefonou republica dominicana onde casal avisar presos acusacao gravissima nao revelacao voce acaba dizer gravissima publica ontem relator lava jato ministro edson fachin homologou delacao premiada marqueteiro mulher ligacao sido feita fevereiro ano passado casal alvo fase operacao lava jato deflagrada dia seguinte relato monica mantinha casal comunicacao permanente passando tudo comunicado advogado impeachment entao ministro justica jose eduardo martins cardozo ser citado confessou fato obrigacao funcional manter chefe informada sobre passava area nao deixa ter razao papelao feio fez dona dilma avisar cumplices sobre decisoes importantes investigacao ordem prisao casal prestes ser dada juiz responsavel operacao lava jato sergio moro episodio vergonhoso biografia dilma ate hoje repete exaustivamente estilo alfabetizada recente refrao mulher honesta mae avo nao conta exterior nao quer dizer absolutamente nada principalmente agora acaba ser desmascarada algo enlameia historia republica caso faz parte outra coisa tambem vergonhosa troca secretos tambem revelado monica delacao nao pois joao monica tambem contaram ministerio publico federal mpf sobre troca informacoes dilma respeito avanco operacao lava jato dois detalharam criacao comum petista avisados sobre investigacao ficticio monica criou brasilia ser chamada urgencia dilma nova york marido casal recebia avisos tipo amigo doente rascunhos nao enviados troca correspondencia segundo delacao incluia macaneta dilma giles azevedo casal publicitarios tambem contou pagamentos via caixa dois intensificaram governos dilma rousseff segundo participacao direta joao santana detalhou dilma participava conversas sobre caixa dois contou maio junho almoco dilma testemunhas presidente tranquilizou sobre divida campanha sobre pagamentos caixa dois reproduziu delacao diz ter ouvido dilma fique tranquilo tudo sera resolvido rapidamente relacao divida planejando vai permitir inclusive pagarmos parte antecipada campanha deste ano contou dois meses eleicao pagamentos so comecaram sair interferencia direta dilma segundo publicitario presidente dilma rousseff demonstrou irritacao disse iria tratar assunto guido mantega apos conversa pagamentos comecaram ser feitos jamais ritmo prometido divida campanha presidencial r milhoes caixa dois repassado acusado intermediar pagamentos propinas zwi skornicki us milhoes r milhoes restou ainda divida r milhao segundo casal nunca paga parte quitada pode ser comprovada segundo monica moura extratos pagamentos parcelas feitos zwi skornicki pagamentos campanha dinheiro vivo tambem r milhoes entregues especie odebrecht sao paulo pessoas monica moura disse acreditar doleiros monica contou tratava esquema profissional passava endereco recebia palavra senha recebia dinheiro local indicado desconhecido modelo repetiu campanha reeleicao dilma valor caixa dois maior r milhoes dilma tratou pagamentos ilegais ate dentro palacio alvorada segundo monica moura publicitaria contou abordou assunto conversas particulares dilma intervalos gravacoes pronunciamentos oficiais joao santana dirigia palacio alvorada anexo delacao premiada marqueteiro joao santana informou ministerio publico federal luiz inacio lula silva dilma rousseff ciencia pagamentos oficiais ca', 'cheguei escola todo roxo drama maes criancas alergias alimentares graves brasil estudos indicam aumento numero casos apoio lei maes brasileiras convivem perigo joao alergia grave proteina leite escola ciente nesse dia falha puseram bandeja mousse maracuja frente pegou achando pudesse joao nao aceita comida qualquer pessoa perguntava desde pequeno bolo alergico nunca pergunta escola casa porque confia comeu colher professora viu mandou cuspir nao adiantou ligaram tres vezes primeiro antes comecar reacao perguntei nao inchado nao tossindo nao nada poe perua manda casa disse cinco minutos comecou reacao ligaram novo pedi medicar disse indo la peguei bolsa ligaram terceira vez conseguia ouvir mal ouvia barulho fazia tentando respirar adrenalina tal tal tal pessoas sabem aplicar falei nao ninguem aqui agora responderam pessoal treinado mim ido embora medicamento instrucao ingles figuras coordenadora comecou perguntar fazia fechei olho tentar concentrar expliquei vez voltou fazer perguntas nao responder nao tempo le aplica desliguei telefone sai dirigindo cheguei escola nao sabia ia encontrar sentado todo roxo parecia afogado esbocou choro nao chora pedi achava nao aguentaria chorasse hospital tomar outra injecao adrenalina demorado dar primeira quase nao fez efeito demorassem pouco poderia ter morrido reacao acontece voce agir rapido demora medicar adrenalina nao faz efeito helena colonelli administradora empresas mae joao pedro sete anos filho alergia grave ovo peixe aprendendo lidar vergonha contar colegas sociedade trata alergia frescura dizem agora moda alergia alimentar pensam escolha nao querer comer certo ingrediente caso filho grave doenca privilegiada porque consigo comprar adrenalina caneta preco depende r mil r mil unidade contato alergenico precisa ser medicado dentro minutos levado hospital imediatamente escola politica nao aplicar medicamento criancas nao podia correr risco contato acidental entao hora almoco ia porta escola fiz durante dois anos exagero nao vou proteger filho trabalhava pedir licenca medica emprego depressao ficou estressante viver sensacao filho nao seguro rebeca mae adolescente gustavo nomes sao ficticios depoimentos acima revelam pouco vivem maes criancas alergias alimentares brasil situacao ainda pior populacao baixa renda pouca instrucao acesso informacao legislacao sobre assunto incipiente oferece pouca protecao alergicos medicamentos poderiam salvar vidas nao estao venda mercado segundo pessoas ouvidas bbc brasil alergia resposta exagerada sistema imunologico substancia estranha organismo caso alimentar substancias estranhas sao certas proteinas presentes alimentos ha poucos estudos sobre problema brasil segundo dados associacao brasileira alergia imunologia asbai criancas adultos alergias alimentares reino unido pais populacao milhoes meio pessoas cerca mil recebem tratamento hospital causa reacoes alergicas graves cada ano volta dez morrem anualmente vitimas reacoes alergicas dados coletados centers disease control and prevention centros controle prevencao doencas estados unidos revelaram aumento casos alergias alimentares menores anos pais crescimento numero alergicos entanto fenomeno global dizem especialistas razao aumento nao sabemos diz medica ha varias hipoteses especialistas suspeitam alergias resultado interacao fatores geneticos ambientais alguns sugerem carencia vitamina d teoria protegeria individuos contra alergias raiz desse aumento outros apontam exemplo uso excessivo detergentes tipo parto mae nascidos partos cesarianos tendencia desenvolver alergias hereditariedade fator importante segundo asbai estudos indicam pacientes alergia alimentar possuem historia familiar alergia pai mae apresentam alergia probabilidade terem filhos alergicos qualquer alimento pode desencadear reacao alergica brasil proteina leite vaca ovo peixe crustaceos estao frequentes falando bbc brasil medica alergista renata cocco pesquisadora universidade federal sao paulo unifesp explicou mecanismo desencade', 'apenas doze horas supremo tribunal federal impedir prisao menos ate conclusao julgamento habeas corpus preventivo marcado dia lula voltou desafiar operacao lava jato atribuiu voltou negar veemencia dono apartamento triplex guaruja pivo condenacao anos mes prisao clamou quero suprema corte analise merito processo analise stf vota lula ganha tempo brasileiro leigo nao entende nada entrevista nesta radio super conda chapeco sc lula enfatico evitado falar desse processo porque prefiro advogados falem sendo vitima mentira acho historia vai poder contar povo brasileiro policia federal mentiu inquerito mandou ministerio publico ministerio publico pegou inquerito mentiroso transformou acusacao mentirosa pro moro juiz sergio moro lava jato moro deu sentenca mentirosa vem pro tribunal lava jato deu outra sentenca mentirosa sorte lula sera decidida supremo pascoa ministros irao votar pedido lider petista permanecer liberdade ate esgotem todos recursos contra condenacao sofreu caso triplex decisao desta supremo blinda enquanto petista prisao propria defesa apontou proxima tribunal regional federal regiao vai julgar recurso decisivo lula embargos declaracao esgotados recursos atribuicao determinado imediata execucao pena desde fevereiro supremo autorizou prisao segundo grau judicial moro substituta juiza gabriela hardt ja mandaram executar execucoes pena nao so lava jato tambem outras grandes operacoes contra colarinho branco trafico internacional drogas sabem nao dono apartamento sabem nao indicio dono teimam dizer apartamento disse lula radio super conda depoimento pro moro disse compromissado condenar mentira contada power point dallagnol procurador republica deltan dallagnol quero verdade coragem dizer lula telha apartamento lula taco apartamento lula vaso sanitario pagou centavos apartamento escritura apartamento algum cartorio santos guaruja cubatao alguma coisa mostrar pra sociedade brasileira inventaram nao sabem sair dessa mentira espero suprema corte faca correcao necessaria to pedindo deus suprema corte analise merito processo analise provas acusacoes defesa porque meio crime contra mim to politica falou tambem sobre politica candidato chance ganhar eleicoes grande continuarem fazendo besteiras perseguindo sabem posso ganhar primeiro turno nao tentem evitar presidente mentiras', 'deputados avaliam criticas picciani impeachment pezao entra debate entrevista cbn presidente alerj chamou governador incompetente deputados oposicao acreditam criticas picciani sao reacao exigencia teto gastos poderes assunto dia assembleia legislativa rio alerj nesta entrevista concedida presidente casa deputado jorge picciani pmdb radio cbn lider pmdb chamou governador correligionario luiz fernando pezao incompetente deu entender voltaria analisar pedidos impeachment pezao alem falar intervencao governo federal estado alguns deputados oposicao criticas picciani governador podem ser reacao exigencia governo federal estabelecimento teto gastos poderes legislativo executivo judiciario entanto base governo entende legislacao ja estabelece limite entrevista piccini tratou essencialmente mensagem enviada aplicativo conversas lider governo deputado edson albertassi conversa picciani enfatiza plenario vai votar contas governo referentes ja rejeitadas unanimidade tribunal contas estado mesma mensagem presidente alerj cobra governador resolucao sobre plano recuperacao fiscal assevera ha apenas duas opcoes estado saia crise intervencao federal impedimento governador final jorge picciani suaviza discurso diz esforcando nao chegar veja abaixo integra mensagem contas estao comissao orcamento alerj deverao ir voto final agosto inicio setembro albertassi tambem nesta quinta escolhido relator parecer sobre contas deputado marcelo freixo psol acredita base governo casa reagindo necessidade estabelecer teto gastos poderes segundo contrapartidas estado aderisse regime recuperacao fiscal deputado luiz paulo psdb disse pezao prestigio baixa alerj situacao governador deteriora cada dia ate porque articula politicamente mal porque muitas questoes ser previamente combinadas estrategia errada crise dessa voce nao pode escolher punir servidores ta perdendo sao servidores populacao nao articula age forma erronea submete fortemente anseios brasilia botou poderes entao rapidamente corroido pouco prestigio casa afirmou ja andre ceciliano pt preside sessoes alerj enquanto picciani passa tratamento contra cancer mesma opiniao presidente alerj entender rio janeiro ja cumpriu exigencias governo federal presidente jorge picciani deixou claro questao impeachment relativo parecer tribunal contas vai passar comissao orcamento vai vir plenario coloca solucao assinar acordo governo federal botar dia salarios afirmou ceciliano deputado paulo melo pmdb minimizou impacto entrevista picciani dizendo aparente racha partido assemelha briga familia deputado picciani maneira clara colocou posicionamento acho inclusive preferivel voce lidar pessoas voce conhece comentou deputado paulo melo pmdb governador rio janeiro luiz fernando pezao disse nao vai comentar declaracoes presidente assembleia legisltiva rio alerj jorge picciani radio cbn manha desta picciani disse solucao estado intervencao governo federal impeachment pezao governador declarou trabalhando fechamento ajuste plano recuperacao fiscal rj uniao nao vou comentar opiniao presidente poder respeito dedicado fechar ultimo ponto falta fechar maior acordo ajuste uniao falta pouco disse mensagem apresentador edmilson avila rjtv pezao reuniu manha desta quinta palacio guanabara comissao representantes movimento unificado servidores estado muspe integra mensagem picciani albertassi querido amigo vejo surpresa negociacoes sobre questao teto poderes posicao politica diferente primeira interpretacao poderia ate pensar recomendacao dada voce outros companheiros aproveitar doenca votar projeto prevalecendo intimo nao acredito nessa possibilidade ate lealdade outros companheiros interesse publico governo nao apresenta forma transparente alerj fez ate agora despreparado governador levou rio nivel descontrole precedentes assim tido ate agora apoio legislativo judiciario inclusive liberacao quase r bilhoes aprovada alerj muitas perguntas ficaram resposta onde resultado dita auditoria cem maiores contratos empresas prestadoras serv', 'casa apos anos internado luiz miguel surpreende cada dia menino viveu hospital desde nasceu descobre alegrias lar convivencia pais irma sorocaba tres anos cinco meses internado hospital nasceu ha tres semanas casa familia espirito santo pinhal interior sao paulo ninguem segura menino luiz miguel manda dedo agita bracos bate palmas solta gargalhada vai arrastando atras si parafernalia tubos maquinas gente alegria pequeno guerreiro contagia pais lucio livia irmazinha lavinia enfermeiras home care nao cabe casa vizinhos parque nacoes bairro popular tambem alegram saga menino ate cachorra serena nao pular correr conta mae tudo porque luiz miguel monteiro filomeno sobrevivente historias naufragos jangadas perdidos mar revolto nasceu dia fevereiro prematuro semanas corpo ainda formacao dois pulmoes nao abertos receber ar esofago nao conectara estomago assim bebe nasceu vida equipe medica hospital maternidade celso pierro pontificia universidade catolica usou todos recursos medicina vivo sao herois dedicaram colocaram prova todo conhecimento menino vivesse afirma mae costureira livia silva monteiro anos conta assim examinaram bebe medicos ja sinalizaram so milagre sobreviveria crianca ma formacao vertebras pulmao nao completo esofago obstruido ainda precisavam testar intestino cinco dias luiz miguel hemorragia craniana passou cirurgia esofago recebeu sonda estomago medicos diziam nao ia aguentar nao queria ir embora sentia queria viver cada procedimento gente pedia deus fizesse melhor continuava vivo agarrado tubinho oxigenio tres meses exames acusaram quadro hidrocefalia excesso liquido cerebro precisou instalar valvula cabeca pequeno demais equipamento precisou ser feito sob medida mes cirurgia bem sucedida porem medicos fizeram traqueotomia instalar respirador artificial traqueia distendeu dreno deslocou valvula cerebro la vai luiz miguel volta centro cirurgico ate fazer ano luta diaria medicos diziam caixinha surpresas revezavamos hospital marido pais sogros familia toda alterou rotina livia deixar emprego empresa marido policial militar lucio flavio campos filomeno anos conseguiu mudar curso escola policia militar fazia sao paulo campinas mae conta segundo filho planejado lavinia unica filha casal seis anos familia mudado casa propria diabetica acompanhamento gravidez desde inicio tudo normal semanas bolsa rompeu livia internada hospital pinhal fazer reposicao liquido amniotico envolve feto nao conseguiu segurar bebe transferida pressas hospital puc casa luta diaria continua lar adaptado necessidades quarto nao lembrasse ambiente hospitalar caminha igual lavinia apenas baixa protecao lateral mandamos serrar pes diz livia paredes lado cartazes instrucoes medicas rotina limpeza filtro respirador mensagens carinho estavamos medo estranhasse ambiente sempre vivido aqui diz pai menino assistido equipe home care medico pediatra enfermeiros nutricionista psicologo fisioterapeuta alimentacao preparado lacteo dada sonda gastrica luiz miguel pesava quase kg deixou hospital engordou cerca gramas la ca gracas extensor tubo oxigenio menino pode deixar quarto brincar sala quintal ate chegar calcada onde ja acena vizinhos comeca interagir serena observa ate brinca pessoas rua conta pai nesta segunda ensinava pequeno descer sofa ate visita menino ja recebeu sabado passado equipe cuidava luiz miguel hospital ate casa familia deu ver alegria pais fazem planos nao depender tubo ligado bipbap aparelho oxigenio pressao positiva medicos puc disseram parte neurologica normal entao ja pensamos nele fazendo natacao lavinia indo escola sonha mae interacao irma surpreende pais ouve voz ve ja comeca gritar conta lucio lavinia ate recusou voltar escola ferias acompanhar todos passos irmaozinho precisou psicologa conversar porque queria ficar perto estao dando super bem lado alegria ter filho casa surgem preocupacoes saida livia emprego ganho r mil mes familia passou depender exclusivamente salario lucio trabalha policial campinas salario base r renda famili', 'defesa presidente michel temer dividiu oito capitulos pedido excecao suspeicao impedimento republica rodrigo janot denunciou crime corrupcao passiva caso jbs paginas encaminhadas ministro edson fachin relator operacao lava jato caso jbs supremo tribunal federal criminalista antonio claudio mariz oliveira expos argumentos contra atuacao janot topicos flechadas alvo errado advogado toma base declaracoes republica imprensa mariz destaca exemplo afirmacao janot congresso associacao brasileira jornalismo investigativo sao paulo julho enquanto bambu la vai flecha evento janot questionado sobre situacao presidente michel temer afirmou sobre provas vai passar recibo tipo prova satanica quase impossivel segundo mariz afirmacoes janot congresso abraji denotam janot somenos importante flechar parece pouco interessar procurador alvo ser atingido alem pessoa fisica michel temer instituicao presidencia republica instituicoes republicanas sociedade brasileira nacao fundamental dar continuidade sanha arqueiro contumaz afirmou acusacao pedacos mariz aponta fatiamento denuncia elementos levam suspeicao janot segundo advogado republica nao presidente tranquilidade desenvolvimento pais evidencia frustracao buscas embora cite tres quatro crimes ainda nada ofereceu concreto igualmente nao desistiu intento deveria feito continua dizer vai fatiar denuncia defensor temer tambem critica pedido suspeicao procurador inclusao nome peemedebista rol investigados inquerito apura pmdb insistente tentativa investigar usar expressao cara proprio flechar presidente alvo arco pessoa presidente republica nao importam fatos ausencia imparcialidade advogado temer sugere audios joesley batista especialmente gravado conversa presidente marco palacio jaburu comprometem peemedebista contrario janot afirmado analisar gravacoes janot impedido defesa temer adotar providencias cabiveis analise gravacao tida base probatoria imputacao alias exibido audio nao cautela minima simplesmente deixou autor clandestina ilegal gravacao joesley batista interferencia policia federal mariz argumenta janot delegado especifico conducao investigacoes presidente evidente desrespeito demais integrantes valorosa corporacao policia federal meridiana percepcao designacao delegado funcao diretor geral policia federal nao responsavel outra instituicao fato representaria indevida intervencao organizacao outra doc impunidade incompreensivel advogado temer diz entender chefe ministerio publico federal delatores criminosos benesses chocaram sociedade brasileira ambito acordo firmado executivos jbs confessassem crimes ademais antes conceder imunidade delatores ministerio publico nao investigado conteudo delacoes verdadeiro falso alega protagonismo excessivo advogado peemedebista acusa janot provas contra provas presidente republica demonstrar tange fatos estariam sendo apurados utilizando sempre retorica apta impressionar ouvintes discorria sobre fatos emitia opinioes nenhuma parcimonia falava demonstrava absoluta parcialidade assim continua agir afirma denuncia ofertada ja rechacada camara deputados alem constatar congresso enterrou primeira denuncia contra peemedebista advogado antnio claudio mariz oliveira afirma ver empenho pessoal ato acusar temer rodrigo janot segundo advogado republica nao conseguiu provar mala r mil jbs entregue delator ricardo saud homem confianca temer rodrigo rocha loures beneficio presidente infamante imputacao extraida realidade nao apenas reproduz desejo acusar acusar meio fantasioso enredo avalia funcoes conflitantes advogado temer ainda entende imparcialidade janot mudanca procurador republica marcelo miller integrante lava jato assumir cargo escritorio advocacia atuou acordo leniencia j f tal fato si so ja gravissimo conflito interesses clarissimo atuacao dois lados acordo si so condenavel afirma', 'maranhao pede tempo apos pp propor renuncia negociada nova reuniao partido deve acontecer deputado vai revelar colegas decisao brasilia bancada pp camara deputados decidiu reuniao nesta tentar renuncia negociada waldir maranhao casa antes dar seguimento processo expulsao partido maranhao pediu convocada nova reuniao nesta afirmou estaria presente anunciar decisao reuniao pp ficou decidido grupo deputados legenda procuraria maranhao tentar negociar renuncia antes encaminhar executiva nacional posicionamento expulsao partido argumento parlamentares pp diriam caso renuncie presidente interino garantia salvacao mandato segundo deputado julio lopes rj responsavel falar maranhao presidente exercicio camara dito voce nao direito pedir renuncia deputado carioca entao disse colega obrigacao manter bom funcionamento camara ai maranhao pediu tempo pensar reuniao executiva nacional pp marcada terca adiada quarta lopes afirmou ideal solucao breve possivel ja comunicado faticamente nao condicao presidir camara disse etica dem psd entraram representacao conselho etica camara acusando maranhao quebrar decoro parlamentar anular sessao camara aprovou abertura processo impeachment presidente dilma representacao pode levar cassacao mandato bancada fez encaminhamento favor expulsao antes vamos tentar proposta tambem encaminhada renuncia negociada afirmou lider pp aguinaldo ribeiro pb decisao reuniao executiva nacional sigla trataria processo expulsao adiada presidente pp senador ciro nogueira pi explicou executiva nao tera aprovar afastamento cautelar provisorio maranhao pedido deputado julio lopes junto pedido expulsao definitivo segundo dirigente nao ha previsao estatutaria broadcast politico apurou cupula partido quer evitar expulsao definitiva maranhao impedir presidente interino camara migre outro partido menor bloco pp poderia tentar manter cargo ja renuncia facil partido tentar pedir primeira volta legenda indicar substituto embora deputado maranhense sido eleito interpretacao maioria legenda cabe sigla acordo politico culminou eleicao tanto maranhao quanto eduardo cunha caso renuncie cargo camara deputado giacobo assumiria interinamente comando camara convocaria eleicao ate cinco sessoes eleito comandaria casa interinamente enquanto durar afastamento cunha presidencia camara apoio maranhao preside tarde desta reuniao mesa diretora deve ouvir outros integrantes nao apoio continuar cargo argumento deputados nao consultados sobre decisao maranhao anular sessoes camara discutiram processo impeachment presidente dilma rousseff dias abril presidente exercicio agiu forma unilateral maranhao anulou tramitacao impeachment manha revogou anulacao madrugada terca volta maranhao deixou gabinete seguiu presidencia camara onde acontece reuniao mesa diretora trajeto vinte metros provocou enorme tumulto jornalistas segurancas maranhao ficou silencio apesar perguntas sobre possibilidade renunciar colaborou luciana nunes leal', 'guerra coreia norte ultima pais fez teste missil balistico intercontinental caiu japao tensoes peninsula estao maiores nunca possivel novo confronto regiao poderia ser peninsula coreia ja guerra entao lider kim avo atual mandatario kim decidiu invadir vizinho sul estados unidos intervieram conter invasao conflito durou tres anos causou muitas mortes prejuizo material leia coreia norte afirma eua estao alcance misseis hoje seis decadas tensoes peninsula estao fortes nunca king continua desafiando comunidade internacional testes nucleares ultima pais fez missil balistico intercontinental viajou cerca minutos caiu aguas zona economica exclusiva japao menos milhas nauticas costa inicio deste mes governo declarou havia lancado sucesso missil balistico intercontinental capaz chegar alasca presidente estados unidos donald trump advertiu existe possibilidade grande enorme conflito coreia norte hoje dia confronto peninsula maiores potencias nucleares planeta interesse regiao guerra coreana comecou entao superpotencias estados unidos uniao soivetica passaram dividir mundo apos segunda guerra mundial sovieticos haviam ficado controle parte norte peninsula americanos parte sul dia junho coreia norte apoiada uniao sovietica china invadiu coreia sul imediatamente estados unidos enviaram forcas militares ajudar pais combater invasao comunistas ajuda washington seul capital recuperada dois meses china vez preocupada decisao estados unidos mobilizar forcas ate norte tentar reunificacao peninsula interveio conflito ai todas partes envolvidas comecaram falar sobre usar armas atomicas bombas nucleares comecou batalha reunificar coreia ameacou tornar terceira guerra mundial nuclear tres anos conflito chegou impasse permaneceu acordo enquanto restava regiao apenas enorme destruicao cerca milhoes coreanos mortos mil orfaos uns milhoes desabrigados completa devastacao disse bbc sue terry assuntos coreia agencia central inteligencia americana cia professora universidade nacional seul pyongyang ficou destruido nao havia predio pe descreveu dia julho duas partes decidiram firmar armisticio criado medida temporaria asssegurar fim hostilidades hoje anos dois paises seguem tecnicamente guerra crescente hostilidade regiao tensoes lider kim presidente americano donald trump alguns especialistas acreditam bastaria erro calculo dar inicio guerra zona desmilitarizada divide duas coreias areas fortemente armadas mundo disse bbc david maxwell coronel aposentado exercito estados unidos analista centro estudos seguranca universidade georgetown norte exercito cm milhoes membros servico ativo forcas estao concentradas pyongyang zona desmilitarizada explica maxwell ajudou planejar resposta americana potencial segunda invasao coreia norte sul exercito enorme disse especialista uns milhoes membros forcas reserva acredito quarto maior exercito mundo maxwell considera recentes testes nucleares coreia norte lancamentos misseis aumentam cada vez probabilidade ataque preventivo estados unidos kim pensar estao preparando ataque contra pode ordenar comandantes iniciem guerra comandantes ordens abrir fogo toda artilharia provocariam maior destruicao possivel coreia sul primeiras horas haveria centenas milhares disparos projeteis lancamentos misseis contra sul principalmente dirigidos seul disse especialista so necessarios alguns minutos projeteis chegassem norte ate seul milhoes pessoas capital area metropolitana nao tarefa facil mobilizar habitantes ate areas protegidas projecoes vitimas inicio combate indicam poderia haver mil mortos somente primeiro dia guerra assim disse david maxwell nivel sofrimento provocaria algo nao podemos imaginar completa objetivo governo assim fizeram anos mobilizar forcas ate sul obrigar governo seul firmar paz permitir unificacao peninsula sob controle coreia norte objetivo confronto nao esperavam estados unidos acudir coreia sul desta vez entanto nao ha duvidas washington totalmente disposto intervir imediato conflito apoiar seul estados unidos', 'campinas tres cidades fecham unidades programa farmacia popular governo federal hortolandia indaiatuba sumare perderam unidades ministerio diz municipios receberao verbas medicamentos poderao distribuir rede cinco maiores cidades regiao metropolitana campinas sp menos quatro ficarao unidades rede propria programa farmacia popular sera encerrado governo federal ate final julho campinas hortolandia sp indaiatuba sp sumare sp ja anunciaram unidades fecharao prefeituras continuarao recebendo verba destinada medicacoes ofertadas programa segundo ministerio saude precisam definir onde vao populacao programa oferece remedios gratuitos preco custo voltados tratamento doencas afetam populacao diabetes hipertensao principalmente idosos governo federal alega gastos rede propria pagamentos pessoal manutencao predios sobrando restante compra remedios fim programa prefeituras receberao aumento verba compra medicamentos variavel acordo numero habitantes poderao ser distribuidos unidades saude rede publica exemplo partir recebimento verba federal fica cargo cada prefeitura fazer compra medicamentos antes oferecidos programa tambem ja estao solicitados regularmente municipios informou ministerio municipios tambem podem optar manter unidades proprias abertas arcando custos operacionais governo federal afirma vai continuar funcionando programa aqui farmacia popular convenio feito farmacias particulares distribuem alguns medicamentos problema variedade remedios disponibilizados unidades rede propria programa serao fechadas maior farmacias conveniadas enquanto rede farmacia popular estao disponiveis tipos medicamentos farmacias particulares conveniadas numero campinas fechara ate dia julho duas unidades cidade so restara aqui farmacia popular prefeitura informou distribuicao medicamentos programa sera meio centros saude cidade outro programa aqui farmacia popular ja vinha ocorrendo duas unidades ficam rua doutor quirino centro rua clovis bevilacqua jardim brasil regiao guanabara secretaria saude hortolandia diz recebeu oficio ministerio saude junho informando fim repasse manutencao operacionalizacao unidades farmacia popular hortolandia autorizando fechamento servico municipio disse ainda nao informado sobre repasse verbas programa compra medicamentos hortolandia recebia mensalmente uniao r mil manutencao operacao cada unidade farmacia popular sendo municipio contava duas jardim amanda outra regiao central programa atendia cerca pessoas mes cidade secretaria municipal saude sumare tambem recebeu nesta semana oficio ministerio saude informando sobre encerramento farmacia popular atendera populacao somente ate dia julho dessa data ate final mes sera realizado inventario medicamentos outras pendencias necessarias prestacao contas secretario saude sumare carlos eduardo vicente afirma ministerio saude responsavel manutencao programa demanda medicamentos sendo direcionada farmacias municipais localizadas junto unidades saude outro servico prefeitura ainda rede particular conveniada ate dia julho unidade localizada rua ipiranga regiao central continuara atendendo segunda sabado acordo prefeitura indaiatuba governo federal ira manter atividades farmacia popular ate dia julho sobre repasse municipio nao recebeu nenhum comunicado oficial segundo administracao secretaria saude aguardando orientacoes ministerio saude cidade possui duas farmacias ja disponibilizam medicamentos populacao maioria consta lista farmacia popular segundo prefeitura locais sao farmacia unificada farmacia morada sol admnistracao informou ainda comunicada oficialmente sobre recebimento verba vai estudar anunciar sera feito relacao destinacao complementacao medicamentos ministerio saude diz estados municipios terao incremento compra medicamentos atencao basica sus equivalente r milhoes ano anuncio feito ministro saude ricardo barros diz acao objetivo ampliar oferta efetiva insumos farmaceuticos tratamento doencas diabetes hipertensao asmas possivel economia operacional valor repassado a', 'gilmar mendes diz caso jbs grande vexame stf fachin responde alma paz ministros comentaram caso sessao segunda turma corte analisa processos lava premiadas jbs sob suspeita estao sendo revisadas ministro gilmar mendes supremo tribunal federal stf afirmou nesta plenario segunda turma caso jbs grande vexame corte afirmou relator tema ministro luiz edson fachin corre risco ter nome manchado delacoes premiadas executivos j f grupo controla jbs estao sendo revisadas ministerio publico federal mpf suspeita omitido informacoes autoridades termino fala mendes fachin tambem segunda turma respondeu nao constrange julgar base prova autos afirmou alma paz discussao ocorreu apos inicio julgamento sobre recebimento denuncia apresentada operacao lava jato procuradoria geral republica contra deputado eduardo fonte ministerio publico pediu abertura acao penal identificar provas deputado cometeu crime corrupcao passiva participar negociacao psdb sergio guerra morreu abastecimento petrobras paulo roberto costa barrar investigacoes cpi petrobras senado fachin votou recebimento denuncia ministro dias toffoli divergiu votando rejeicao acusacao arquivamento caso porque considerou denuncia baseou apenas delacoes coletar provas seguida ministro ricardo lewandowski pediu vista tempo analisar caso gilmar mendes entao pediu palavra falar sobre caso jbs mendes falou cerca minutos sobre tema disse supremo vive momento delicado razao delacoes referiu tambem suspeita executivos jbs auxilio procurador deixando cargo marcelo miller sob investigacao casos agora estao sobre mesa sao altamente constrangedores saindo imprensa saira proximos dias meses certamente vao corar frade pedra ja fala abertamente delacao delcidio escrita marcello miller agente atuava agora ja sabe atuou procuradoria republica la fez aqui tambem portanto situacao delicadissima stf enfrentando quadro vexame institucional disse ministro mendes ainda citou lava jato ministro teori zavascki morto acidente aviao janeiro disse teori deve estar rezando tribunal momento certamente lugar onde ministro teori rezando dizendo deus poupou desse vexame vivenciando grande vexame maior ja vi historia tribunal afirmou ministro gilmar mendes mendes disse fachin referendou delacoes jbs relator lava jato ludibriado pode ter nome manchado nesse caso imagino drama pessoal fachin ter sido ludibridado miller et caterva comparsas deve impor constrangimento pessoal grande nao invejo dramas pessoais porque certamente poucas pessoas longo historia stf viram confrontadas desafios tao imensos grandiosos tao poucas pessoas historia stf correm risco ver nome propria corte conspurcado decisoes vao revelar equivocadas disse ministro mendes ainda concluiu lewandowski nao pedido vista caso eduardo fonte votaria rejeitacao denuncia disso fachin agradeceu palavras mendes respondeu mantinha posicao reitero voto proferi base naquilo entendo prova autos agradeco preocupacao vossa excelencia menos ver julgar acordo prova autos nao deve constranger ninguem menos ministro suprema corte tambem agradeco preocupacao vossa excelencia digo alma paz afirmou fachin', 'relator confirma voto acao contra cunha parecer sera votado semana vem tropa choque cunha seguiu orientacao presidente camara diante repercussao negativa manobras protelatorias semana passada quieta durante toda sessao desta tarde atualizada brasilia apos defesa eduardo cunha tentar substituir relator processo cassacao contra presidente camara deputado fausto pinato confirmou nesta voto favor seguimento acao contra peemedebista conselho etica pedido coletivo vista encabecado deputado sergio brito votacao parecer acontecera somente proxima dezembro arquivamento inicial representacao extremamente temerario passaria impressao sociedade brasileira parlamento nao atua cuidado cautela espirito publico transparencia diz relatorio pinato dessa forma aptidao justa causa representacao afirma documento cunha acusado mentir cpi petrobras marco deste ano negar existencias contas exterior tropa choque cunha seguiu orientacao presidente camara diante repercussao negativa manobras protelatorias semana passada quieta durante toda sessao desta tarde estadao mostrou cedo cunha havia pedido calma aliados pois defesa feita advogado marcelo nobre representa peemedebista conselho etica unico aliado fez intervencoes deputado manoel junior insistiu pinato antecipou voto anunciar imprensa havia indicios preenchiam requisitos necessarios seguimento acao contra cunha sessao desta comecou deputados inclusive tres pt nao haviam ajudado dar quorum sessao ultima apesar pacto nao agressao firmado cunha planalto petistas disseram votarao favor relatorio antes inicio leitura relatorio deputados contrarios cunha nao fazem parte conselho etica entraram silencio plenario onde ocorria sessao antes lideres oposicionistas presidencia camara informar eduardo cunha nao participariam reuniao colegio lideres instancia discute materias serao votadas plenario naquela semana substituicao leitura relatorio antes divulgacao oficial voto advogado marcelo nobre pediu pinato substituido interesse defesa apresentar preliminar suspeicao afirmou nobre defesa insurge reclama indigna relator nao aguardou disse advogado pinato sorriu discretamente defesa cunha apresentada ultima advogado cunha relator antecipou conceder entrevista ultimo dia deveria ter aguardado apresentacao defesa preliminar diz respeito manifestacao publica feita relator ja antecipando voto defesa nao insurge quanto antecipacao voto relator insurge quanto manifestacao baseada unicamente acusacao afirmou defesa direito ver argumentos considerados advogado encerrou pendido pinato retirado conta antecipacao publica fez entendimento baseado unicamente acusacao nomeado novo relator pinato reagiu imediato considerou nesta fase processo nao cabe apresentacao defesa acontece somente apos eventual aprovacao parecer tranquilo defender arguicao tao absurda afirmou desafio achar onde exame preliminar atrelado defesa previa duvidar inteligencia daqueles operam direito disse pinato relator protocolou nesta complementacao voto rebate suspeicao nao qualquer acodamento parte deste relator cumprimento tarefa designada maneira celere afirmou nao ha previsao defesa preliminar referente requisitos admissibilidade nenhum momento impediu requerente realizar defesa nesta fase relator nao obrigado esperar qualquer manifestacao parte representado formar conviccao disse fausto pinato nao reconheco suspeicao reafirmo capacidade julgar procedimento concluiu deputado sessao encerrada pedido coletivo vista primeiro pedir sergio brito seguido arnaldo faria sa saida plenario advogado cunha marcelo nobre disse pedido vista vitoria defesa porque aberta oportunidade trazer alguns argumentos proxima semana semana vem estarei preparado continuar defesa cliente afirmou advogado rechacou possibilidade cunha ir pessoalmente conselho etica defender defensor disse acusacoes republica pgr contra peemedebista carecem provas devido processo legal ocorrera supremo tribunal federal stf caso denuncia pgr acolhida nobre acredita possivel derrubar todos argumentos', 'deputado federal afirma plenario lula maior ladrao pais chefe organizacao criminosa', 'dia mainardi esfolou eike batista homem negocios voce tonico tinoco inicio jornalista diogo mainardi participou eike batista nocauteou milionario sequencia porradas virtuais palavras diogo voce visto parece figura mundo espetaculos mundo negocios sensacao empresas sao especie corrente santo antonio existem fato sucesso baseia promocao pessoal voce proximo regina duarte tonico tinoco homem negocios confira video abaixo', 'joesley nois vai vira amigo desse janot ninguem vai ser preso corruptor famoso brasil mostra lado desonesto sombrio cara vou contar negocio serio servico ne gente vai acabar virando amigo desse ministerio publico voce vai ver nois vai virar amigo desse janot nois vai virar funcionario desse janot risos vai falar lingua voce sabe questiona joesley final video acougueiro geral republica diz uns barulhos ai deixa deixar claro aqui nao vou ser preso ninguem vai ser preso ja barbariza assim', 'papisa joana mulher governou igreja catolica apedrejada ate morte durante seculos igreja catolica romana tentou esconder historia todas narrativas suprimidas vaticano longo milhares anos especial recusa desaparecer igreja conservadora ainda trata mulheres subordinadas fonte consideravel constrangimento assumir mulher possa ter comandado maior estrutura religiosa todos tempos vaticano assegura joana figura lendaria surgido atraves boatos plantados primeiros protestantes objetivo embaracar desacreditar roma historia varias compreensoes alguns relatos sugerem joana jovem oriental nascida constantinopla passou homem intuito ampliar conhecimentos ja apoca estudos restritos homens possuindo vasta sabedoria filosofia teologia apresentado monge chegar roma doutores igreja impressionaram capacidades intelectuais relato conta apos morte papa leao iv joana conquistado papado passou ser tratada nome joao vii anos joana engravidado membro guarda suica mantinha relacoes secretas gravidez acobertada alguns meses devidos trajes papais largos confortaveis meio procissao conta versao papisa atacada fortes dores parto acabou dar luz rua estreita tendo multidao testemunha revoltadas pessoas testemunhado fato reagiram declararam trono sao pedro sido profanado joana condenada morte apedrejada ate ultimo suspiro trajeto deu luz erguida estatua figura mulher carregando crianca bracos', 'mensagem enigmatica postada twitter horas antes morte teori zavascki adriano argolo advogado petista fez alerta minimo esquisito hoje conta twitter publicou vou avisar pq vao culpar lula pt delacao odebrecht entrando politicos varios paises vai gerar assassinatos argolo ja conhecido redes sociais postagem sugeriu tiro meio testa juiz sergio moro veja mensagem postada hoje praticamente hora antes acidente aviao ministro stf teori zavascki leia tambem', 'estaleiro revela pagou suborno r bilhoes petrobras durante governo fhc estaleiro keppel fels cingapura confirmou obteve acordo leniencia autoridades paises incluindo brasil segundo informacao publicada folha paulo pago suborno valor total us milhoes r bilhoes durante governo fernando henrique cardoso corrupcao relativa construcao plataforma petrobras dados constam documentos departamento justica eua keppel fels maiores estaleiros mundo tambem relatou pagamento propina petrobras durante governos lula dilma algo torno us milhoes r milhoes desta vez fhc conseguiu superar rivais politicos deixou lula dilma chinelo segundo apuracao folha nao primeira vez delatores destacaram pagamento propinas petrobras durante governo fernando henrique cardoso', 'humorista demitido sbt pede ajuda silvio santos leva chega pra la carlinhos aguiar humorista recem demitido sbt ficou chateado ser chamado departamento rh empresa decidiu ir atras patrao pedir segunda chance acordo imprensa aguiar prestou servicos sbt quase anos estaria tentando fazer impossivel reverter situacao gesto desesperado funcionario demitido resolveu esperar silvio santos porta cabeleireiro jassa ultimo dia local frequentado semanalmente dono emissora carlinhos companhia filho abordou silvio porem conversa nao durou alguns segundos video abaixo divulgado redes sociais dono bau nao muita atencao humorista encerra conversa tchauzinho site uol carlinhos revelou silvio rude disse oi carlos voce fazendo aqui carlos contou ficou tranquilo negativa explicou motivo ir atras silvio precisava continuidade convenio medico porque esposa doente explicou', 'marvada pinga atrapaio jornal dia mostra bebedeira leticia sabatella portal ig divulgou fotos atriz leticia sabatella exagerando bebida deitando asfalto apos manguacada noticia novembro atriz gosta sair midias vamos relembrar vexame texto jornal dia acompanhada casal amigos dentistas ana caetano sergio gianvechio atriz abusou doses vodca la cinco manha deu vexame leticia deitou asfalto saida bar nao forcas sequer levantar produtora peca ajudou atriz levantar chao pior amigo fez foto divulgou nao nao programa balanco geral tv record tambem noticiou fato confira partir minuto', 'sergio moro manda recado apoiadores importante compartilhem neste sabado juiz sergio moro divulgou facebook video aconselhando apoiadores ate curitiba dia interrogatorio luiz inacio lula silva proximo dia vai ocorrer interrogatorio oportunidade defender ato normal processo ouvindo muita gente apoia operacao pretende vir curitiba manifestar apoio sergio moro garante nada anormal ira acontecer destaca apoio manifestantes nao necessario assim passamos evitar conflitos maiores segundo maior preocupacao alguem machuque portando suma importancia deixar justica faca trabalho tudo quer evitar agora alguem machuque sugestao nao venham nao precisa vamos deixar justica fazer trabalho espero todos compreendam finalizou juiz', 'lula dilma fhc aparecem lista janot serao investigados detalhe nao foro fhc lula dilma citados lista pgr rodrigo janot casos serao investigados instancias inferiores onde juizes sao concursados coisa realmente funciona nao possuem foro privilegiado luiz inacio lula silva alvo cinco peticoes alem petista tambem sao citados irmao frei chico filho lula luis claudio frei chico apontado recebedor mesada r mil paga odebrecht durante periodo dez anos informou revista veja informacao faz parte acordo delacao firmado alexandrino alencar ligado odebrecht publicada folha dizia ilustre jornalista joao mariano cercarmos brasilia grades belo presidio', 'justica condena revista istoe retratar sobre reportagem dilma citada perturbada justica df concedeu direito resposta presidente afastada dilma rousseff acordo defesa dilma revista istoe publicou reportagem considerada ofensiva titulo presidente si juiza proferiu sentenca obrigou revista publicar manifestacao dilma destaque dimensao materia citada advogados dilma recorreram justica porque revista nao atendeu pedido baseado lei direito resposta lei argumentou conteudo reportagem nao injurioso ser objeto publicacao pessoa ocupante presidencia republica nao autoriza qualquer meio comunicacao divulgar deliberadamente quaisquer informacoes sob manto direito informacao vez tal direito ser guiado veracidade conteudo publicado proferiu juiza', 'psol stf legalizar aborto ate semanas partido jean willys pode enfim conseguir legalizacao aborto brasil segundo partido maneira homenagear mulher brasileira mes mulher semana comemora dia internacional mulher psol entrou acao descumprimento preceito fundamental adpf supremo tribunal federal descriminalizacao aborto ate semana gravidez acao psol pede concedido liminar suspender prisoes flagrante inqueritos policiais andamento processos cujas decisoes judiciais basearam artigos codigo penal partido pede reconhecido direito constitucional interrupcao gestacao primeiro trimestre periodo considerado padrao paises legalizaram aborto partido lembra stf ja decidiu aborto permitido casos fetos anencefalia tambem apresentou decisao recente turma onde entendimento aborto ate tres meses nao pode ser considerado crime camara deputados reagiu decisao stf criou comissao especial discutir aborto psol sustenta criminalizacao aborto impede acesso interrupcao segura dignidade mulheres risco vez hoje nao podem decidir querem nao ser maes principais pautas movimento feminista necessario debate perspectiva direitos humanos disse advogada partido luciana boiteux', 'enquanto filho lula mora apto r milhoes filha obama trabalha restaurante sasha anos filha presidente poderoso planeta trocou mordomias casa branca correria restaurante frutos mar trabalhando nancy s funcao cuidar caixa onde clientes pedem comida viagem alem limpar mesas preparar restaurante abertura hora almoco nao dinheiro sim responsabilidade carater trabalho proporciona ser humano dignidade garota tera resto vida cacula lula luis claudio lula silva dono contratos milionarios movimentou r milhoes contas bancarias tera explicar policia federal ocupa imovel avaliado cerca r milhoes pagar unico centavo aluguel valores atuais mercado gira torno r mil luleco ocupa imovel ha quase cinco anos predio fica localizado area nobre sao paulo bairro jardins registrado nome mito participacoes ltda empresa cotistas esposa filhas advogado roberto teixeira amigo padrinho batismo luis claudio leia tambem', 'dia globo passou vergonha tomou licao moral vivo durante reportagem realizada canal tv cabo globo news indio desmascarou reportagem globo fato indios estarem usando mascaras contra gas reportagem acordo especulava estariam comercializando drogas ser confrontada reporter ficou imovel', 'reviravolta caso victor policia civil indicia cantor sertanejo crime vias fato caso sertanejo victor tomou novo rumo cantor indiciado policia civil contravencao penal prevista artigo decreto lei ha cerca dois meses poliana procurou policia denunciou artista lesao corporal afirmou fevereiro havia sido derrubada chao chutada epoca exame corpo delito dado negativo agressao poliana retirou queixa nesta semana policia minas gerais analisou varias imagens circuito interno predio onde casal mora determinou indiciamento victor pcmg policia civil informa relatou justica inquerito instaurado partir denuncia agressao registrada poliana chaves diante provas coletadas pcmg concluiu indiciamento victor chaves contravencao penal prevista artigo decreto lei conforme demonstrado laudo pericial imagens cameras seguranca predio depoimento vitima informou nota imprensa redigida policia civil minas gerais leia tambem', 'professora chama atencao aluno chegar atrasado di menor coloca fogo escola inteira caso aconteceu feijo municipio acre fica cerca km capital rio branco estudante anos rapaz atearam fogo escola estadual rural vicente brito sousa informou policia crime ocorreu ultimo dia apos desentendimento estudante anos professora colocado fogo escola porque professora chamou atencao chegar atrasado sala aula carlos ribeiro anos preso ja di menor apreendido secretaria educacao acre informou nova escola sera construida local sera tomada solucao temporaria estudantes nao fiquem aula local inteiro destruido materiais didaticos merendas computadores instalacoes fisicas etc', 'video funcionaria filma ator descontrolado dentro hospital nao vamos julgar ator porque trata claramente caso dependencia quimica iremos apenas relatar ocorrido terceiro video circula redes sociais mostra fabio assuncao agredindo verbalmente funcionarios hospital cidade arcoverde pernambuco ator sido levado pm acalmar animos provavelmente ser medicado repare senhora pede assuncao parar gritaria pai anos hospitalizado aqui olha voce fazendo', 'porque ministra stf citou nova ordem mundial discurso posse rapido resumo nova ordem mundial eliminar fracos personalidades bill gates ted turner discutem abertamente reducao populacao mundial ate objetivo final eliminacao darwiniana grande parte humanidade somente fortes sobreviveriam donos poder grande maioria massas sao consumidores idiotizados imersos video games televisao junk food porcarias besteiras nao podem oferecer nenhuma contribuicao significativa futuro civilizacao humana seres humanos deixaram ser humanos governantes mafia assassina inescrupulosa cujo unico objetivo obter poder economico apoiados poder militar explorar recursos humanos planeta terra ate nao explorar fomentar caos global aniquilar fracos enquanto estao prontos retirarem bunkers eliminar bilhoes pessoas silenciosos cordeiros quiser saber sobre assunto clique aqui carmen lucia nova presidente stf faz mencao nova ordem mundial primeiro discurso alguma coisa ordem nova ordem mundial ministra agora quarta linha sucessoria presidencia republica devendo ocupar posto caso temer rodrigo maia renan calheiros impedidos alguma razao intrigante posse nova ordem mundial', 'juiz determina sigilo sobre emprestimos bndes porto mariel quebrado r bilhoes marcelo rebello pinheiro juiz vara federal df proferiu sentenca favoravel exiba documentos referentes emprestimo bndes porto mariel cuba irregularidades devem sobrepor sigilo disse juiz valor benesse bndes porto cubano chega us milhoes ministerio desenvolvimento industria comercio exterior gestao fernando pimentel havia classificado contrato secreto justificando nele constam informacoes sigilosas decreto contrato so faria conhecido marcelo pinheiro juiz disse existencia indicios irregularidades operacoes financiamento reconstrucao porto mariel dever sigilo sobre contratos', 'valdo cruz vem ai delacao fim mundo varios politicos ja estao escondendo gabinetes jornalista valdo cruz cobre bastidores mundo politica economia brasilia anunciou pouco vem ai delacao fim mundo disse cruz relatou comportamento politicos alterou apos confirmacao assinatura delacoes premiadas odebrecht vale ressaltar delacoes ainda precisam passar aprovacao stf assim ja pra notar mudanca comportamento politicos brasilia explicou valdo certa ansiedade relacao delacoes tomou conta capital federal politicos ja estao evitando corredores camara acordo jornalista diversos parlamentares estao escondendo gabinetes busca informacoes sobre delacao fim mundo pergunta assombra parlamentares neste exato momento sera envolvido nessas delacoes explicacao valdo tanto temor politicos quase todas doacoes feitas odebrecht nao contabilizadas declaradas feitas atraves esquema ilegais tendencia dessas delacoes pegar todo mundo tanto governo quanto oposicao finalizou fonte globo news', 'tom cruise construiu bunker us milhoes tudo desmoronar estarei seguro cruise disse preparando dia d ator investiu fortuna mansao localizada beverly hills california cruise membro seita cientologia gastou milhoes dolares construir bunker abrigo subterraneo fica localizado embaixo quadra tenis esconderijo sala ginastica lavanderia varias salas descanso mansao adquirida ator us milhoes proposito exclusivo servir esconderijo possivel guerra nuclear bunker artista imagem abaixo segue risca planos preparacao julgamento final cientologia informou marc headley seita tudo desmoronar sabem precisarao lugar esconder disse marc trabalhou durante anos sede internacional cientologia los angeles igreja cruise tambem possui varios bunkers espalhados eua esconderijos sao chamados capsulas tempo maioria localizado montanhas', 'karl marx comunista sustentado esposa filhos morreram fome suicidaram marx dedicava conspiracoes enquanto familia passava fome ocupava coisas teoricas avesso trabalho incapaz sustentar proprios rebentos filhos quatro morreram devido estilo vida miseravel levavam sobraram dois cometeram suicidio tentou penhorar talheres prata provavelmente roubados brasao familia esposa dono loja penhores desconfiou chamou policia sempre despejado casas alugava nao pagava emprestimos pegava amigos situacao financeira idolo esquerdista so melhorou esposa jenny von westphalen recebeu pequena heranca assim apunhalou costas traiu companheira empregada governanta amiga intima jenny filho bastardo chamado freddy pediu amigo assumisse crianca esposa descobriu adoeceu gravemente apesar ter sobrevivido doenca jenny ficou surda cicatrizes vivesse tempos atuais cidadao preguicoso encostado alguma estatal aposentar custas dinheiro publico', 'jornalista confirma lula elegeu dinheiro roubado petrobras site jornalista global diogo mainardi disse petrobras nestor cervero entregou lula delacao feita hoje manha confira noticia depoimentos lava jato segundo veja nestor cervero contou campanha lula financiada propina paga contrato vitoria lula elegeu dinheiro roubado petrobras operador julio camargo ja havia admitido pagamento milhoes dolares propina favorecer estaleiro samsung empreiteira schahin contrato vitoria nestor cervero disse agora lava jato contrato fraudulento assinado petrobras empreiteira schahin serviu saldar dividas milhoes reais campanha lula banco shahin lula ser preso', 'impressionante familia pixuleco silva afortunada tudo di gratis nao falando somente dinheiro amigos incrivelmente caridosos bondosos alma jatinho graca cobertura triplex varanda gourmet elevador privativo litoral sul sp graca duplex sp graca residencia gratis pixulequinhos emprego sesi noras precisava comparecer trabalho sobrinho vidraceiro rasgo sorte virou empreiteiro servico odebrecht outro pixulequinho passou cuidador nadegas elefante zoo sao paulo maiores fortunas pais pixuleco pai recebe mil palestra nao precisa proferir pixulequinho ganhando r milhoes ardua atividade marcar texto teclar control c control v sitio atibaia base sendo reformado equipado amigos antena exclusiva oi nunca perde sinal ahhh espere ainda nao acabou quebra ainda monte gente acredita defende honrada familia claro reconhecimento merecido afinal pixuleco rei sempre trabalhador compulsivo verdadeiro operario padrao eita familia sorte texto thiago bh via facebook', 'palestra comando militar amazonia presidente stf diz nacao perigo extremamente otimista ate pouco tempo atras trazendo mundo conflituoso pais min seg video palestra realizada ultimo dia manaus comando militar amazonia presidente stf ministro ricardo lewandowski alertou generais lotavam auditorio nacao perigo nacao construindo general villas boas infelizmente perigo trazendo mundo conflituoso pais disse ministro pouco dizer antes otimista brasil abaixo pequeno trecho discurso senhoras senhores extremamente otimista ate pouco tempo atras brasil longo anos gracas grande parte forcas armadas funcoes forcas armadas pouco pouco convertendo nacao coincidente estado povo milhoes habitantes povo felizmente amorenando diferencas raciais etnicas religiosas ideologicas ate pouco tempo nao existia pode olhar qualquer lugar mundo hoje falava ideal nacao franca franca nacao coincide ha muitos seculos coincidiu estados dizia general trocavamos ideias vossa excelencia coincidente perspectiva hoje vai pais exemplo sao pessoal vive periferias terceira geracao argelinos marroquinos tunisianos vem saara etc nao incorporaram vai londres centrinho la onde talvez concentram britanicos zonas rurais londres areas impenetraveis onde existem todas etnias todas culturas la tambem nacao esfacelando entao volto tema seguida porque acho nacao construindo general villas boas infelizmente perigo trazendo mundo conflituoso pais nao sei nao sei porque dizia general ha ano meio atras palestra exterior orgulhosamente dizia pais milhoes habitantes pais dimensoes continentais crescendo descobrimos indice desemprego menor franca italia espanha grecia varios paises uniao europeia pais apesar dessas dimensoes ponto vista demografico populacional pese diferencas renda graves bolsoes miseria bolsoes violencia pais nao ha dissenso fundamental repetente diante fenomeno altamente preocupante conceito pais conceito pouco etereo pouco tecnico pais geral identifica espaco territorial pessoas vivem brasil pais referindo espaco territorial nao sempre identifica estado extremamente preocupado mundo vivendo hoje video via bnc', 'brasil nao apoiar vagabundos tomarao conta tudo assista video transparencia internacional brasil perdidos bilhoes dolares devido corrupcao tornou maiores investigacoes contra corruptos mundo pessoas ja condenadas totalizando anos prisao operacao nao pode parar', 'delegado pf investigava morte ministro teori zavascki assassinado santa catarina pf informou vitimas cidade florianopolis sc participar curso acordo jornal zero hora adriano antonio soares acompanhado outro policial federal ambos baleados apos suposto desentendimento casa noturna adriano chefe pf angra reis corporacao desde delegado designado investigar morte ministro teori zavascki stf morto janeiro acidente aviao elias escobar chefiou pf niteroi volta redonda acompanhava adriano momento tambem baleado morto segundo pm ocorrencia ocorreu perto horas madrugada terceira pessoa tambem atingida tiroteio internada estado grave policia civil juntamente policia federal ira investigar caso', 'tiro pe trump pode atacar coreia sofrer china especialistas politica internacional alertam china nao interesse particular justifique conflito coreia norte posicao xi jinping apesar nao declarada oficialmente proxima russia estados unidos presidente chines demonstrou intencoes adotar estilo diplomatico resolver conflitos mundiais xi nao confortavel impulsividade presidente ja declarou disposto agir sozinho controle armas nucleares coreia norte ministerio relacoes exteriores pais divulgou advertencia dirigida secretario estado rex tillerson tome cuidado palavras ameacas correm risco desencadear confronto devastador manha ontem presidente chines exigiu trump remova sistema defesa antimissil thaad implantado seul capital coreia sul geng shuang xi jinping afirmou implantacao thaad fere interesses seguranca nacional china china pede estados unidos coreia sul suspendam acoes seul tomaremos medidas necessarias drasticas finalizou vale ressaltar china terceira maior potencia belica planeta ficando atras apenas russos americanos', 'agnaldo silva diz lula nao sabe ler internautas petistas acusam analfabetofobia logo logo manifestacoes publicas defendendo burrofobia repente multidao tomasse ruas defendendo direito ler escrever falar errado pois bem internet ja acontecendo autor novelas aguinaldo silva conhecido expor opinioes maneira clara direta deu umas alfinetadas luiz inacio lula silva internet caiu matando pau sequencia tuites postadas ontem dramaturgo disse lider pt nao preparado governar brasil porque analfabeto silva postou hoje dia leitor quero aproveitar perguntar favorito pesquisas presidente brasil livro lula lendo neste momento ultimo livro leu ser preciso alguma vez vida leu algum livro internauta perguntou agnaldo silva nao sendo preconceituoso analfabetos', 'vin diesel tupiniquim mentiu vivo globo news desmascarado governadora roraima ministerio justica emitiu nota confirmou ajuda negada porem liberada verba milhoes durante transmissao vivo feita canal globo news ministro justica alexandre moraes disse governadora roraima maria suely silva campos nao havia pedido apoio governo federal caos sistema prisional estado alexandre disse apoio solicitado seguranca publica bem governadora matou cobra mostrou pau', 'shrek peppa pig mc guime jose dirceu lei rouanet incentivando curtura famosa lei rouanet criada durante governo collor tarde ficaria conhecida nome secretario cultura epoca sergio paulo rouanet amanha sera apresentado camara deputados requerimento abertura cpi lei rouanet atraves renuncia fiscal empresas publicas privadas pessoas fisicas podem patrocinar projetos culturais receberem valor forma desconto imposto renda resumindo cofres publicos deixam receber parte daquele dinheiro troca patrocinio cultural forma terceirizar repasse recursos federais primeiro governo dilma propostas levaram incentivos cenario so contribui concentracao cultural pais enquanto pouco incentiva projetos menores maior parte incentivos dessa lei concentrada maos meia duzia pseudo artistas verdade sao quer dizer usados massa manobra pt veja alguns exemplos onde dinheiro publico aplicado durante governo dilma filme brizola tempos luta exposicao brasileiro chamado brizola valor r peppa pig valor r shrek musical turne valor r cirque du soleil valor r turne luan santana valor r turne detonautas valor shows claudia leitte valor r blog mundo precisa poesia maria bethania valor r gravacao dvd mc guime valor r documentario vilao republica sobre vida jose dirceu valor r', 'padre fabio abandona facebook deixava violento intolerante fabio melo decidiu revelar facebook gerando influencias negativas personalidade apos ter abandonado rede social mark zuckerberg sacerdote explicou seguidores porque tomou tal decisao durante interacao apresentador jornalista marcelo tas pe fabio revelou atitude necessaria apos perceber algumas mudancas consigo facebook provocando intolerancia violencia morei naquele lugar facebook ate dia percebi estar tornando pessoa intolerante vil violenta passei processo reabilitacao hoje curado escreveu padre fabio melo fica conectado internet frequencia religiosos influentes brasil meio digital', 'meirelles cogita candidatura psd kassab admite partido pode negar apoio ministro disputa planalto aliados opcao concorrer outra sigla governista psd admite ministro fazenda henrique meirelles deve perder apoio sigla disputar presidencia republica aliados meirelles cenario consolidar chefe equipe economica pode migrar outra legenda base aliada palacio planalto ser candidato governista deputados federais quarta maior bancada camara psd aproximou psdb tende subir palanque governador sao paulo geraldo alckmin campanha palacio planalto mudanca estrategia legenda ministro ciencia tecnologia inovacoes comunicacoes gilberto kassab presidente licenciado divulgada nesta jornal valor economico confirmada estado moraes autoriza abertura novo inquerito contra kassab procurado reportagem kassab cuidadoso tratar assunto centro politica brasileira precisa ter unico candidato esforcando psd meirelles hora decisao nao viavel vamos ter bom senso entender disse ministro pesquisas perspectivas melhores nao outro partido ai vamos possivelmente caminhar outro partido concluiu meirelles nao quis pronunciar estado apurou entanto ministro fazenda nao considerou gesto deslealdade ja ocorreu tempo mudar partido limite troca abril legado avaliacao reservada meirelles alckmin nao deve fazer campanha defesa legado michel temer aliados lembram governador paulista nao trabalhou camara votos tucanos barrar denuncias republica contra presidente suja jogo democratico diz fux assumir comando tse entorno meirelles acredita consiga melhorar desempenho pesquisas intencao voto deixar ministerio puder circular livremente recente pesquisa datafolha divulgada dia janeiro meirelles apareceu melhor cenario ministro viajado brasil investido redes sociais tornar conhecido ainda nao comecou costurar aliancas partidarias concorrer presidencia huck joaquim barbosa outsiders cruzam xadrez eleitoral economia discurso meireles ja pronto presidir banco central gestao luiz inacio lula silva comandar fazenda temer medico salvou economia duas vezes ministro descarta porem entrar disputa apoio integral governo temer articulacao psd recebida entusiasmo tucanos indicacao centro deve unir torno geraldo afirmou deputado federal ricardo tripoli partido camara alianca perspectiva alianca reforca possibilidade alckmin ser ungido candidato unico centro grande coligacao governista tempo robusto exposicao tv horario eleitoral gratuito diz pode ter dois tres palanques sao paulo estrategia psd alinhamento repetiria sao paulo partido indicaria candidato vice provavelmente kassab eventual chapa governo estadual psdb preferencia sigla quatro prefeito joao doria kassab tratou assunto reuniao reservada alckmin nesta sao paulo arranjo mdb tambem entraria coligacao perfil francamente governista preservaria temer campanha paulista base presidente doria conversado presidente sobre cenario estado contemplar mdb empresario paulo skaf presidente fiesp concorrer senado abrir mao tentar palacio bandeirantes segunda vaga senador poderia ficar marta suplicy mdb nome escolhido outro partido base prb dem pps tucanos paulistas desenho fortaleceria numero campanha ajudaria eleger boa bancada deputados impediria avanco marcio franca psb aliado alckmin franca montando coligacao partidos medios pequenos estao orbita governo paulista tentar reeleicao deve assumir cargo abril tucano pretende renunciar disputar planalto ha setor psdb porem resiste eventual candidatura doria', 'selecao tarde foto matheus gastropub cao veio agora serve almoco executivo oito opcoes partir r mar r foto salmao crosta gergelim legumes pure batata molho teriyaki r cliente direito entrada sobremesa joao moura pinheiros ate fecha tempero brasileiro foto divulgacao ingredientes brasileiros cumaru mel urucu estao composicao novos drinques criados bartender rafael pizanti bare r foto base gim tanqueray infusao amburana campari carpano classico laranja novidades al lorena jd paulista ate ate fecha dom drinque autoral foto tadeu mixologista marcelo serrano vai dividir balcao brasserie des arts alex mesquita proxima dupla vai agitar coqueteleira criacoes proprias touch r foto mistura vodca angostura xarope limao especiarias pe joao manuel jd paulista ate ate ate confira outras dicas bares baladas altas horas barao itarare mesas distribuem calcada salao abaixo nivel rua bar serve caipirinha carambola manjericao r vodca saque petisco famoso casa bolinho abobora queijo cremoso r domingos banda jazz apresenta vivo peixoto gomide jd paulista cliente sab cliente couv art r cc todos cd todos botecos bar luiz fernandes bar aberto bebidas sao preparadas luiz batidas vinho morango r amendoim licor cacau r sao algumas opcoes drinque todos petiscos brasileirinho carne defumada couve manteiga r unid sao preparados mulher proprietario dona idalina augusto tolle santana sab fecha cc todos cd todos benjamim cheio mimos bar clientela fiel nao bastassem aquecedores tambem sao distribuidas mantas coloridas fica mesas externas dias frios ja frio nao problema peca original r petiscos pedidos porcao benjamim creme gorgonzola r unid carne queijo r vieira moraes campo belo ate cc todos cd todos elidio bar elidio raimondi fanatico futebol fotos antigas equipe sao paulo campea paulista lotam paredes voce pode montar prato queijos pates azeitonas r g sanduiches cardapio feito file mignon queijo vinagrete acompanhado batata frita r chope brahma r claro r black ainda vai bem elidio r isabel dias mooca dom fecha cc todos cd todos pe pra maioria mesas fica calcada charme lugar despojado prepara otimas porcoes file aperitivo podem ser cobertas alho cebola r catupiry r chegam mesa chapa ferro bem quente beber ha cerveja heineken original bohemia r brahma skol r av pompeia pompeia dom ate couv r cc todos cd todos botecos chiques bar biro tom nostalgico bar reforcado fotos preto branco cidade cristina mg onde nasceu proprietarias mesma cidade vem linguica compoe porcao torresmo mandioca frita pode ser trocada polenta r prato vai bem chope brahma r claro sabado ha musica vivo vergueiro mariana cliente fecha couv art r cc todos cd todos piraja aberto bar calcadao lembra praias rio serve otimo chope brahma r claro r black petiscar prove croquetes costela r neste sabado realiza projeto esquina samba partir comandado moacyr luz vai reunir cantor compositor ze renato interprete tantinho mangueira animar roda samba av brig faria lima pinheiros ate ate couv art r cc todos cd todos choperias braugarten barris producao chope dao tom decoracao denunciam forte casa funciona dentro shopping higienopolis canecas chope claro r escuro r sao longe pedidas quitutes culinaria alema fazem par ideal cervejeiro r dois vem eisbein joelho porco costelinhas suinas salsichas vitela batatas cozidas chucrute pure maca av higienopolis higienopolis cc todos cd todos estac r happy hour legitimo bar preza simplicidade ha mesas calcada quadros escudos times futebol cardapio petiscos triviais sucesso sao linguicas artesanais braganca paulista calabresa provolone r outro quitute irresistivel sao coxinhas derretem boca r chope brahma custa r claro r black luis gois mariana ate cc todos cd todos hotel baretto dentro hotel fasano elegantes poltronas couro beber prove drinques montados perfeicao servidos garcons vestidos smoking martini r r apresentacoes banda piano baixo bateria embalam noite comer peca vitela milanesa empanada farinha pao miga r vitorio fasano cerq cesar sab fecha couv art r partir cc', 'manchete estadao crise caixa preve aumento vices simplesmente aterradora afinal ultimo reajuste bancarios abaixo inflacao anual explicar absurdo dessas dimensoes altura campeonato nao ler noticia destas sentir profunda nausea extrema magoa invasao completa angustia desesperanca brasil caso unico privilegios fim razao casta politica inepta incompetente corrupta sustentada povo jogado miseria ignorancia completa falta perspectivas patria descaso desprezo desespero deus apiade pois vergonha cara elites nunca terao comentario jornal eldorado radio eldorado fm janeiro ouvir disque aqui seguida play ouvir casa aberta milton nascimento marina carvalho clique aqui abaixo integra degravacao comentario eldorado janeiro emanuel manchete estadao crise caixa preve aumento vices simplesmente aterradora explicar absurdo dessas dimensoes altura campeonato busca r bilhoes capitalizar quatro afastados suspeita irregularidades caixa preve aumento remuneracao vices ano rendimento total cada r mil mes podera passar ser r mil mensais acumulados limites maximos honorarios ganhos metas desempenho pessoal sao variaveis beneficios ultimo reajuste bancarios abaixo inflacao anual banco definiu gastara r milhoes executivos maioria indicada partidos politicos reajuste vices aprovado assembleia geral banco dezembro necessita aval conselho administracao nota caixa informou remuneracao leva conta fatores metas desempenho gestores nao ler noticia destas sentir profunda nausea extrema magoa invasao completa angustia desesperanca brasil realmente caso unico privilegios fim razao casta politica inepta incompetente corrupta sustentada povo jogado miseria ignorancia completa falta perspectivas patria descaso desprezo desespero deus apiade porque vergonha cara elites nunca terao carolina ministro fazenda henrique meirelles disse ontem nesta equipe economica vai apresentar proximos dias alternativas capitalizar caixa recursos fgts alivia pouco tristeza desse desabafo medida transferir dinheiro trabalhador capitalizar caixa r bilhoes ja acinte antes agora passou ser escarnio ficamos sabendo suspeitas corrupcao levaram afastamento quatro banco sonora meirelles fgts vamos viabilizar recapitalizacao caixa capacidade caixa deve ser preservada continuar emprestando onde deve construcao moradias comentou titular fazenda apos gravar entrevista programa canal livre tv bandeirantes talvez nao necessario entrar nessa discussao fgts acrescentou urge agora afastar possibilidade transferir dinheiro poupanca trabalhador inserir caixa limites impostos banca internacional demonstracao cabal imaginacao casta dirigente politica capaz alcancar todas brechas tirar dinheiro bolso furado cidadao enriquecer partidos dirigentes nome dizem representantes povo vexame outro vamos atingindo estagio inacreditavel emanuel ja havia dito antes manifestacoes durante investigacao torno decreto portos presidente michel temer negou grupo rodrimar sido beneficiado edicao decreto portos publicada maio resposta perguntas policia federal investigacao apura suposto esquema corrupcao porto santos convenceu passou epoca recebia presente natal sapato acreditava mamae dizia sido visitado menino jesus casa ninguem nunca acreditou papai noel nao segundo temer empresas grupo rodrimar nao beneficiadas edicao decreto conforme demonstram documentos ministerio transportes constantes autos investigacao complementados estao sendo feitos separado peticao perguntas precisam ser respondidas sociedade ainda nao ainda dizem respeito encontro nada republicano joesley batista recebeu bamba abate porao jaburu calada noite agenda guarda palacio permitiu passagem intruso apenas ter identificado rodrigo rodrigo nao rocha loures homem mala muitas outras ainda naoforam esclarecidas carolina responder perguntas encaminhadas policia federal ambito inquerito apura supostas irregularidades edicao decreto portos presidente michel temer atacou pf classificou questionamentos agressivos afirmou algumas perguntas colocam duvida honorabilidade', 'duque diz estar disposto devolver milhoes euros recebidos propina petrobras reconheceu crimes desvendados operacao lava jato disse lula pleno area servicos petrobras renato duque afirmou juiz sergio moro responsavel processos operacao lava jato primeira instancia disposto devolver milhoes euros cerca r milhoes recebeu propina dinheiro segundo duas contas exterior gostaria novamente enfatizar interesse assinar repatriacao necessario dinheiro venha volte ai pra direito disse duque afirmacao faz parte interrogatorio primeira vez falou sobre esquema corrupcao descoberto petrobras servicos petrobras ouvido juiz sergio moro acao apura antonio palocci recebeu propina atuar favor odebrecht denuncia trata pagamentos feitos beneficiar empresa setebrasil fechou contratos petrobras construcao sondas perfuracao reu neste processo havia ficado silencio durante interrogatorio realizado abril pediu ser interrogado novamente juiz alem destes milhoes euros duque tambem comprometeu devolver valores estao terceira conta exterior contudo nao mencionou valor acordo sao unicas contas possui pais duque afirmou ha acusacao movimentado dinheiro exterior ja lava jato andamento colocado falta respeito operacao confirmou movimentacao negou desrespeito disse banco exigiu operacao banco exigiu dinheiro tirado banco suica entao funcao desta exigencia transferencia deixar claro nao intencao esconder duque ja condenado anos prisao quatro acoes lava jato reu menos outros seis processos decorrentes operacao estao andamento vara federal curitiba petrobras preso primeira vez novembro dias conseguiu habeas corpus supremo tribunal federal stf segunda prisao ocorreu marco atualmente detido carceragem policia federal pf curitiba acordo lava jato duque indicado partido trabalhadores diretoria servicos area responsavel grande parte propina contratos petrobras destinada partido dois nunca admitiram relacao interrogatorio duque afirmou dirceu escolheu apos embate pt delubio soares silvio pereira definir ocuparia cargo diretor area servicos jose dirceu entao ministro chamado dar decisao decisao clara falou psdb ja contemplado diretoria petrobras nao vou atender pedido doutor aecio neves entao vai ficar diretoria renato duque relatou duque petrobras renato duque acusou luiz inacio lula silva ter recomendado destruisse provas propina recebida petistas brasil escandalo petrolao acordo lava jato duque indicado partido trabalhadores diretoria servicos area responsavel grande parte propina contratos petrobras destinada partido duque disse encontrou lula nessas tres vezes ficou claro claro pra mim pleno conhecimento tudo detinha comando afirmou duque advogados lula afirmam depoimento renato duque tentativa fabricar acusacoes nao conseguiram produzir nenhuma prova denuncias levianas contra dois anos investigacoes quebra sigilos violacao telefonemas restou acusadores lula apelar fabricacao depoimentos mentirosos durante abertura congresso estadual pt sao paulo lula afirmou investigadores lava jato ja tese pronta relacao partido trabalhadores lula destacou ainda nao prenderem logo sabe dia mando amanha prenderao tal empresario vai delatar lula amanha lula vai ser preso faz anos ouvindo dois anos escutando nao prenderem logo sabe dia mando mentira estao falando disse presidente associacao nacional procuradores republica respondeu discurso lula jose robalinho cavalcanti disse investigacoes processos lava jato sao serios tecnicos impessoais prova disso discurso lula exatamente dirigentes outros partidos politicos tambem investigados processados lava jato jose robalinho cavalcanti afirmou argumento ha grande conspiracao universal contra lula nao sustenta fatos acrescentou defesa todos inclusive lula mentem apenas falaria verdade cavalcanti direito reu alegar quiser sera justica independente tecnica decidira presidente associacao nacional procuradores republica lamentou frase lula segundo hipotese dia reeleger sabe ira mandar prender investigam cavalcanti afirmou nao ira deter qualquer a', 'relatores propostas podem alterar sistema eleitoral brasileiro proximas eleicoes admitiram obvio ontem durante forum estadao reforma politica debate realizado parceria centro lideranca publica discussao sendo feita congresso pano fundo interesse parlamentares preservarem proprios mandatos tentativas fugir moro mantendo foro privilegiado continuar financiando campanhas bilionarias pindaiba pais talvez configurem maior crime historia tudo sido feito nome falsa democracia cidadania vergonha historica nao precisamos reforma politica ai so prejudica comentario jornal eldorado radio eldorado fm agosto ouvir clique aqui seguida play ouvir perfeicao legiao urbana clique play abaixo abaixo integra degravacao comentario eldorado agosto https comecar parlamentares estao tao apressados fazer chamam reforma politica brasil relatores propostas podem alterar sistema eleitoral brasileiro proximas eleicoes admitiram obvio ontem durante forum estadao reforma politica debate realizado parceria centro lideranca publica discussao sendo feita congresso pano fundo interesse parlamentares preservarem proprios mandatos reforma politica sendo feita atender interesses reeleicao disse senador ricardo ferraco autor senado proposta emenda constituicao pec sugere fim coligacoes partidarias adocao chamada clausula barreira senador concluiu dificilmente brasil vai alcancar sistema perfeito desafio dialogue imperfeicoes deputado vicente candido relator reforma politica comissao especial camara principais pontos adocao sistema distritao criacao fundo publico financiar campanhas eleitorais une parlamentares torno discussao intencao garantir reeleicao ter paciencia congresso unica coisa unifica congresso vontade reeleger disse alem reeleicao congressistas querem volta propinoduto empresarial deixa clara manchete estadao hoje maia gilmar admitem volta doacao eleitoral empresas oucamos presidente camara deputados respeito sonora maia tentativas fugir moro foro continuar financiando campanhas bilionarias pindaiba pais talvez maior crime historia tudo feito nome falsa democracia cidadania vergonha historica republica pgr ofereceu denuncia supremo tribunal federal stf contra lider governo senado romero juca consequencias praticas tera equipe fausto macedo estado apurou denuncia consta investigacoes operacao zelotes inquerito relatado ministro ricardo lewandowski corte tramita sigilo juca investigado caso originou denuncia suposto favorecimento grupo gerdau medida provisoria troca doacoes eleitorais alem sao investigados caso deputados alfredo kaefer jorge corte real nao ha detalhe sobre acusacao feita pgr razao segredo justica operacao zelotes detectou indicios senador alterou texto mp beneficiar siderurgica juca relator texto mudava regras tributacao lucros empresas exterior deputados apresentaram emendas beneficiaram grupo segundo investigadores apreendidos investigadores sede gerdau mostraram alteracao feita mp sugerida propria empresa tres congressistas siderurgica negam irregularidades juca tornou alvo duas investigacoes zelotes denunciado pgr inqueritos comecaram tramitar ano passado autorizacao lewandowski denuncia oferecida pgr base resultado investigacao alem zelotes senador investigado pgr suposto envolvimento esquema apurado lava jato nomes citados delatores odebrecht lewandowski deve levar denuncia turma stf pode decidir aceita acusacao pgr torna senador reu sonora juca desculpa cego feira ruim saco furado pmdb luta contra ditadura militar terminou metendo mao esgoto expondo cinismo fizeram juca advogado cacay escarnio brasil oficial total republica rodrigo janot tambem suscitou presidente supremo tribunal federal ministra carmen lucia duas arguicoes impedimento suspeicao incompatibilidade ministro gilmar mendes ter soltado rei onibus rio pedido alguma chance sucesso ja publico notorio gilmar relata stf habeas corpus hc respectivamente empresarios jacob barata filho lelis marcos teixeira hc impetrado defesa pacientes perante stf investigados operacao ponto', 'ministerio publico sao paulo lava jato desmascaram psdb opcao etica pt pmdb sob cuja egide realizada maior cinico espetacular esquema corrupcao historia alternativa gestao competente substituir desgovernos apenas teoria opunha reuniao executiva ampliada segunda junho pairou tambem fantasma politico nacional aecio neves despontou grande esperanca nacional politica etica gestao publica competente desabou revelacoes feitas sobre propinas recebeu reveladas delacao odebrecht jbs comentario jornal eldorado radio eldorado m junho ouvir clique link aqui ouvir vossa excelencia titas clique aqui eldorado abril psdb decidiu reuniao ampliada executiva nacional demais liderancas partido vai permanecer base aliada principal doador governo temer pretexto tucanos tomaram decisao tucanos adotaram discurso nao podem desembarcar agora governo sob argumento eventual rompimento temer poderia prejudicar aprovacao reformas previdencia trabalhista decisao anunciada relacoes exteriores temer senador jose serra sp entrevista imprensa afirmou maioria tucanos decidiu continuar governo ate novos fatos surjam psdb nao fara nenhum movimento agora sentido sair governo fatos mudarem terao outras analises afirmou parlamentar paulista governo tocou adiante compromissos assumiu conosco visto algo positivo acrescentou senador disse reuniao nao tratou eventual denuncia republica rodrigo janot contra presidente bastidores tucanos defendem legenda deve esperar eventual denuncia deve acontecer ate fim junho posicionar sonora jereissatti decisao ocorre tambem ministerio publico estadual paulista ofereceu ultima denuncia contra cptm manuel seabra rodrigues bandeira outros tres dirigentes companhia alem empresarios suspeita integrar cartel trens sao paulo sao acusados crimes contra ordem economica fraudes licitacoes mp conta contratos superfaturados sobrepreco estimado ordem milhoes reais seis contratos trabalho ministerio publico sao paulo alem investigacoes lava jato desmascara psdb opcao etica pt pmdb sob cuja egide realizada maior cinico espetacular esquema corrupcao corrupcao historia alternativa gestao competente substituir desgovernos apenas teoria opunha reuniao executiva ampliada ontem noite pairou tambem fantasma politico nacional aecio neves despontou grande esperanca nacional politica etica gestao publica efetiva revelacoes feitas sobre propinas recebeu reveladas tanto delacao chamada fim mundo executivos ex odebrecht sujeirada toda emergiu delacao excessivamente premiada acao programada realizada irmaos batista principais executivos grupo j f noite fatidica maio revelado encontro nada republicano novo aliado presidente michel temer marchante anapolino joesley batista tudo tira qualquer credito ainda explicacoes tucanos tentam dar atos dizer entao anuncio feito lider psdb camara deputado ricardo tripoli sp partido vai recorrer decisao tribunal superior eleitoral tse nao cassar chapa durante julgamento concluido semana passada decisao guarda alguma coerencia manutencao fato ser principal sustentaculo politico governo conforme decisao mesma reuniao segundo decisao tomada durante reuniao ampliada executiva nacional outras liderancas tucanas partido decidiu permanecer base aliada temer partido vai recorrer forma vai recorrer ainda nao definida disse tripoli entrevista coletiva melhor caminho deve ser apresentar recurso extraordinario supremo tribunal federal stf questionando decisao tse acao psdb nao entrar recurso prevaricando incoerencia nao ocorrer acrescentou lider tucano ser questionado recurso contradiz decisao maioria psdb nao desembarcar governo revelacao surgiu grampos telefonicos acao programada pf mpf j f melhor tucanos poderiam fazer esquecer acao contra eleicao fraudulenta historia dois motivos concretos fortes primeiro agora cumplice permanencia michel temer poder tambem chororo presidente relacao acao justica contra segundo lugar porque revelacoes lava jato j f ja deixaram claro psdb socio roubalheira pt pmdb grave enganando parcela minoritaria re', 'mudez nudez corpos mulheres saem nuas ruas ja nao dizem so estarem nus tudo sao poucas fotos video curto moca provavelmente estudante anos corpo bonito rosto coberto focinheira vestindo so calcinha imita cachorro retirar faz xixi poste especulam uns fez laboratorio talvez psiquiatra dizem trabalho conclusao curso artes cenicas video late seguranca nao reprime ocorreu campus ufrn natal dia novembro embora nao bombado imprensa nacional redes moca nao publicou manifesto corpo seminu estao escritos varios protestos protesto nu viralizou verdade tirando dois casos nao sabe sao protestos microepidemia comecou porto alegre nao violencia policial bom sul corredora nua contou jornalista viu entrevistou historia vida complicada dura depoimentos so manifestante outro rio grande chama atencao tao logo alguem sai pelado especialmente mulher primeira reacao supor doente mental so aceitamos protesto grupos convocacao texto so politico racional palavras expliquem tiram roupa apenas gesto especial mulher isolada louca episodio nordestino escrito sobre corpo parece racional primeira vista notem disse parece gauchos atras amigos vinculos natal passaram informacoes cheguei paula salazar estudante ufrn saiu seminua campus enfatiza semi razao amigo pedro bardini publicou facebook pasta chamada caninga natown performance profusao fotos principal fonte conhecer fez comentarios nao surpreendem maioria pessima muitos recomendam macho membro rijo sao homens nunca vao pura grosseria nao confissao desejo insaciado fadado nunca saciar tenta abolir atracao sentem corpo carente mulheres saem peladas rua porque carecem macho ah plenitude penis pode suprir vazios feminidade proposito uso nesta frase linguagem facebook reduz elimina virgulas generosos caridosos segundo contingente sugere so doenca mental alguem aqui mulher sai nua rua tratem portanto doenca mental alias duas quatro gauchas atendidas ver problema psicologico serio caridade aqui nao virtude preconceito nao querem castigo porem gostariam sai nu nao doente terceiro grupo vil feministas ate esquerdistas usando palavras xingamentos pronunciam odio movimentos feministas sao politizam acontecido politizar sempre dar upgrade geralmente sim politiza confinamento sobre si gregos consideravam caracteristico idiota passar vida social particular espaco coletivo decide sobre vida coletiva chamamos politica coletividade reunir decidir futuro democracia apogeu realizacao politica aqui contrario pregadores odio corpo feminino veem politica degradacao ha papeis naturais masculino feminino qualquer tentativa mexer nessas essencias naturais fixas rigidas politica substituicao permanente certo correto instavel errado infame nao ha pior politica subverte hierarquia coloca pobre igual rico mulher homem gay hetero ainda ha quarto grupo pequeno manifesta so fotos paula salazar mascara ja arrancado instrumento ortopedico deixava rosto meio monstruoso bestial humano bonita veem face nua admiram voltou ser mulher tudo vira normal business usual conversei perguntei protestou contra opressao mulher nao protestava contra autoritarismo reitora ufrn participou ocupacao reitoria onde fez danca derviches tambem peito nu cita foucault face anos casada bem diferente unica outra mulher publico despidas falar betina baino beleza diferente lutadora mma tarde novembro correu ruas porto alegre entrevistada jornalista betina criticou dilma sobretudo reclamou nao conseguir lutar mma fez desabafo espontaneo menos refletido paula ainda nao sei disse fb dias sao duas unicas vozes fenomeno chamou atencao recentemente nao sabemos tera nao futuro tudo diga especulacao diz sobre fala sobre betina desabafou durante tres minutos falei paula bem enorme leque interpretacoes surgiu respeito maior parte surfa hostilidade ia dizer preconceito palavra sempre ruim errada pouco sabemos aconteceu tendo voz apenas duas cinco quais ainda nao sabe deu nela inevitavel apenas especularmos parece curioso alguns pensado porto alegre iniciativa publicitaria alguma', 'estudantes sofrem onda assaltos proximo escola ponta grossa maceio ha relatos crimes acontecem sempre mesma maneira cometidos homens armados motocicleta pm diz nao recebeu denuncias vai reforcar pais alunos escola estadual rodriguez melo ponta grossa maceio estao amedrontados onda violencia regiao modalidade sempre mesma dois homens moto geralmente condutor colete mototaxi assaltam vitimas chegada saida aulas policia militar informou nao recebeu denuncias vai reforcar seguranca area casos relatados aconteceu ultima semana estudante anos disse quatro amigos assaltados ameacados dois caras moto chegaram pediram celulares levou amigo outros disseram nao vasculharam mochilas disse encontrasse iria meter bela cabeca cada assustador afirmou adolescente causa inseguranca pai estudante cursa ano tempo integral passou escola fazendo sacrificio leva junto amigo mora aqui rua medo lamenta andrea lessa mae outro aluno mesma escola desabafou facebook sobre situacao postou foto amigo filho machucou cair fugia assalto conversou andrea porta escola nesta manha filho tambem ja sofreu violencia correu nao ser assaltado semana passada filho levou duas carreiras rua escola primeira vez saiu aula assaltante tomar cordao conseguiu correr entrar dentro vendinha segunda vez roubaram celulares duas meninas frente filho disse absurdo sao sempre mesmos criminosos estao fazendo pais procuramos direcao escola ficou cobrar policiamento coracao apertado medo acontecer alguma coisa qualquer hora receber ma noticia desabafou andrea mulher mora rua escola conta ja presenciou assaltos medo pediu nao ser identificada reportagem mes passado meninos aqui porta casa chegaram moto levaram celulares nao pode ficar porta casa outra morada tambem nao quis identificar mora rua escola ha anos sente violencia aumentado outra senhora tambem presenciou ataques estudantes gente tava porta veio rapaz la baixo revolver mao assaltar aluno indo escola veio apontando arma horas manha policia vem param hora entrada saida escola nao vem policia reportagem nao conseguiu falar direcao escola segundo porteiro unidade nunca nenhum assalto escola porta ja aconteceu pracas ficam perto escola aqui dentro aqui entrada nunca policiamento regiao feito batalhao policia militar bpm refere estudantes batalhao policiamento escolar bpesc so policia afirma denuncias nao sao feitas disque denuncia numero viatura faz percurso escola nao recebemos denuncia nao acao direcionada agora sabendo vamos trabalhar funcao disso ai afirmou tenente coronel aloisio bpm ainda acordo tenente coronel populacao precisa denunciar tipo situacao policia saiba exatamente onde agir rua escola nao atinjo porque sei ja viatura bpesc tendo aumento assaltos ja vou direcionar viatura pra la tambem vamos reforcar policiamento garantiu', 'operacao trapaca desdobramento carne fraca aberto nesta identificou irregularidades seis unidades grupo brf chapeco concordia fabricacao racao carambei mineiros rio verde processamento aves empresa pedro andrade faria dezembro preso segundo delegado mauricio moscardi policia federal ha provas trapaca delegado aponta bastante consistentes executivos pessoas controle qualidade grupo brf provas deixam bastante claro evidente operava sistema fraude bastante complexo dentro propria empresa sentido fraudar laudos laboratoriais burlar fiscalizacao burlar atuacao ministerio agricultura sentido poder efetuar eficacia fiscalizacao direito correto acontecer afirma mauricio moscardi gerente qualidade brf pediu supervisora resultado analises diz trapaca conducao coercitiva testemunhas legitima afirma juiz operacao trapaca resultado investigacoes primeiras fases operacao carne fraca primeira fase deflagrada marco unidades brf alvos analise delacoes premiadas material apreendido pf identificou diretores equipe tecnica grupo estariam reiteradamente praticando acoes articuladas burlar fiscalizacao federal sobre processo industrial especificamente escondendo autoridades sanitarias federais contaminacao aves destinadas consumo humano agentes patogenos meio adulteracoes resultados exames laboratoriais conforme registrou juiz andre wasilewski duszczak vara federal ponta grossa ordem prisao contra alvos brf dez investigados capturados decisao magistrado analisou responsabilidade criminal tese cada pessoas cuja prisao requerida mpf juiz detalhou quatro conjuntos fatos ilicitos sob investigacao trapaca envolvendo alvos presos nesta quinta primeiro conjunto fatos ilicitos enseja prisao cautelar investigados ocultacao ocorrencia bacteria salmonella pullorum matrizes brf contaminacao enseja notificacao compulsoria autoridades sanitarias todas condutas ligadas ocultacao culminaram abate irregular aves contaminadas ilegal destinacao consumo vez sofrer descarte sanitario afirmou segundo conjunto fatos ilicitos trata pedidos prisao brf alem pessoas envolvidas ocultacao denuncia feita area laboratorios empresa adriana marques carvalho revelou pf ciencia pedro andrade faria comandou grupo ilicitos suposta atuacao ativa acao enseja prisao cautelar investigados acobertamento fraudes exames laboratoriais reveladas peticao inicial acao trabalhista adriana carvalho brf descoberta analise quais chegou operacao carne fraca terceiro conjunto fatos ilicitos enseja prisao cautelar investigados utilizacao brf laboratorios inclusive descredenciados mapa viabilizar operacao plantas industriais deveriam estar paralisadas contaminacoes patogenos laboratorios envolvidos analises laudos sob suspeita sao allabor sao camilo bioagri miereux quarto conjunto fatos ilicitos pratica corriqueira empresa brf adulterar rastreabilidade composto premix utilizado complemento vitaminico mineral racoes fabricadas empresa inserir componentes nao permitidos alterar porcentagens componentes indicadas etiquetas descoberta ocorreu apos analise alvos carne fraca palavra brf reportagem procurou brf espaco aberto manifestacao palavra ministerio agricultura deflagrada nesta operacao trapaca relacionada fraude emissao resultados analises laboratoriais fins respaldo certificacao alguns estabelecimentos registrados junto servico inspecao federal referida operacao visa apurar indicios fraudes relacionadas emissao laudos laboratorios privados credenciados junto secretaria defesa agropecuaria sda laboratorio privado acreditados abnt nbr sustentar processo controle qualidade certificacao produtos mercado sda ministerio agricultura pecuaria abastecimento conta equipe auditoria especializada atuando conjunto policia federal pode adicionar ferramentas investigacao desvendar processo fraude poderia comprometer sucesso programas brasil empresas investigadas burlavam fiscalizacao preparando amostras atraves laboratorios investigados objetivo esconder condicao sanitaria lotes animais produtos evitando assim medid', 'operacao carne fraca policia federal indicia pessoas operacao apura envolvimento fiscais ministerio agricultura pecuaria abastecimento mapa esquema liberacao licencas fiscalizacao irregular frigorificos ministerio publico federal mpf ja policia federal indiciou fim noite deste sabado pessoas ambito operacao carne fraca deflagrada dia marco vao responder crimes advocacia administrativa concussao corrupcao passiva crime contra ordem economica emprego processo proibido substancia nao permitida falsidade atestado medico falsidade corrupcao adulteracao substancia produtos alimenticios organizacao criminosa peculato prevaricacao uso documento falso violacao sigilo funcional veja nome indiciados final reportagem indiciamento assinado delegado pf mauricio moscardi grillo juiz federal marcos josegrei silva vara federal curitiba ja intimou ministerio publico federal mpf manifestar cinco dias operacao carne fraca apura envolvimento fiscais ministerio agricultura pecuaria abastecimento mapa esquema liberacao licencas fiscalizacao irregular frigorificos investigacao pf indica usados produtos quimicos maquiar carne vencida agua injetada produtos aumentar peso carnes irregulares vendidas brasil exterior ha tambem casos papelao lotes frango carne cabeca porco linguicas indiciamento pf explicou virtude todos fatos criminosos narrados longo operacao deferida interceptacao telefonica diversos investigados alem quebra sigilo bancario fiscal partir entao conforme pf verificou existencia organizacoes criminosas estruturadas ambito superintendencia federal agricultura parana envolvendo alta cupula alem crimes envolvendo outras unidades federacao proprio ministerio agricultura pecuaria abastecimento crimes cometidos tais organizacoes atingem diretamente saude publica omissao daqueles deveriam fiscalizar interesses escusos empresarios comercializam produtos alimenticios desacordo normas colocando risco saude consumidores buscando apenas aumentar lucros disse delegado mauricio delegado pf destacou ainda deixar cumprir deveres funcionais fiscalizacao agentes publicos solicitam recebem desde dinheiro ate ovos botas borracha empresarios corruptores beneficiam sistema nao cumprimento leis regulamentos visam garantir qualidade produto consumo comercializado populacao policia federal tambem declarou indiciamento possivel verificar ainda muitos desses agentes publicos corruptos valiam familiares lavar dinheiro recebido empresarios corruptores possuindo patrimonio totalmente incompativel rendas empresas investigadas todo empresas sao investigadas operacao gigantes jbs brf controlam marcas seara perdigao friboi frigorificos menores master carnes souza ramos peccin curitiba todos funcionarios unidade curitibana frigorifico peccin agro industrial demitidos empresa investigada armazenamento temperaturas absolutamente inadequadas aproveitamento partes corpo animais proibidas legislacao utilizacao produtos quimicos cancerigenos producao derivados uso carnes contaminadas bacterias ate putrefatas peccin nega irregularidades dois frigorificos regiao metropolitana curitiba tambem alvos operacao carne fraca suspenderam atividades demitiram funcionarios empresas souza ramos master carne pertencem grupo central carnes paranaense ltda segundo investigacoes esquema parana comandado regional mapa daniel goncalves filho chefe departamento inspecao produtos origem animal dipoa maria rocio nascimento trabalham curitiba dois estao presos parana confianca solicitacoes feitas mapa tao grande segundo pf antes confirmacao fatos gerente relacoes institucionais governamentais empresa brasil foods roney nogueira santos comentou telefone outros funcionarios maria rocio ja havia garantido retorno positivo bem ilustrar situacao roney menciona gente time ai fazendo referencia servidores publicos lotados altas posicoes mapa parana explicou pf veja indiciados advogado beno brandao defende diretor empresa brf br foods andre luis baldissera nao quis comentar indiciamento disse vai aguardar posi', 'bumlai chega forum sp depor acao lava jato contra lula acusado receber propina terreno onde construida nova sede instituto lula pecuarista depora moro pecuarista jose carlos bumlai chegou volta desta forum justica federal jardins sao paulo depor juiz federal sergio moro testemunha acusacao lava jato processo reu luiz inacio lula silva depoimento sera feito meio videoconferencia nesta acao penal acusado receber propina terreno onde construida nova sede instituto lula imovel vizinho apartamento petista sao bernardo campo abc paulista acordo lava jato imoveis comprados odebrecht troca contratos firmados empreiteira petrobras outras sete pessoas tambem sao res processo dama marisa leticia chegou ser acusada contudo juiz sergio moro arquivou acao contra marisa leticia morreu fevereiro deste ano pecuarista tambem arrolado testemunha defesa odebrecht marcelo odebrecht reu neste processo segundo denuncia ministerio publico federal mpf pecuarista apresentado primeiro interessado compra imovel onde construida nova sede instituto lula durante negociacao bumlai indicou comprador parente glauco costamarques fim imovel colocado nome dag construtora dirigida demerval souza gusmao filho tambem reu acao intimamente relacionado marcelo odebrecht ainda conforme acusado operacao lava jato ter atuado favor luiz inacio lula silva irregularidades bumlai preso novembro ja condenado primeira instancia anos meses prisao processo fase crimes gestao fraudulenta corrupcao passiva abril pecuarista liberado prisao domiciliar segunda turma supremo tribunal federal stf levando conta estado saude sofre cardiopatia cancer bexiga novembro antigo relator operacao lava jato ministro teori zavascki havia convertido prisao preventiva bumlai domiciliar ainda periodo manha sera ouvido mateus claudio gravina baldassari socio agencia sul americana publicidade administracao proprietaria terreno adquirido dag construtora ltda arquiteto marcelo ferraz tambem presta depoimento manha segundo denuncia relatou depoimento mpf participou visita imovel onde instalado memorial democracia tambem usado armazenamento exposicao presentes demais itens recebidos republica pessoas participaram visita conforme relato arquiteto procuradores lula marisa leticia presidente instituto lula paulo okamoto ferraz tambem chamado testemunha defesa lula advogado ricardo teixeira periodo tarde partir juiz sergio moro ouve tatiana almeida campos antiga proprietaria apartamento vizinho lula vendido r mil glaucos costamarques segundo mpf construtora norberto odebrecht pagou propina lula via aquisicao imovel onde construida nova sede instituto lula sao paulo valor ate novembro r afirmam procuradores segundo lava jato valor consta anotacoes marcelo odebrecht planilhas apreendidas durante investigacoes dados obtidos partir quebra sigilo denuncia afirma tambem recebeu vantagem indevida cobertura vizinha residencia onde vive sao bernardo campo abc paulista segundo apartamento adquirido nome glaucos costamarques atuado testa ferro luiz inacio lula silva transacao tambem concebida roberto teixeira nova operacao lavagem dinheiro conforme denuncia tanto glaucos costamarques quanto roberto teixeira sao reus processo procuradores afirmam tentativa dissimular real propriedade apartamento marisa leticia chegou assinar contrato ficticio locacao glaucos costamarques nega acusacoes grupo odebrecht afirmado colaborado investigacoes instituto lula afirmou nunca outra sede nao ser sobrado onde funciona ate hoje adquirido instituto pesquisas estudos trabalhador ipet outro processo responde ambito lava jato curitiba procuradores lava jato citam tres contratos oas petrobras disseram r milhoes pagos lula propina nega acusacoes', 'vai construir muro fronteira eua mexico departamento seguranca largada disputa barreira prometida trump permitindo empresas apresentem prototipos apesar controversias torno obra centenas construtoras manifestam ninguem constroi muros melhor donald trump campanha eleitoral vou baratos prometeu imobiliario presidente estados unidos parte agora transformar acao tiradas efeito nesta sera aberta corrida site departamento seguranca interna empreiteiras podem apresentar propostas prototipos abril decide licitacao dois anos tarde obras deverao estar concluidas momentos diferentes trump fala dez metros altura so coisa certa vai ser muro nada cerca nao faltam concorrentes segundo emissora tv cnn construtoras ja manifestaram interesse especialmente grandes conglomerados multinacionais contudo sao reticentes comprometer forma vinculativa empreitada temendo associacao politica trumpista isolamento prejudique imagem segundo varios veiculos imprensa presidente alema heidelberg cement bernd scheifele exemplo ja sinalizara dia apos eleicao trump firma fabricas cimento texas arizona bem preparada possivel construcao muro interpelado dw empresa objetou declaracao sido citada contexto organizacao firma descentralizada analise decisao cabem gerencia americana maior produtora mundial materiais construcao suica reacao semelhante falando sobre polemico muro jornal handelsblatt presidente eric olsen afirmou empresa disposta participar todo tipo projeto infraestrutura eua entanto central empresarial recusa manifestar concretamente sobre questao neste momento entrevista nao possivel resposta dw entanto gigante cimento confere constantemente viabilidade possiveis projetos governo americano inclusive departamento seguranca cliente fiel diz resposta enviado empresa ate agora unica descartar inequivocamente eventual concorrencia empresa hochtief paradoxalmente global player mexicana cemex declara abertamente interesse alguem pedir orcamento faremos prazer assegurou presidente empresa rogelio zambrano diario mexicano reforma torres vigilancia refletores sensores movimento arame farpado camera infravermelhas drones lista equipamentos muro desses longa licitacao custos terao papel central segundo estimativas citadas chefe estado americano deverao girar torno bilhoes dolares estudo realizado julho analistas instituto financeiro bernstein vez projetam custos construcao bilhoes bilhoes dolares barreira metros altura incluir manutencao despesas administrativas devido altas temperaturas deserto analistas aconselham uso modulos cimento empregados estado israelense territorios palestinos planejamento megaprojeto governo trump nao precisara comecar zero ja presidente bill clinton mandou erguer primeiras cercas sudoeste pais cuja ampliacao george bush impos apos atentados setembro desde entao linha fronteirica quase quilometros pontuada muros concreto vigas aco outros obstaculos muro ja existente consumiu quase bilhoes dolares segundo instituto bernstein porem custos trump deverao ser elevados tambem porque novas secoes localizam zonas dificil acesso alem disso atual governo pretende aumentar pessoal mil novos vigias unindo mil agentes seguranca ja patrulham fronteira depender presidente eua proprios mexicanos arcarao custos fronteira exigencia governo enrique pena nieto ja rechacou trump considera introducao impostos extras exemplo sobre transferencias bancarias exterior mexicanos acabariam pagando obra menos inicio devera ser contribuinte americano pagar projeto faraonico fim janeiro presidente camara representantes paul ryan confirmou congresso assumira enquanto custos', 'tesouro perdido r milhoes guardados especie caixas apartamento laranja geddel pos policia federal rastro familia vieira lima temer acusado pertencer quadrilhao pmdb geddel deputado base apoio temer lucio mae ambos marluce cujo closet funcionario job lima disse justica contava notas quais pericia encontrou impressoes digitais segundo linguas geddel manda secretaria governo sob tucano imbassahy reinado deve ser substituido eduardo cunha cujo criado quarto carlos marun subisttuira pasta comentario jornal eldorado radio eldorado fm novembro ouvir clique aqui seguida play ouvir si manda jorge bem clique aqui https abaixo anotacoes noticiario sobre assuntos comentados policia federal afirmou relatorio enviado stf supremo tribunal federal segunda ha suficientes indicios geddel vieira lima pmdb irmao lucio vieira lima mae marluce vieira lima cometeram crimes associacao criminosa lavagem dinheiro afirmacao conclusao investigacao bunker r milhoes descoberto pf apartamento salvador ba setembro operacao tesouro perdido peemedebistas job ribeiro gustavo ferraz tambem sao apontados participes crimes envolvidos unidos unidade designios pratica crimes lavagem dinheiro ocultamento recursos financeiros especie oriundos atividades ilicitas praticadas contra caixa economica federal apropriacao indevida recursos camara deputados desvios salarios secretarios parlamentares caixa campanhas eleitorais possivel participacao lucio vieira lima ilicitudes relacionadas medidas legislativas participacao geddel organizacao criminosa concluiu delegado marlon cajado relatorio diz nao crivel alguem absurda quantia preferisse correr risco assalto colocar instituicao financeira nao proposito ocultar existencia segundo lugar policia aponta inteligencia lucio geddel mae nao crivel familia deixasse ter rendimentos sobre quantia milionaria so segundo pf aconteceu porque dinheiro nao poderia ser declarado pf tambem aponta dinheiro familia ganhava postos gasolina quais donos transitava bancos normalmente mesma forma recebimentos negocios agropecuarios outro relatorio investigava chamado quadrilhao pmdb camara pf ja havia dito r milhoes fruto desvios caixa relacionado valor corrupcao envolvendo pmdb geddel ocupou banco pessoa juridica preso desde setembro papuda df pgr republica deve apresentar denuncia proximos dias ministro edson fachin stf revogou prisao domiciliar job brandao tambem nao vai precisar usar tornozeleira eletronica fachin atendeu pedido defesa pgr manifestou favor liberdade job disse investigadores destruiu documentos pedido vieira lima conforme informou folha pretende provar devolvia parte salario camara politicos estuda fazer acordo delacao premiada pgr outro lado advogado gamil foppel representa geddel irmao mae nao atendeu ligacoes respondeu mensagens ate defesa job ribeiro afirmou nao concorda conclusao relatorio porque contraditorio relacao fatos manifestacoes pgr decisao fachin advogados gustavo ferraz disseram descabido cogitar qualquer ato intencao parte aproxime lavagem dinheiro novo policia federal fernando segovia presidente camara rodrigo maia nesta discutir reforma previdencia maia alvo lava jato recebeu diretor pf cafe manha residencia oficial presidencia camara deixar encontro segovia disse visita defender direitos policiais gente lutando direito aposentadoria policial longo carreira sofre bastante gente ve policiais mortos combate dificuldade seguranca publica pais entao perder direitos neste momento pessimo policial hoje enfrenta corrupcao enfrenta diversos problemas pais afirmou pf disse defender tempo aposentadoria integralidade paridade sao direitos fundamentais exercicio atividade policial disse eduardo cunha vai continuar preso placar votos maioria supremo decidiu tarde hoje negar pedido liberdade feito defesa camara ministros edson fachin luis roberto barroso rosa weber luiz fux dias toffoli celso mello carmen lucia gilmar mendes votaram favor manutencao prisao politico marco aurelio mello unico concordar liberdade defesa questio', 'ainda nao ganhar medalha olimpiada decadencia desde decada jogos nao mudarao rio janeiro conquistou ha quase sete anos direito sediar jogos olimpicos cidade maravilhosa parecia fazer jus apelido indices violencia tao intrinsecamente associados imagem rio quanto praias vinham caindo havia decada economia cidade estado crescia ritmo acelerado gracas demanda mundial petroleo enriquece subsolo costa maritima jogos mostrariam mundo cidade prospera autoconfiante sustentavam organizadores nao menos importante rio oportunidade provar capaz preparar realizar evento grande porte nao apenas cair farra enterrando vez todas ideia brasil nao pais serio disse diplomata brasileiro idos anos derem chance nao irao arrepender asseverou entao presidente luis inacio lula silva trouxe olimpiada brasil faltando poucos dias cerimonia abertura marcada agosto autoconfianca rio abalada dia delegacao australiana retirou atletas vila olimpica barra tijuca vasos sanitarios entupidos fios eletricos desencapados sao transtornos triviais contornaveis perto problemas afetam algumas areas baia guanabara onde serao realizadas provas vela continua sendo esgoto ceu aberto surto mosquito portador virus zika causa microcefalia afugentou alguns esportistas golfistas particular parecem querer distancia rio praia ipanema gigantesco banco areia inicio mes policiais bombeiros estado cujos salarios atrasados fizeram manifestacao aeroporto internacional galeao recebendo turistas cartazes estampando frase inferno escrita ingles obras nova linha metro corredor onibus legados importantes jogos deixarao cariocas estao atrasadas dificuldades locais crises nacionais brasil vive recessao aguda alvo processo impeachment conta supostas manipulacoes contabilidade governo federal presidente dilma rousseff afastada cargo ora sendo ocupado michel temer rio centros disfuncao nacional sede petrobras estatal foco enorme escandalo corrupcao fica cidade responsaveis patrulhamento ruas nao fogem regra truculencia caracteristica policiais brasileiros so maio mataram pessoas fama rio ser dorian gray urbana visual lindo dentro podridao nao todo imerecida rio talvez ainda faca ceticos dobrar lingua todos anos cidade realiza carnaval monumental mergulhar caos arenas esportivas estao prontas estouro orcamentos obras outros gastos olimpiada inferior media valores excedidos outras maior parte recursos veio setor privado governo federal transferiu us bilhoes estado rio fim pudessem ser pagos outras coisas salarios atrasados policiais tambem enviou mil soldados exercito forca nacional combater crime prevenir atentados terroristas dia autoridades brasileiras disseram ter frustrado planos alguns jihadistas locais conclusao obras transporte publico atrasada onibus estao rodando organizadores prometiam ultimo sabado metro ja estaria funcionando fato inaugurado realizacao pequenos reparos apartamentos delegacao australia retornou vila olimpica australianos assim mil pessoas devem assistir jogos irao embora acabar olimpiada milhoes habitantes cidade nao cariocas nao fara muita diferenca jogos olimpicos sucesso fracasso evento pouco tera contribuido interromper longa trajetoria decadencia vivida cidade beleza pode ate ser fundamental nao suficiente vivendo deslumbrante orla rio cerca mil favelas cidade cariocas nao andam animados estudante direito mudou cidade ha tres anos pensando estabelecer definitivamente concluir estudos agora quer ir embora nao aguenta cortes orcamento universidade publica aluna greves impediram concluir varios cursos grupo empresarios tentou contribuir melhoria funcionamento administrativo estado contratando consultoria renomada oferecer orientacoes gestores publicos passados alguns anos burocratas retomaram habitos clientelistas amigos cariocas cineasta jose padilha atualmente mora los angeles aconselhado diretor tropa elite ficar la segundo levantamento realizado setembro cariocas gostariam mudar outra cidade frente manifestavam desejo nenhum turista escapara chocante justaposicao r', 'tribunal nega liberdade engenharia petrobras roberto goncalves reu lava jato condenado sergio moro anos dois meses primeira instancia crimes corrupcao lavagem dinheiro pertinencia organizacao engenharia petrobras roberto goncalves pedido liberdade negado julgamento tribunal regional federal regiao porto alegre nesta condenado primeira instancia juiz sergio moro anos dois meses crimes corrupcao lavagem dinheiro pertinencia organizacao criminosa dentro investigacoes lava jato defesa alega outros fatores reu primario possui bons antecedentes residencia fixa entendimento advogados manutencao paciente preso apos decreto condenatorio significa execucao antecipada pena desembargadores turma negaram pedido defesa nao ira manifestar sobre decisao desembargador relator lava jato segunda instancia joao gebran neto apontou voto conforme sentenca durante investigacoes reu movimentado valores provenientes propinas contratos petrobras contas exterior preservar ordem publica quadro corrupcao sistemica reiteracao delitiva prisao preventiva medida alem prevenir envolvimento investigado outros esquemas criminosos tambem tera salutar efeito impedir dificultar novas condutas ocultacao dissimulacao produto crime ja ainda nao recuperado destacou goncalves acusado ter recebido propina paga odebrecht utc sentenca moro publicada dia setembro juiz vara curitiba disse reu deveria permanecer preso cautelarmente eventual recurso manter fundamentos prisao preventiva prisao preventiva decretada marco alvo mandado prisao temporaria ficou detido dias solto petrobras alvo fase operacao moro tambem decretou interdicao goncalves cargos funcoes publicas confisco us milhoes contas nome offshores r mil bloqueados contas reu goncalves sucessor pedro barusco gerencia executiva engenharia estatal acordo lava jato barusco deixou cargo passou bastao propina paga empreiteiras denuncia aceita abril deste ano cita dois contratos firmados petrobras construcao complexo petroquimico rio janeiro comperj somam r bilhoes consorcios contratados pipe rack tuc integrados empreiteiras odebrecht utc', 'honolulu brasil corre risco perder oportunidades acesso recursos geneticos melhoria agropecuaria nao ter biodiversidade investigada busca novos farmacos ate defender casos biopirataria nao ratificar acordo internacional ajudou construir prognostico feito brasileiro braulio dias secretario executivo convencao diversidade biologica cdb nacoes unidas sobre pode ocorrer acabar mal novela arrasta ja quatro anos torno ratificacao brasil protocolo nagoya acordo internacional versa sobre acesso recursos geneticos biodiversidade assinado final outubro apos periodo intensa negociacao contou articulacoes importantes diplomatas membros ministerio meio ambiente brasil linha frente dias entao secretario biodiversidade florestal pouco menos dois anos junho texto congresso moeda troca durante discussoes codigo florestal outras legislacoes acabou nunca sendo votado protocolo acabou entrando vigor outubro participacao brasil ate hoje continua preparativos proxima conferencia bianual partes convencao diversidade biologica sera realizada final deste ano cancun mexico sera ultima gerida dias fazendo apelo brasil logo jogo entrevista estado durante conferencia internacional sobre conservacao promovida uniao internacional conservacao natureza iucn dias explicou significa brasil nao aderir protocolo peso brasil nao estar protocolo principal instrumento internacional estabelecendo regras jogo acesso recurso genetico reparticao beneficios faz mediacao detem direitos sobre recursos geneticos incluindo paises provedores povos indigenas comunidades locais etc usuarios incluem toda comunidade cientifica toda industria farmaceutica biotecnologia trem avancando nivel global recebendo adesoes crescentes importante ratificacao uniao europeia aprovou lei regional acesso recursos geneticos reforcando tudo protocolo nagoya criando algumas exigencias fortes pouco ratificacoes china reino unido franca dentro cdb brasil nao sozinho entendo cada pais ter tempo fazer discussoes internas esclarecer todo mundo vai acontecer importante ratificar varios paises brasil decidiram antes ratificar protocolo precisavam atualizar leis internas tratam tema ja resolvido ano passado sim abril ano passado aprovada lei biodiversidade sancionada entao presidente dilma rousseff maio modernizou bastante tematica brasil antes so havia medida provisoria bastante restritiva criava muita burocracia dificultava fato acesso recurso genetico agora ha lei facilita acesso reforca exigencia reparticao beneficios cria novos mecanismos fundo nacional reparticao beneficios brasil pais rico biodiversidade mundo entao potencialmente paises ganhar regras visam assegurar qualquer novo desenvolvimento farmaceutico biotecnologico baseado biodiversidade brasileira vai ter respeitar direitos brasil so aconteca plenamente brasil ratificar protocolo protocolo afeta interesses varios setores brasil setor agropecuario preocupado exigia primeiro ter lei nacional garantia regras protocolo nagoya nao retroativas claro direito internacional novas regras valem sempre daqui frente exportacao commodities nao nada ver protocolo agora alguem pega recursos geneticos plantas nativas plantas cultivadas brasil faz novos desenvolvimento tecnologicos desenvolve novos produtos valor agregado cafe cafeina exemplo ai cai dentro regras protocolo nagoya problema muita noticia errada atrapalhou entendimento nessas coisas brasil infelizmente ainda atrasando ratificacao brasil bom turbulencia politica nao ajudou agora precisa abaixar poeira precisa comecar retomar agenda ministro jose serra itamaraty ministro sarnxey filho ambiente ja congresso enfatizar acordo paris tambem precisa ratificar protocolo nagoya espero venha acontecer logo puxao orelha neles nao preciso dar puxao orelha nao interesse brasil ratificar entende assunto sabe disso ainda muita desinformacao muita gente acha nao precisa ratificar exemplo economia brasileira area agricultura depende basicamente especies cultivadas origem outros continentes soja veio china laran', 'existe especie corrida justica congresso ver engana distinto publico primeiro senado ja aprovou versao reducao foro privilegiado passou ccj camara nela ha penduricalhos suspeitos tira foro muita gente sao mil privilegiados estende lula sera temer outra excrescencia libera presidente republica matar roubar peculiaridade brasileira tira todo sentido providencia afinal grandes democracias mundo nao conhecem jabuticaba precisa ser extinta vez golpe so resto disputa deputados ministros supremos ver serve melhor senhores poder comentario jornal eldorado radio eldorado fm sexta novembro ouvir clique aqui seguida play ouvir daqui nao saio vocalistas tropicais clique aqui abaixo integra degravacao comentario eldorado novembro maioria ministros supremo tribunal federal stf decidiu ontem limitar alcance foro privilegiado deputados federais senadores ate enfim judiciario atendeu clamor popular garantia igualdade todos perante lei julgamento suspenso pedido vista dias toffoli entendimento ministros somente deverao tramitar corte processos crimes cometidos exercicio mandato relacionados cargo reacao camara vai acelerar tramitacao proposta emenda constituicao pec restringir tambem foro integrantes judiciario ministerio publico unico ate agora votar favor foro privilegiado ministro alexandre moraes ter pedido vista ganhar tempo sonora moraes estado antecipou edicao desta ministros votariam restringir foro privilegiado cheguei comentar noticia aqui atualmente apos diplomacao deputados federais senadores processos penais remetidos supremo razao chamado foro prerrogativa funcao instrumento previsto constituicao proteger exercicio funcao publica hoje ha procedimentos penais corte inqueritos acoes penais acordo luis roberto barroso podem descer juiz primeira instancia entanto ate julgamento encerrado ainda nao ha previsao conclusao procedimentos vao continuar stf sessao ontem terceira destinada discutir tema retomada voto alexandre moraes havia pedido vista junho plenario ja quatro votos favor restricao barroso presidente carmen lucia marco aurelio mello rosa weber discussao nao prevista pauta deste mes incluida posteriormente presidente calcular haveria maioria ministros avaliam julgamento forma stf marcar posicao frente congresso sonora melo existe especie corrida justica congresso ver engana distinto publico primeiro senado ja aprovou versao reducao foro versao passou ccj camara nela ha penduricalhos suspeitos tira foro muita gente sao mil privilegiados estende sarney ja goza extensao privilegio lula claro outra excrescencia libera presidente republica matar roubar peculiaridade brasileira tira todo sentido providencia afinal grandes democracias mundo nao conhecem jabuticaba precisa ser extinta vez golpe so resto disputa deputados ministros supremos ver serve melhor senhores poder divulgacao barometro politico aponta alta aprovacao pessoal apresentador tv luciano huck provocou imediata reacao meio politico presidencia voce acha dessa tentativa desqualificar preferido povo analistas cientistas politicos avaliam entretanto alta aprovacao imagem nao necessariamente significa conversao intencao votos caso intencao aconteca apresentador movimentar explicitamente cenario eleitoral meio politico reacao explicita forma provocacao feita luiz inacio lula silva tenta viabilizar candidatura pt enquanto aguarda julgamentos operacao lava jato entrevista radio lula disse tudo deseja vida disputar eleicao alguem logotipo globo testa mesma frase publicada twitter petista piada lula nao menor graca atinge fulcro tentativa manter monopolio politicos sobre negocios claro cofres republica nao unico acusar golpe senador cristovam buarque tambem ja externou intencao candidatar presidencia minimizou resultado colocarmos nomes faustao fernanda montenegro atores novela acho tambem aprovacao desse tipo disse candidato estar carregado proposta bagagem politica fica dificil responder sobre nome huck porque nao sei proposta brasil potencial candidato presidencia psdb govern', 'inscricoes agentes saude endemias vicosa terminam nesta terca resultado selecao cadastro reserva previsto dia termina nesta prazo interessados inscreverem vagas processo seletivo simplificado emergencial cargos agente comunitario saude agente combate endemias vicosa edital publicado formar cadastro reserva quadro pessoal secretaria municipal saude cidade contratacao atende decreto janeiro deste ano declarou situacao emergencia saude publica municipio causa surto febre amarela dengue conforme dados estado cidade registrou duas mortes febre amarela neste ano estao previstas nove vagas agentes comunitarios saude unidades basicas saude amora bom jesus i ii cachoeira santa cruz joao bras nova vicosa santo antonio i sao silveste alem duas vagas agentes combate endemias dois cargos possuem jornada horas previsao salario r contrato sera valido dias possbilidade renovacao inscricoes sao gratuitas podem ser feitas site prefeitura vicosa onde tambem disponivel edital processo candidatos devem preencher formulario inscricao online todas informacoes requeridas obter inscricao definitiva necessario apresentar quarta proximas segunda terca abril sede secretaria municipal saude seguinte documentacao atendimento sera secretaria saude centro administrativo rua gomes barbosa centro selecao levara conta formacao academica experiencia profissional conforme documentacoes encaminhadas candidatos conforme cronograma classificacao parcial sera divulgada dia abril recursos deverao ser apresentados dia seguinte tambem secretaria saude previsao dia abril classificacao final disponibilizada tanto secretaria quanto pagina processo seletivo conforme boletim epidemiologico divulgado dia marco chegou numero mortes febre amarela minas gerais desde fim ano passado governo minas publicou decreto estadual emergencia janeiro dia mes atualizou decreto incluindo cidades unidades regionais saude barbacena juiz alem areas belo horizonte itabira ponte nova iniciativa governo estadual cidade barbacena emitiu comunicado decretando situacao emergencial cidade dia janeiro decreto autoriza adocao medidas administrativas necessarias contencao surtos aquisicao insumos materiais contratacao servicos pessoal forma emergencial necessidade abertura licitacao prazo dias dia marco prefeito bruno siqueira mdb decretou situacao emergencia conta casos registrados juiz febre amarela doenca infecciosa febril aguda causada virus transmitido mosquitos infestados area rural floresta macacos sao principais hospedeiros transmissao ocorre picada mosquitos transmissores infectados haemagogus sabethes cidades doenca pode ser transmitida principalmente mosquitos especie aedes aegypti nao ha transmissao direta pessoa pessoa sintomas iniciais febre amarela incluem inicio subito febre calafrios dor cabeca intensa dores costas dores corpo geral nauseas vomitos fadiga fraqueza febre amarela perguntas respostas', 'cunha deixando rastro destruicao pais igrejas poderao questionar leis stf deputados aprovaram ontem proposta emenda constituicao pec concede entidades religiosas ambito nacional poder propor acao direta inconstitucionalidade acao declaratoria constitucionalidade supremo tribunal federal stf informacao via congresso foco fruto interesses bancada evangelica congresso liderada trupe malafaia feliciano eduardo cunha outros texto recebeu apoio unanime comissao especial instalada camara analisar materia segue agora votacao dois turnos plenario casa deputado joao campos presidente frente parlamentar evangelica autor proposicao defende conferir tais poderes instituicoes religiosas possibilitara questionamento sobre possiveis leis venham interferir direta indiretamente sistema liberdade religiosa culto preceito garantido constituicao federal caso vigor entidades conferencia nacional bispos brasil cnbb convencao geral assembleias deus brasil supremo concilio igrejas presbiterianas brasil poderao acionar stf questionar constitucionalidade legislacao considerada contraria doutrinas religiosas atualmente so podem propor tipos acoes presidente republica mesas senado camara assembleia legislativa distrito federal governadores unidades federativas pais republica conselho federal ordem advogados brasil partidos politicos representados congresso sindicatos entidades classe', 'objetos valor sumiram planalto auditoria tcu aponta lula dilma burlaram regra aproximadamente itens fazem parte patrimonio presidencia republica sumiram informacao colunista talita abrantes revista exame objetos estao faixa presidencial usada posse novos presidentes computadores equipamentos seguranca colecao prataria palaciana tapetes persas j ogos porcelana chinesa obras arte pintores brasileiros outros residencia oficial presidencia itens desapareceram tcu aponta prejuizo milhoes reais auditoria tcu descobriu cofre agencia bancaria sao paulo reservado guardar presentes recebidos luiz inacio lula silva durante periodo chefe executivo federal lei diz presentes recebidos chefes estado outros paises devem ser incorporados patrimonio uniao auditoria tcu confirmou tanto lula quanto dilma burlaram regra', 'intimado pf depor operacao zelotes lula ira argumentar nao sabia nada lula vai dizer nao sabia nada nao qualquer participacao edicao medidas provisorias investigadas operacao zelotes nota divulgada instituto lula afirma nao qualquer relacao fatos investigados medida provisoria questao editada aprovada congresso nao presidente republica informa texto intimado policia federal prestar depoimento sobre atuacao lft marketing esportivo empresa filhos luis claudio lula silva ja antecipou sera linha defesa instituto lula informou ainda nao notificado oficialmente depor estara sempre disposicao autoridades contribuir esclarecimento verdade gilberto carvalho depoimento prestou pf disse mauro marcondes proprietario marcondes mautoni empresa repassou r milhoes lft amigo lula pf quer saber detalhes relacao lobista luis claudio afirma prestou servicos marketing esportivo escritorio marcondes mautoni pf porem aponta documentos apresentados justificar servicos baseiam meras reproducoes conteudo disponivel internet especial site wikipedia', 'eua coreia sul disparam fogo real usando bobardeiros cacas stealth eua coreia sul realizaram hoje exercicios bombardeio longo fronteira peninsula dois bombardeiros supersonicos eua quatro avioes combate stealth quatro cacas exercicios fogo vivo campo militar leste coreia sul missao treinamento simulou ataques precisao contra instalacoes principais norte acordo comando pacifico eua ministerio defesa coreia sul embarcados base forca aerea andersen guam enquanto vieram base eua iwakuni japao abaixo video', 'onde quer va dilma hostilizada populacao governador valadares nao diferente manifestacao comecou dilma desceu helicoptero acompanhada governador fernando pimentel avistarem presidente governador fernando pimentel grupo pessoas comecou gritar pt queremos impeachment chegou cidade apos sobrevoar municipio mariana lado governador fernando pimentel avaliar estragos causados rompimento duas barragens mineradora samarco ultima deixou ate agora seis mortes confirmadas pessoas desaparecidas fonte video', 'dilma condena michel temer diz guerrilheira vai lutar ate fim presidente dilma disse vice michel temer cumplice eduardo cunha golpe pois processo impeachment durante cerimonia planalto ultima dilma associou temer eduardo cunha afastado mandato deputado federal tom ameaca dilma falou plateia beneficiarios casa vida disse futuro governo temer podera tirar milhoes pessoas bolsa familia bolsa familia hoje contempla milhoes pessoas entao fazer so milhoes tirar milhoes margem declarou presidente encerrar discurso dilma enfatizou ja travei batalhas duras vida acostumada guerrilhas nao desistirei lutarei ate fim', 'crime pgr podera pedir prisao preventiva chefao compra votos deputados bolivar lamounier cientista politico ligado psdb enviou oficio pgr rodrigo janot sugerindo prisao preventiva lula estar orquestrando conduzindo compra votos deputados federais contra impeachment dilma lamounier argumentou mercadao ocorre plena luz dia qualquer disfarce deve sofrer intervencao imediata parte rodrigo janot lula negociando compra votos hotel golden tulip brasilia nao ha duvida trata crime disse cientista politico representacao ainda nao chegou pgr acordo informacoes assessoria imprensa', 'urgente instituto lula divulga nao ira depor proximo dia instituto lula divulgou agora pouco lula esposa dona marisa leticia nao irao comparecer depoimento marcado proxima sao paulo aviso feito advogados defesa casal ministerio publico nesta segunda informacao divulgada portal defesa lula entrou pedido habeas corpus hc preventivo hoje tentativa evitar ser conduzido coercitivamente ministerio publico federal texto informa lula dona marisa manifestaram desejo prestar depoimento autoridade imparcial dotada atribuicao respeite principios promotor natural', 'mexico inaugura boneco cera dilma simpatico inteligente original dizem especialistas inteligencia boneco cidade mexico museu cera inaugurou replica dilma rousseff legenda brasil outros comunistas feitos cera fazem companhia dilma estao lula hugo chaves evo morales che guevara alem ser simpatico sorridente bonito dilma original boneco tambem inteligente presidenta afastada apenas sorri nao abre boca falar besteiras certamente nao sofrera impeachment museu', 'policia vaticano flagra orgia gay apartamento conselheiro papa apartamento pertence congregacao vaticano doutrina fe tambem chamada santo oficio orgao encarregado combater abuso sexual clerigos relatorios divulgados italia afirmam ocupante apartamento secretario cardeal francesco coccopalmerio presenca coccopalmerio principais auxiliares papa francisco local ainda nao confirmada oficialmente ha relatos cardeal estaria participando festa imovel onde policia flagrou orgia fica algumas quadras vaticano informou jornal italiano il fatto quotidiano vizinhos suspeitaram comportamento estranho pessoas indo vindo acionaram autoridades policia apareceu encontraram drogas bebidas grupo homens relacionando policia vaticano nao revelou detalhes acusacoes contra secretario anos citou necessidade preservar integridade processo judicial', 'depoimento jose dirceu pede clemencia moro deixa liberdade quero trabalhar engracado roubar sabe falar portugues correto nao lula fez apelo juiz sergio moro hoje dirceu pediu ser solto clamou liberdade dirceu frase correta deixa liberdade nao deixa liberdade lindo ne imagine so todo ladrao desse pais fizesse apelo dramatico cada juiz durante julgamento jd condenado anos reclusao corrupcao lavagem dinheiro organizacao criminosa esquema petrobras quero repetir nao nada ilicito faturei milhoes reais ganhei seis dez anos mil reais mes passou opiniao publica ganho milhoes vai parecendo pessoa enriqueci maneira ilicita patrimonio nao verdade nao disse braco direito lula finalizou minutos video deixa responder liberdade processo vou cumprir pena anos filha pra criar preciso tralabalhar', 'video nasa mostra ovni reabastecendo energias sol filmagem datada setembro feita nasa mostra nave mae alienigena reabastecendo calor sol gravacao sugere nave estaria utilizando sol fonte energia estando km terra pesquisadores monitoram constantemente todas atividades acontecem estrela central sistema solar apos video ser divulgado youtube diversos estudiosos ufo s confirmaram imagens mostravam nave mae alienigena reabastecendo calor sol', 'europol faz alerta mundial estado islamico pode estar planejando ataque massa europa ultimo domingo ei publicou domingo video afirma apresentar nove autores atentados deixaram mortos paris novembro ano passado gravacao ei ameaca todos paises coalizao sobretudo entrevista coletiva reuniao ministros interior uniao europeia diretor europol rob wainwright disse chamado estado islamico disposicao capacidade realizar ataques europa alertou todas autoridades nacionais trabalhem conjunto evitar pior ataques paris ilustram nova ameaca disse wainwright combatentes locais estado islamico liberdade tatica adaptar planos circunstancias locais especificas fato dificulta detectar planos identificar pessoas envolvidas relata conclusoes seminario especialistas realizado tres semanas apos ataques paris deixaram mortos relatorio destaca ainda informacoes inteligencia concretas atividades contatos viagens terroristas conhecidos quase impossivel prever exatidao onde ocorrera proximo ataque focarao particular comunidade cidadaos europeus radicalizaram conflito siria iraque quais muitos regressaram cria grande risco seguranca enfatizou diretor europol', 'temer comandante abin nao desgrudam acusado utilizar abin vasculhar vida ministro edson fachin presidente temer encontrou chefao abin frequencia extra durante ultimos meses michel temer general sergio etchegoyen atual ministro gabinete seguranca somente primeira semana junho quatro reunioes abin orgao inteligencia governo federal subordinada gabinete etchegoyen janeiro fevereiro marco abril durante periodo apenas tres encontros maio durante mes delacao bomba joesley batista temer encontrou sete vezes general junho somente primeira semana junho ocorreram quatro encontros chefao abin presidente republica negou utilizado agencia brasileira inteligencia abin investigar vida ministro edson fachin nao ha momento algum intencao governo combater operacao lava lato afirmou governo nota oficial temer diz nao usa maquina publica contra cidadaos brasileiros nao ira desrespeitar lei sera', 'joesley xingando supremo precisamos organizar stf gente grampeia fpd joesley batista falando sobre petista surtou causa ze porque sabe entregar ze entrega supremo diz joesley audio referindo jose eduardo cardozo justica veja empresario arrogante conivente crime refere ministros supremo fazemos pra grampear fdp minuto video', 'deputado pronuncia sobre tentativa anular impeachment formei veterinaria presidente interino camara waldir maranhao apos protagonizar maiores vergonhas ja presenciadas cenario politico brasileiro pronunciou coletiva imprensa diferente outras coletivas acostumados ver ouvir maranhao falou falou nao disse nada reporteres acompanharam breve depoimento deputado nao puderam fazer perguntas presidente interino camara motivo simples nao saberia responder questoes waldir pau mandado jose eduardo cardozo sequer estudou documento estapafurdio tentou empurrar goela abaixo povo brasileiro maranhao disse nao brincando democracia brasil salvacao meio embate combate ahhh nobre deputado tambem disse formou medicina veterinaria', 'willian waack sobre kim gordinho maluco cara tarado sobre escalada tensoes w ashington pyongyang waack disse acontecendo la perigoso guerra verbal donald trump ditador coreia norte nao sendo adepto presidente jornalista fez questao ressaltar nao gosta colocar trump kim patamar jornalista opiniao opiniao forte ralacao presidente trump porem lider escolhido voto acordo estado democratico direito eua relacao ditador kim waack nao poupou palavras ja nao vou esconder opiniao gordinho cara tarado ditador chefe regime comunista totalitario nao pode ser colocado grau igualdade donald trump', 'deputado tomou decisao maluca anular impeachment podera ser afastado oposicao articulando afastar presidente interino camara deputado waldir maranhao ninguem consultado sobre tentativa anulacao ato impeachment apenas jec jose eduardo cardozo governador maranhao flavio dino tentativa ridicula golpe costurada governador maranhao jec presidente interino camara dino waldir sao luis encontro residencia fim tarde ontem dois pegaram aviao fab forca aerea brasileira seguiram brasilia onde articularam junto cardozo decisao maluca tentar anular impeachment', 'cientistas internacionais oxford harvard yale sugerem cancelamento imediato olimpiadas grupo formado cientistas internacionais afirmaram jogos olimpicos rio janeiro deveriam adiados cancelados transferidos devido risco surto virus zika carta aberta enviada organizacao mundial saude citando fracasso programa erradicacao mosquito sistema saude fragilizado brasil risco desnecessario colocado mil turistas estrangeiros todos paises acompanham jogos potencialmente adquirem virus voltam casa podendo endemico analise especialistas dizem manutencao jogos rio atitude antietica cientistas tambem pedem oms reveja urgentemente recomendacoes sobre zika virus relacionado serie problemas nascimento microcefalia carta destaca ainda problema zika algo impossivel resolver aproximacao jogos coi comite olimpico internacional declarou nao ha razoes atrasar transferir jogos causa doenca carta aberta assinada profissionais cientistas medicos especialistas etica medica instituicoes oxford harvard yale oms recentemente classificou virus emergencia global saude publica comentou carta', 'oposicao dilma age forma desequilibrada usa agu favor lula obtstrucao justica advocacia administrativa anuncio representacoes junto pgr feito deputado federal antonio imbassahy lider psdb camara oposicao ira protocolar representacoes junto republica contra presidente dilma lula ministro jaques wagner casa civil edinho silva secretaria comunicacao cometimento crimes obstrucao justica pratica advocacia administrativa cargo publico usado defender interesses privados tudo baseado conversas telefonicas gravadas autorizacao judicial', 'coi quebra protocolo diz organizacao rio lastimavel john coates comite olimpico internacional coi desde anos disse rio olimpiada dificil ja realizada ate hoje coates ja havia alertado organizacao pior ja havia visto entrevista bbc confirmou novamente situacao lastimavel sido dificil jogos dificeis encontrado termos situacao economica politica disse rio escolhido pais quase potencia economica agora estao sofrendo disse coates transporte seguranca cor agua piscinas filas ingressos locais vazios situacao voluntarios problemas operacionais deixado membros coi cabelos pe proprio diretor comunicacao mario andrada pedido desculpas falhas quase diariamente hoje andrada admitiu poderia ter feito melhor aprendemos vamos fazer melhor futuros grandes eventos brasil disse andrada leia tambem', 'enfim despedida dilma fara pronunciamento cadeia radio tv amanha dilma rousseff fara pronunciamento oficial nacao amanha transmitido rede radio tv acordo jota argumentacao tratara sistema politico brasileiro citara estado democratico direito todo bla bla bla golpe discurso ainda revisao equipe restrita palacio planalto ja dilma nunca capacidade escrever tampouco ler discurso michel temer nao fara pronunciamento deve dar entrevista coletiva renuncia dilma nao descartada vista ato humildade grandeza algo nao combina presidente', 'defesa deputado mala pede stf cabelos parlamentar nao raspados papuda', 'anonymous convoca internautas hackear contas estado islamico posta tutoriais internet mensagem divulgada international business times grupo hacker convoca internautas tomar alguma atitude vez ficar sentado fazer nada contribuicao significa encorajamos participar todas atividades operacao voce puder quanto melhor comentam intencao ampliar esforcos guerra contra estado islamico grupo anonymous resolveu dar poderes internautas comuns grupo publicou serie tutoriais truques ajudam identificar hackear alvos tutoriais postados canal irc usado anonymous compartilhar informacoes respeito opparis vem sendo chamada operacao contra ie chamado noobguide permite qualquer aprenda hackear outro reporter explica configurar bot twitter capaz descobrir contas relacionadas ie tambem ha searcher contando encontrar sites relacionados terroristas anonymous afirma ter derrubado mil contas twitter relacionadas ie comecou divulgar informacoes pessoas supostamente ligadas grupo terrorista ha certa desconfianca sobre acoes falta comprovacao atingiram alvos certos', 'dilma entrara justica pra anular impeachment voto gilmar mendes abriu dois caminhos juridicos anulacao impeachment advogado pretende recolocar dilma volta poder antes final apos chapa ser absolvida tribunal superior eleitoral tse advogado flavio caetano afirmou julgamento reforca golpe parlamento contra estado direito constituicao disse dois argumentos ministro gilmar mendes poderao ser utilizados supremo tribunal federal processo dilma busca pede anulacao impeachment advogado destacou voto gilmar argumento anular impeachment duas manifestacoes hoje importantes ministro gilmar mendes presidente corte ministro stf primeira defesa principio soberania voto popular segunda vivemos semiparlamentarismo nao maioria congresso perde cargo disse caetano caetano disse sessao desta sexta terceira vez campanha julagada primeira vez contas aprovadas unanimidade segunda vez reconheceu urnas nao fraudadas disse consideramos justica feita preservar direitos politicos dilma rousseff disse acao proposta psdb contra chapa presidencial sob acusacao abuso poder economico politico eleicoes rejeitada votos gilmar admar gonzaga napoleao nunes maia tarcisio vieira contra votos herman benjamin rosa weber luiz fux', 'acredite quiser grupo ligado lula pt conseguiu sumir dois navios sonda relacao schahin lula representante receita federal roberto leonel revelou coletiva imprensa grupo schahin conseguiu retirar sumir escafeder brasil dois operados petrobras sob bloqueio judicial procuradoria fazenda receita federal determinaram bloqueio bens grupo schahin inclusive dois navios sonda avaliados us milhoes cada leonel disse grupo advogados representando offshores schahin ingressaram acao justica sao paulo pedindo reintegracao posse navios sertao impressionante autorizacao legal conseguiram retirar navios pais alem disso desligaram transponders sondas impedir localizacao via estadao ultima segunda ministerio publico federal denunciou pessoas envolvimento esquema corrupcao petrobras acusados estao pecuarista amigo lula jose carlos bumlai joao vaccari neto pt grupo suspeito participar esquema propinas contratacao schahin engenharia operadora vitoria investigacoes indicam desvio r milhoes grupo abastecer cofres partido trabalhadores bumlai preso curitiba desde novembro procurador republica deltan dallagnol coordenador forca tarefa afirmou bumlai nao centro investigacao bumlai nada operador partido politico operador partido trabalhadores disse outros acusados estao filho pecuarista mauricio barros bumlai nora cristiane barbosa dodero bumlai nestor cervero jorge zelada ambos aera internacional petrobras estatal eduardo musa lobista fernando baiano executivos banco schahin salim schahin milton schahin fernando schahin pt vez afirma desde inicio investigacoes doacoes recebidas partido aconteceram estritamente dentro legalidade posteriormente declaradas justica eleitoral', 'lula dizendo jose sarney dono globo esqueca luiz inacio politico tente analisar luiz inacio pessoa assista video abaixo diga pessoa bate bem pinos confira', 'vinganca dilma diz havera luta contra governo bandidos lavada sofreu senado federal julgamento impeachment dilma rousseff disse luta continuara dilma disse alem recorrer contra resultado stf fara oposicao ferrenha chefe poder executivo presidente michel temer petista referiu novo governo governo bandidos historia sera implacavel disse dilma havera contra determinada oposicao governo golpista pode sofrer encerrou', 'suzane richthofen quer virar pastora evangelica suzane richthofen pede liberacao justica estudar teologia levar testemunho transformacao mundo igreja evangelho quadrangular podera ser instituicao ira credenciar pastora pastor igreja evangelho quadrangular itapetininga sp euclides vieira diz ter sido procurado suzane von richthofen noivo rogerio olberg maio dar conselhos casal sobre vontade detenta tornar pastora euclides afirma conhece noivo suzane condenada anos prisao morte pais desde passou ter contato ha ano pastor detenta merece segunda chance afirmou desde conversei suzane conheci outra pessoa acredito mudada advogada von richthofen jaqueline ferreira confirma quer ser membro igreja palavra deus transformou suzane conheceu igreja apos comecar relacionar olberg irma presa tremembe penitenciaria onde tambem cumpre pena segundo pastor ideia casal contar testemunho mudanca jovem igrejas espalhadas todo brasil tornar missionaria tera fazer curso teologico tres anos passar entrevistas contar indicacao pastor defesa suzane pediu justica ir regime aberto junho pois conseguido emprego confeccao angatuba interior paulista onde familia noivo mora nao ha prazo julgamento pedido', 'corpo bombeiros confirma morre teori zavascki corpo bombeiros confirmou ministro teori zavascki anos relator morreu vitima acidente aviao caiu mar paraty teori sera velado stf enterrado santa catarina informou veja aviao modelo beechcraft pertencente dono hotel emiliano sp rj quatro ocupantes aeronave nao resistiram queda', 'dilma quer transformar defesa senado micareta chico buarque sera convidado honra petista cantor chico buarque petista roxo defensor futura dilma rousseff estara presente sessao amanha senado chico devera comparecer senado ouvir dilma rousseff apresentara defesa pessoalmente perante toda nacao trinta cinco convidados acompanharao defesa petista segundo informacao globo cantor devera ficar tribuna senado local reservado convidados presidenta afastada sera vai ter show leia tambem', 'bumlai entrega lula obrigado fazer emprestimo falso bancar pt fizeram trouxa jose carlos bumlai empresario amigo numero lula disse medo obrigado fazer emprestimo pt cheguei banco emprestimo ja totalmente aprovado so precisava trouxa assinar ficar responsavel disse bumlai depoimento juiz sergio moro bumlai contou assinou emprestimo fraudulento milhoes reais pt medo ser alvo invasao terras caso emprestimo nao concretizado pt mandaria exercito vermelho meliantes invadir terras bumlai avaliou emprestimo falso junto banco schahin dinheiro usado pagar despesas eleitorais campanha pt empresario pecuarista contou sendo vitima suposta chantagem feita empresario ronan maria pinto santo andre sp dinheiro sujo camuflado partir simulacao emprestimo valor milhoes reais banco schahin contratacao indevida schahin petrobras operar navio sonda vitoria cometi grande erro levado situacao epoca proprietario mil hectares terra tudo produtivo pt assumindo governo federal eramos grande alvo invasoes nao falei nao ate questao medo tambem achei emprestimo nao ia sair disse bumlai juiz sergio moro pedido concretizacao emprestimo partiu tesoureiro pt delubio soares']\n"
          ]
        }
      ]
    },
    {
      "cell_type": "code",
      "source": [
        "# Popula o grupo com notícias\n",
        "nest_asyncio.apply()\n",
        "async def send_messages(group_id, messages):\n",
        "    client = TelegramClient('datathon_insere_mensagens', api_id, api_hash)\n",
        "    await client.connect()\n",
        "    await client.start()\n",
        "\n",
        "    for message in messages:\n",
        "        print('Sending message!')\n",
        "        await client.send_message(group_id, message)\n",
        "        await asyncio.sleep(30)\n",
        "\n",
        "    await client.disconnect()\n",
        "messages = []\n",
        "asyncio.run(send_messages(chat, messages))"
      ],
      "metadata": {
        "colab": {
          "base_uri": "https://localhost:8080/"
        },
        "id": "uTZm6toj_msy",
        "outputId": "17222a9a-379f-4718-a049-a885a1ce19d5"
      },
      "execution_count": 88,
      "outputs": [
        {
          "output_type": "stream",
          "name": "stdout",
          "text": [
            "Please enter your phone (or bot token): 5561998210957\n",
            "2023-12-03 21:41:16+00:00\n",
            "Login code: 74561. Do not give this code to anyone, even if they say they are from Telegram!\n",
            "\n",
            "This code can be used to log in to your Telegram account. We never ask it for anything else.\n",
            "\n",
            "If you didn't request this code by trying to log in on another device, simply ignore this message.\n",
            "777000\n",
            "object NoneType can't be used in 'await' expression\n",
            "Please enter the code you received: 74561\n",
            "Signed in successfully as Thiago Melo; remember to not break the ToS or you will risk an account ban!\n"
          ]
        }
      ]
    },
    {
      "cell_type": "code",
      "source": [
        "# Popula o grupo com notícias extraídas de outro dataset\n",
        "#Utiliza notícias pré-processadas\n",
        "url=\"https://raw.githubusercontent.com/thiagomelostuckert/datathon-fakenews/main/pre-processed.csv\"\n",
        "df_send_texts = pd.read_csv(url,on_bad_lines = 'warn')\n",
        "\n",
        "#Seleciona N notícias aleatórias para enviar no grupo\n",
        "n = 0\n",
        "df_aleatorias = df_send_texts.sample(n)\n",
        "\n",
        "#Tamanho máximo da mensagem a ser enviada\n",
        "MAX_LEN=4096\n",
        "\n",
        "async def send_random_messages(client, chat, df_aleatorias):\n",
        "  for news_text in df_aleatorias[\"preprocessed_news\"]:\n",
        "    await client.send_message(chat, news_text[:MAX_LEN])\n",
        "\n",
        "#Esse comando nest_asyncio permite rodar mais de um loop ao mesmo tempo\n",
        "nest_asyncio.apply()\n",
        "async with TelegramClient('datathon', api_id, api_hash) as client:\n",
        "  client.loop.run_until_complete(send_random_messages(client, chat, df_aleatorias))"
      ],
      "metadata": {
        "id": "S3BepxfivMNp"
      },
      "execution_count": null,
      "outputs": []
    },
    {
      "cell_type": "code",
      "source": [],
      "metadata": {
        "id": "YHHwOVScIsq_"
      },
      "execution_count": null,
      "outputs": []
    },
    {
      "cell_type": "code",
      "source": [
        "# Obtém as mensagens do grupo\n",
        "# Referências\n",
        "# Dados obtidos das mensagens: https://core.telegram.org/constructor/message\n",
        "# Objeto message da biblioteca Telethon: https://docs.telethon.dev/en/stable/quick-references/objects-reference.html#message\n",
        "# Biblioteca que consume a API do Telegram:\n",
        "#https://buildmedia.readthedocs.org/media/pdf/telethon/stable/telethon.pdf\n",
        "\n",
        "async def get_all_messages(client,chat):\n",
        "  df = pd.DataFrame()\n",
        "  async for message in client.iter_messages(chat):\n",
        "    if(str(type(message)) !=  \"<class 'telethon.tl.patched.MessageService'>\"):\n",
        "      #Não captura mensagens de serviço, que não são mensagens de usuários\n",
        "      data = {\"received_timestamp\": datetime.now(),\n",
        "              \"text\" : message.message,\n",
        "              \"metadata1\":message.from_id.user_id,\n",
        "              \"metadata2\":\"Pendente\",\n",
        "              \"metadata4\": message.date,\n",
        "              \"id\": message.id,\n",
        "              \"chat_id\": message.peer_id.chat_id,\n",
        "              \"mentioned\" : message.mentioned,\n",
        "              \"media_unread\": message.media_unread,\n",
        "               \"silent\": message.silent,\n",
        "              \"post\": message.post,\n",
        "              \"from_scheduled\":message.from_scheduled,\n",
        "              \"legacy\": message.legacy,\n",
        "              \"edit_hide\":message.edit_hide,\n",
        "              \"pinned\": message.pinned,\n",
        "              \"noforwards\": message.noforwards,\n",
        "              \"invert_media\": message.invert_media,\n",
        "              \"fwd_from\":message.fwd_from,\n",
        "             \"via_bot_id\": message.via_bot_id,\n",
        "             \"reply_to\":message.reply_to,\n",
        "             \"media\":message.media,\n",
        "             \"reply_markup\":message.reply_markup,\n",
        "             \"entities\":message.entities,\n",
        "             \"views\":message.views,\n",
        "             \"forwards\":message.forwards,\n",
        "             \"replies\":message.replies,\n",
        "             \"edit_date\":message.edit_date,\n",
        "             \"post_author\":message.post_author,\n",
        "             \"grouped_id\":message.grouped_id,\n",
        "             \"reactions\":message.reactions,\n",
        "             \"restriction_reason\":message.restriction_reason,\n",
        "             \"ttl_period\":message.ttl_period\n",
        "      }\n",
        "\n",
        "\n",
        "      temp_df = pd.DataFrame(data, index=[1])\n",
        "      df = pd.concat([temp_df, df])\n",
        "  return df"
      ],
      "metadata": {
        "id": "B2iefTbCD-J_"
      },
      "execution_count": null,
      "outputs": []
    },
    {
      "cell_type": "code",
      "source": [
        "nest_asyncio.apply()\n",
        "async with TelegramClient('datathon', api_id, api_hash) as client:\n",
        "  df = client.loop.run_until_complete(get_all_messages(client, chat))"
      ],
      "metadata": {
        "id": "v_sJGc0lIMK7"
      },
      "execution_count": null,
      "outputs": []
    },
    {
      "cell_type": "code",
      "source": [
        "if chat == -4043521267:\n",
        "  #Desconsidera as primeiras duas mensagens\n",
        "  df = df.iloc[2:]\n"
      ],
      "metadata": {
        "id": "4Du5ZwfzFQi-"
      },
      "execution_count": null,
      "outputs": []
    },
    {
      "cell_type": "code",
      "source": [
        "#Mostra a quantidade de mensagens que foi obtida e quantas colunas foram preenchidas\n",
        "df.shape"
      ],
      "metadata": {
        "id": "jLNd3_JXBZcA",
        "colab": {
          "base_uri": "https://localhost:8080/"
        },
        "outputId": "2061d441-4290-45e8-d1d7-955048362053"
      },
      "execution_count": null,
      "outputs": [
        {
          "output_type": "execute_result",
          "data": {
            "text/plain": [
              "(100, 32)"
            ]
          },
          "metadata": {},
          "execution_count": 71
        }
      ]
    },
    {
      "cell_type": "markdown",
      "source": [
        "Classifica as mensagens obtidas do grupo do telegram"
      ],
      "metadata": {
        "id": "Na30wnkLrh9-"
      }
    },
    {
      "cell_type": "code",
      "source": [
        "#Apresenta algumas mensagens\n",
        "#print(df.head())"
      ],
      "metadata": {
        "id": "pyth2BJvIGpH"
      },
      "execution_count": null,
      "outputs": []
    },
    {
      "cell_type": "code",
      "source": [
        "#Classifica as mensagens baixadas\n",
        "df[\"predicted_label\"] = df.apply(lambda x:  classifica_novo_texto(model_name, [x[\"text\"]]) , axis=1)\n",
        "df[\"inference_timestamp\"] = datetime.now()"
      ],
      "metadata": {
        "id": "AX4niO66nVt0"
      },
      "execution_count": null,
      "outputs": []
    },
    {
      "cell_type": "markdown",
      "source": [
        "Enriquecimento com as pistas linguísticas"
      ],
      "metadata": {
        "id": "Wjtibcy8-FWz"
      }
    },
    {
      "cell_type": "code",
      "source": [
        "df = enriquece_metadados(df,nlp_pt,nlp_folha)\n",
        "df = sort_drop_columns(df)\n"
      ],
      "metadata": {
        "id": "usCHTzZyakIL"
      },
      "execution_count": null,
      "outputs": []
    },
    {
      "cell_type": "markdown",
      "source": [
        "Persistência do dado em arquivo"
      ],
      "metadata": {
        "id": "6DE5_Zsi-LBs"
      }
    },
    {
      "cell_type": "code",
      "source": [
        "#Gera o arquivo das mensagens no formato csv\n",
        "tempo = datetime.now().strftime(\"-%Y-%m-%d-%H:%M:%S\")\n",
        "file_name = \"mensagens-\"+str(chat)+tempo+\".csv\"\n",
        "print(file_name)\n",
        "df.to_csv(file_name, index=False)"
      ],
      "metadata": {
        "id": "7dfKZNZbE9wF",
        "colab": {
          "base_uri": "https://localhost:8080/"
        },
        "outputId": "392dcd95-1544-408e-9529-a218b0d3b4fc"
      },
      "execution_count": null,
      "outputs": [
        {
          "output_type": "stream",
          "name": "stdout",
          "text": [
            "mensagens--4043521267-2023-12-03-21:28:46.csv\n"
          ]
        }
      ]
    },
    {
      "cell_type": "code",
      "source": [
        "#df_grupos = df[['Identificador_Grupo']]\n",
        "#df_grupos = df_grupos.rename(columns={\"Identificador_Grupo\":\"Id\"})\n",
        "#df_grupos = df_grupos.drop_duplicates()\n",
        "\n",
        "df_usuarios = df[['metadata1']]\n",
        "df_usuarios = df_usuarios.rename(columns={\"metadata1\":\"Id\"})\n",
        "df_usuarios = df_usuarios.drop_duplicates()"
      ],
      "metadata": {
        "id": "OeYxYN5bWxG_"
      },
      "execution_count": null,
      "outputs": []
    },
    {
      "cell_type": "code",
      "source": [
        "# Obtém o nome do grupo e do usuário emissor da mensagem pelo identificador\n",
        "#https://docs.telethon.dev/en/stable/modules/utils.html\n",
        "async def get_name(id):\n",
        "  async with TelegramClient('datathon', api_id, api_hash) as client:\n",
        "    entity = await client.get_entity(id)\n",
        "    nome = utils.get_display_name(entity)\n",
        "    return nome"
      ],
      "metadata": {
        "id": "xs4kkwsQhdRM"
      },
      "execution_count": null,
      "outputs": []
    },
    {
      "cell_type": "code",
      "source": [
        "#df_grupos[\"Nome\"] = await asyncio.gather(*(get_name(id) for id in df_grupos['Id']))"
      ],
      "metadata": {
        "id": "RmXXRIOnbVjl"
      },
      "execution_count": null,
      "outputs": []
    },
    {
      "cell_type": "code",
      "source": [
        "df_usuarios[\"Nome\"] = await asyncio.gather(*(get_name(id) for id in df_usuarios['Id']))"
      ],
      "metadata": {
        "id": "_H6EbLHMjQ3C"
      },
      "execution_count": null,
      "outputs": []
    },
    {
      "cell_type": "code",
      "source": [
        "#Gera o arquivo dos grupos no formato csv\n",
        "#tempo = datetime.now().strftime(\"-%Y-%m-%d-%H:%M:%S\")\n",
        "#file_name = \"grupos-\"+str(chat)+tempo+\".csv\"\n",
        "#df_grupos.to_csv(file_name, index=False)\n"
      ],
      "metadata": {
        "id": "FpA1J7MXph8d"
      },
      "execution_count": null,
      "outputs": []
    },
    {
      "cell_type": "code",
      "source": [
        "#Gera o arquivo dos usuários no formato csv\n",
        "tempo = datetime.now().strftime(\"-%Y-%m-%d-%H:%M:%S\")\n",
        "file_name = \"usuarios-\"+str(chat)+tempo+\".csv\"\n",
        "df_usuarios.to_csv(file_name, index=False)"
      ],
      "metadata": {
        "id": "LPSbIs-apcWv"
      },
      "execution_count": null,
      "outputs": []
    },
    {
      "cell_type": "markdown",
      "source": [
        "i) preprocessar o texto da mesma forma que na etapa 1;"
      ],
      "metadata": {
        "id": "uTSNMObTmLV4"
      }
    },
    {
      "cell_type": "markdown",
      "source": [
        "No pré-processamento de linguagem natural é comum retirar palavras sem significado semântico (conhecidas em inglês como \"stop words\")."
      ],
      "metadata": {
        "id": "z3MpvCCrmsNc"
      }
    },
    {
      "cell_type": "code",
      "source": [
        "# Stopwords em português:\n",
        "nltk.download('stopwords')\n",
        "stopwordspt = nltk.corpus.stopwords.words('portuguese')\n",
        "stopwordsen = nltk.corpus.stopwords.words('english')\n",
        "stopwordspt[:10]"
      ],
      "metadata": {
        "colab": {
          "base_uri": "https://localhost:8080/"
        },
        "id": "YKpiJDAvmyfq",
        "outputId": "29c116a0-0e7c-4a26-ee6a-0fd83b5fa709"
      },
      "execution_count": null,
      "outputs": [
        {
          "output_type": "stream",
          "name": "stderr",
          "text": [
            "[nltk_data] Downloading package stopwords to /root/nltk_data...\n",
            "[nltk_data]   Unzipping corpora/stopwords.zip.\n"
          ]
        },
        {
          "output_type": "execute_result",
          "data": {
            "text/plain": [
              "['a',\n",
              " 'à',\n",
              " 'ao',\n",
              " 'aos',\n",
              " 'aquela',\n",
              " 'aquelas',\n",
              " 'aquele',\n",
              " 'aqueles',\n",
              " 'aquilo',\n",
              " 'as']"
            ]
          },
          "metadata": {},
          "execution_count": 5
        }
      ]
    },
    {
      "cell_type": "markdown",
      "source": [
        "Outro pré-processamento possível é a retirada de prefixos e sufixos desnecessários das palavras ( processo conhecido em inglês pelos termos \"lemmatizing and stemming\")"
      ],
      "metadata": {
        "id": "kOJs0gJum1yO"
      }
    },
    {
      "cell_type": "code",
      "source": [
        "# Download lista de radicais e sufixos\n",
        "!wget https://github.com/michmech/lemmatization-lists/raw/master/lemmatization-pt.txt -q\n",
        "nltk.download('rslp')\n",
        "\n",
        "ptstemmer = RSLPStemmer()\n",
        "enstemmer = WordNetLemmatizer()\n",
        "\n",
        "# Convert to dictionary\n",
        "lmztpt = {}\n",
        "dic = open(\"lemmatization-pt.txt\")\n",
        "for line in dic:\n",
        "  txt = line.split()\n",
        "  lmztpt[txt[1]] = txt[0]\n",
        "\n",
        "# Lemmatize wherever possible\n",
        "def PortugueseMess(word):\n",
        "  if word in lmztpt.keys():\n",
        "    return lmztpt.get(word)\n",
        "  else:\n",
        "    return ptstemmer.stem(word)"
      ],
      "metadata": {
        "colab": {
          "base_uri": "https://localhost:8080/"
        },
        "id": "Om1_oCONm24w",
        "outputId": "ce66e9b7-6fd4-4c4b-fafc-1d5840639051"
      },
      "execution_count": null,
      "outputs": [
        {
          "output_type": "stream",
          "name": "stderr",
          "text": [
            "[nltk_data] Downloading package rslp to /root/nltk_data...\n",
            "[nltk_data]   Unzipping stemmers/rslp.zip.\n"
          ]
        }
      ]
    }
  ]
}