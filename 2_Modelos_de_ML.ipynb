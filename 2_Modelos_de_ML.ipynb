{
  "cells": [
    {
      "cell_type": "markdown",
      "metadata": {
        "id": "view-in-github",
        "colab_type": "text"
      },
      "source": [
        "<a href=\"https://colab.research.google.com/github/thiagomelostuckert/datathon-fakenews/blob/main/2_Modelos_de_ML.ipynb\" target=\"_parent\"><img src=\"https://colab.research.google.com/assets/colab-badge.svg\" alt=\"Open In Colab\"/></a>"
      ]
    },
    {
      "cell_type": "markdown",
      "metadata": {
        "id": "wJX1LDb4qpa8"
      },
      "source": [
        "## Construção de dois modelos de aprendizado de máquinas que automatizem a detecção de notícias falsas\n",
        "\n",
        "A etapa seguinte, a ser tocada pelo cientista de dados, envolve o treinamento do modelo. Já tendo em mãos a base de dados de treino preparada pelo analista de dados, o cientista de dados deverá desenvolver pelo menos dois modelos (note que a escolha do modelo pode implicar mudança no tratamento prévio da base de dados), considerando diferentes cenários de inferência.\n",
        "O cientista de dados deverá considerar dois cenários para inferência para definição dos modelos: batch (quando há uma série de notícias a serem avaliadas simultaneamente) e streaming (uma notícia por vez, em tempo real). Deverá haver justificativa para a escolha de cada modelo para as diferentes finalidades possíveis nas atividades de inteligência, e também devem constar as estatísticas de treino (report de classificação, matriz de confusão, etc.)\n",
        "Finalmente, o cientista de dados deverá salvar os parâmetros do modelo treinado considerando inferência em streaming no formato ‘pickle’, que será utilizado na próxima etapa.\n",
        "Recomenda-se utilizar as bibliotecas mais consolidadas para machine learning, como sklearn, tensorflow e pytorch. Não é necessário desenvolver soluções que envolvam poder computacional que exceda a capacidade do Google Colab gratuito.\n",
        "A avaliação se dará com a performance dos modelos (não disponibilizamos parte da base de dados para verificar o poder de generalização dos modelos); eficiência de código; escolha de cada modelo para qual finalidade."
      ]
    },
    {
      "cell_type": "markdown",
      "metadata": {
        "id": "NesbK303rWEk"
      },
      "source": [
        "Importação das bibliotecas"
      ]
    },
    {
      "cell_type": "code",
      "execution_count": 1,
      "metadata": {
        "id": "Z9ToAQtKqryB"
      },
      "outputs": [],
      "source": [
        "import numpy as np\n",
        "import pandas as pd\n",
        "import seaborn as sns\n",
        "import matplotlib.pyplot as plt\n",
        "from sklearn.model_selection import train_test_split\n",
        "from sklearn.feature_extraction.text import TfidfVectorizer\n",
        "from sklearn.pipeline import make_pipeline\n",
        "\n",
        "# Modelos das abordagens clássicas\n",
        "from sklearn.naive_bayes import MultinomialNB\n",
        "from sklearn.linear_model import LogisticRegression\n",
        "from sklearn.svm import LinearSVC\n",
        "from sklearn.ensemble import RandomForestClassifier\n",
        "\n",
        "# Modelo usando rede neural\n",
        "from sklearn.neural_network import MLPClassifier\n",
        "\n",
        "# Bibliotecas utilizadas para calcular as métricas dos modelos\n",
        "from sklearn.metrics import confusion_matrix, accuracy_score, ConfusionMatrixDisplay\n",
        "from sklearn.metrics import precision_score, f1_score, recall_score, roc_auc_score\n",
        "from sklearn.metrics import matthews_corrcoef\n",
        "from datetime import datetime\n",
        "\n",
        "\n",
        "sns.set()\n",
        "\n",
        "#Utilizados na hora de carregar o arquivo com a matriz TF-IDF\n",
        "import gzip\n",
        "import pickle\n",
        "\n",
        "import os\n",
        "import torch\n",
        "from torch import nn\n",
        "from torch.utils.data import DataLoader, Dataset\n",
        "from transformers import BertTokenizer, BertModel, AdamW, get_linear_schedule_with_warmup\n",
        "from sklearn.model_selection import train_test_split\n",
        "from sklearn.metrics import accuracy_score, classification_report\n",
        "import pandas as pd\n",
        "\n",
        "import tensorflow as tf\n",
        "import tensorflow_datasets as tfds\n",
        "\n",
        "import numpy as np\n",
        "import matplotlib.pyplot as plt"
      ]
    },
    {
      "cell_type": "markdown",
      "metadata": {
        "id": "BU6qCVzUxQu9"
      },
      "source": [
        "Leitura dos arquivos de entrada para os modelos"
      ]
    },
    {
      "cell_type": "code",
      "execution_count": 2,
      "metadata": {
        "id": "YAJgEj3awJVR"
      },
      "outputs": [],
      "source": [
        "#Leitura dos textos\n",
        "url_textos = \"https://raw.githubusercontent.com/thiagomelostuckert/datathon-fakenews/main/train_data.csv\"\n",
        "df_textos = pd.read_csv(url_textos, on_bad_lines = 'warn')"
      ]
    },
    {
      "cell_type": "code",
      "execution_count": 3,
      "metadata": {
        "colab": {
          "base_uri": "https://localhost:8080/"
        },
        "id": "-Lnf24lsVRfp",
        "outputId": "3427adaf-6c0f-4b49-86c0-07b88cabad11"
      },
      "outputs": [
        {
          "output_type": "stream",
          "name": "stdout",
          "text": [
            "--2023-12-02 09:12:53--  https://github.com/thiagomelostuckert/datathon-fakenews/raw/main/matrix-tf-idf.pkl\n",
            "Resolving github.com (github.com)... 20.205.243.166\n",
            "Connecting to github.com (github.com)|20.205.243.166|:443... connected.\n",
            "HTTP request sent, awaiting response... 302 Found\n",
            "Location: https://raw.githubusercontent.com/thiagomelostuckert/datathon-fakenews/main/matrix-tf-idf.pkl [following]\n",
            "--2023-12-02 09:12:53--  https://raw.githubusercontent.com/thiagomelostuckert/datathon-fakenews/main/matrix-tf-idf.pkl\n",
            "Resolving raw.githubusercontent.com (raw.githubusercontent.com)... 185.199.108.133, 185.199.109.133, 185.199.110.133, ...\n",
            "Connecting to raw.githubusercontent.com (raw.githubusercontent.com)|185.199.108.133|:443... connected.\n",
            "HTTP request sent, awaiting response... 200 OK\n",
            "Length: 13076603 (12M) [application/octet-stream]\n",
            "Saving to: ‘matrix-tf-idf.pkl’\n",
            "\n",
            "matrix-tf-idf.pkl   100%[===================>]  12.47M  --.-KB/s    in 0.04s   \n",
            "\n",
            "2023-12-02 09:12:54 (317 MB/s) - ‘matrix-tf-idf.pkl’ saved [13076603/13076603]\n",
            "\n",
            "[[0. 0. 0. ... 0. 0. 0.]\n",
            " [0. 0. 0. ... 0. 0. 0.]\n",
            " [0. 0. 0. ... 0. 0. 0.]\n",
            " ...\n",
            " [0. 0. 0. ... 0. 0. 0.]\n",
            " [0. 0. 0. ... 0. 0. 0.]\n",
            " [0. 0. 0. ... 0. 0. 0.]]\n",
            "(6480, 76289)\n"
          ]
        }
      ],
      "source": [
        "# Carrega a matriz TF-IDF calculada anteriormente\n",
        "!wget \"https://github.com/thiagomelostuckert/datathon-fakenews/raw/main/matrix-tf-idf.pkl\"\n",
        "\n",
        "with gzip.open('/content/matrix-tf-idf.pkl', 'rb') as f:\n",
        "    X = pickle.load(f)\n",
        "\n",
        "print(X.toarray())\n",
        "print(X.shape)"
      ]
    },
    {
      "cell_type": "code",
      "execution_count": 4,
      "metadata": {
        "id": "-0l7PkfbxUdX"
      },
      "outputs": [],
      "source": [
        "#Leitura das classificações\n",
        "url_classificacoes = \"https://raw.githubusercontent.com/thiagomelostuckert/datathon-fakenews/main/train_labels.csv\"\n",
        "df_classificacoes = pd.read_csv(url_classificacoes, on_bad_lines = 'warn')"
      ]
    },
    {
      "cell_type": "code",
      "execution_count": 5,
      "metadata": {
        "colab": {
          "base_uri": "https://localhost:8080/"
        },
        "id": "8Oo2FlfJxW4y",
        "outputId": "4e63265d-ae1a-4069-df9c-aec80c00c461"
      },
      "outputs": [
        {
          "output_type": "execute_result",
          "data": {
            "text/plain": [
              "Index(['preprocessed_news', 'label'], dtype='object')"
            ]
          },
          "metadata": {},
          "execution_count": 5
        }
      ],
      "source": [
        "#Junta os dois datasets em um único dataframe\n",
        "df = pd.merge(df_textos, df_classificacoes, left_index=True, right_index=True)\n",
        "df.columns"
      ]
    },
    {
      "cell_type": "code",
      "execution_count": 6,
      "metadata": {
        "id": "x_XNeJyE4JgM"
      },
      "outputs": [],
      "source": [
        "# Questionar aos organizadores do Datathon se podemos utilizar o arquivo\n",
        "# pré-processado do repositório do professor como conjunto de dados para testes dos modelos\n",
        "#Leitura dos textos utilizados no teste\n",
        "#url_test_data = \"https://raw.githubusercontent.com/thiagomelostuckert/datathon-fakenews/main/pre-processed.csv\"\n",
        "#df_test_data = pd.read_csv(url_test_data, on_bad_lines = 'warn')\n",
        "#df_test_data = df_test_data.drop(\"index\",axis=1)"
      ]
    },
    {
      "cell_type": "code",
      "execution_count": 7,
      "metadata": {
        "id": "ncC5VcmVJUDT"
      },
      "outputs": [],
      "source": [
        "# Treina o modelo e apresenta suas métricas\n",
        "# Parâmetro X corresponde aos textos e y às classificações\n",
        "def fit_and_evaluate_model(model,model_name,X,y):\n",
        "  # Divide o dataset em treinamento (67%) e teste (33%)\n",
        "  X_train, X_test, y_train, y_test = train_test_split(\n",
        "  X, y, test_size=0.33, random_state=42)\n",
        "\n",
        "  #Captura o timestamp antes de começar o fit para calcular o tempo de treinamento\n",
        "  t0 = datetime.now()\n",
        "  # Treina o modelo com os textos e suas classificações\n",
        "  model.fit(X_train, y_train)\n",
        "\n",
        "  #Captura o timestamp após o treinamento\n",
        "  t1 = datetime.now()\n",
        "\n",
        "  #Tempo de treinamento em segundos\n",
        "  tt = (t1 - t0).total_seconds()\n",
        "\n",
        "\n",
        "  #Faz a predição dos textos da base de testes com o modelo Naive Bayes\n",
        "  predicted_labels = model.predict(X_test)\n",
        "\n",
        "  #Captura o tempo após o teste para calcular o tempo de classificação\n",
        "  t2 = datetime.now()\n",
        "\n",
        "  #Tempo de classificação em segundos\n",
        "  tc = (t2 - t1).total_seconds()\n",
        "\n",
        "  #salva o modelo em um arquivo no formato pickle\n",
        "  file_name = model_name+'.pkl'\n",
        "  try:\n",
        "    with open(file_name, 'wb') as f:\n",
        "      pickle.dump(model, f)\n",
        "      print(f\"Salvou o arquivo com o modelo treinado:{file_name}\")\n",
        "  except:\n",
        "      print(f\"Falha ao salvar o modelo treinado:{file_name}\")\n",
        "\n",
        "  # Análise da eficiência do modelo\n",
        "  # Matriz de confusão\n",
        "  conf_mat = confusion_matrix(y_test, predicted_labels,labels=[\"fake\",\"true\"],  normalize=\"true\")\n",
        "  disp = ConfusionMatrixDisplay(confusion_matrix=conf_mat)\n",
        "  disp.plot()\n",
        "  plt.show()\n",
        "\n",
        "  #Extração dos valores da matriz de confusão\n",
        "  tn, fp, fn, tp = conf_mat.ravel()\n",
        "\n",
        "  # Imprime outras métricas\n",
        "  # https://scikit-learn.org/stable/modules/generated/sklearn.metrics.accuracy_score.html\n",
        "  accuracy_value = accuracy_score(y_test, predicted_labels)\n",
        "  print(\"Acurácia: {:.3f}\".format(accuracy_value))\n",
        "\n",
        "  #https://scikit-learn.org/stable/modules/generated/sklearn.metrics.f1_score.html#sklearn.metrics.f1_score\n",
        "  f1_value = f1_score(y_test, predicted_labels, average='macro')\n",
        "  print(\"F1-Score: {:.3f}\".format(f1_value))\n",
        "\n",
        "  #https://scikit-learn.org/stable/modules/generated/sklearn.metrics.precision_score.html#sklearn.metrics.precision_score\n",
        "  precision_value = precision_score(y_test, predicted_labels, average='macro')\n",
        "  print(\"Precisão: {:.3f}\".format(precision_value))\n",
        "\n",
        "  #https://scikit-learn.org/stable/modules/generated/sklearn.metrics.recall_score.html\n",
        "  recall_value = recall_score(y_test, predicted_labels, average='macro')\n",
        "  print(\"Recall (cobertura): {:.3f}\".format(recall_value))\n",
        "\n",
        "  print(\"Tempo de treinamento (s): {:.3f}\".format(tt))\n",
        "\n",
        "  print(\"Tempo de classificação (s): {:.3f}\".format(tc))\n",
        "\n",
        "  print(\"Verdadeiro Positivo (TP): {:.3f}\".format(tp))\n",
        "  print(\"Verdadeiro Negativo (TN): {:.3f}\".format(tn))\n",
        "  print(\"Falso Positivo (FP): {:.3f}\".format(fp))\n",
        "  print(\"Falso Negativo (FN): {:.3f}\".format(fn))\n",
        "\n",
        "  evalution_metric = {\"Model\":model_name, \"ACC\":accuracy_value, \"F1\":f1_value, \"PRE\":precision_value,\n",
        "          \"REC\":recall_value, \"TT(s)\":tt, \"TC(s)\":tc, \"TP\":tp, \"TN\":tn,\"FP\":fp,\"FN\":fn}\n",
        "\n",
        "  return evalution_metric\n"
      ]
    },
    {
      "cell_type": "markdown",
      "metadata": {
        "id": "hZA8QiT39i4m"
      },
      "source": [
        "Significado das células da matriz de confusão"
      ]
    },
    {
      "cell_type": "markdown",
      "metadata": {
        "id": "G1MWgw6I7dga"
      },
      "source": [
        "![matrizConfusao-600x381.png](data:image/png;base64,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)"
      ]
    },
    {
      "cell_type": "code",
      "execution_count": 8,
      "metadata": {
        "id": "EEjwAIRMhnr-"
      },
      "outputs": [],
      "source": [
        "# Lista utilizada para armazenar as métricas obtidas em cada classificador\n",
        "evaluation_metrics = []"
      ]
    },
    {
      "cell_type": "code",
      "execution_count": 9,
      "metadata": {
        "id": "tErfDubcZu99"
      },
      "outputs": [],
      "source": [
        "# Imprime as métricas dos classificadores para facilitar a comparação\n",
        "def print_evaluation_metrics(evaluation_metrics):\n",
        "  if len(evaluation_metrics) == 0:\n",
        "    print(\"Sem métricas registradas, favor rodar as células dos classificadores que se deseja comparar.\")\n",
        "    return\n",
        "\n",
        "  for key in evaluation_metrics[0].keys():\n",
        "    print(key,end='\\t')\n",
        "\n",
        "  print()\n",
        "  for evaluation_metric in evaluation_metrics:\n",
        "    for key, value in evaluation_metric.items():\n",
        "      if type(value) == str:\n",
        "        print(value,end='\\t')\n",
        "      else:\n",
        "        print(\"{:.3f}\".format(value),end='\\t')\n",
        "    print()\n",
        "\n",
        "  print(\"\\nLegenda:\")\n",
        "  print(\"NB1 = Naive Bayes utilizando a matriz TF-IDF calculada anteriormente\")\n",
        "  print(\"NB2 = Naive Bayes Calculando a matriz TF-IDF durante o pipeline de treinamento do modelo\")\n",
        "  print(\"LR = Logistic Regression\")\n",
        "  print(\"SVC = Linear Support Vector Classification\")\n",
        "  print(\"RFC = RandomForestClassifier\")\n",
        "  print(\"MLP = Multi-layer Perceptron classifier\")\n",
        "  print(\"ACC = Acurácia\")\n",
        "  print(\"F1 = F1-Score\")\n",
        "  print(\"PRE = Precisão\")\n",
        "  print(\"REC = Recall (Cobertura)\")\n",
        "  print(\"TT = Tempo de treinamento (segundos)\")\n",
        "  print(\"TC = Tempo de classificação (segundos)\")\n",
        "  print(\"TP = Verdadeiro Positivo\")\n",
        "  print(\"TN = Verdadeiro Negativo\")\n",
        "  print(\"FP = Falso Positivo\")\n",
        "  print(\"FN = Falso Negativo\")"
      ]
    },
    {
      "cell_type": "markdown",
      "metadata": {
        "id": "cp_CwjjCwGW1"
      },
      "source": [
        "### Abordagens clássicas"
      ]
    },
    {
      "cell_type": "markdown",
      "metadata": {
        "id": "pZEduI_dDeZE"
      },
      "source": [
        "Naive Bayes\n",
        "\n",
        "Referências:\n",
        "https://www.turing.com/kb/document-classification-using-naive-bayes\n",
        "\n",
        "https://towardsdatascience.com/implementing-a-naive-bayes-classifier-for-text-categorization-in-five-steps-f9192cdd54c3\n",
        "\n",
        "MultinomialNB é um classificador Naive Bayes\n",
        "https://scikit-learn.org/stable/modules/generated/sklearn.naive_bayes.MultinomialNB.html\n",
        "\n"
      ]
    },
    {
      "cell_type": "code",
      "execution_count": 10,
      "metadata": {
        "colab": {
          "base_uri": "https://localhost:8080/",
          "height": 658
        },
        "id": "OEWlQ0QdZsfV",
        "outputId": "54fa05d6-9f40-46a8-dded-d5667bf238dc"
      },
      "outputs": [
        {
          "output_type": "stream",
          "name": "stdout",
          "text": [
            "Salvou o arquivo com o modelo treinado:NB1.pkl\n"
          ]
        },
        {
          "output_type": "display_data",
          "data": {
            "text/plain": [
              "<Figure size 640x480 with 2 Axes>"
            ],
            "image/png": "[encoded data removed]"
          },
          "metadata": {}
        },
        {
          "output_type": "stream",
          "name": "stdout",
          "text": [
            "Acurácia: 0.589\n",
            "F1-Score: 0.505\n",
            "Precisão: 0.772\n",
            "Recall (cobertura): 0.588\n",
            "Tempo de treinamento (s): 0.048\n",
            "Tempo de classificação (s): 0.006\n",
            "Verdadeiro Positivo (TP): 0.999\n",
            "Verdadeiro Negativo (TN): 0.178\n",
            "Falso Positivo (FP): 0.822\n",
            "Falso Negativo (FN): 0.001\n"
          ]
        }
      ],
      "source": [
        "# Construção de uma modelo clássico usando Naive Bayes\n",
        "# Utilizando a matriz TF-IDF calculada anteriormente\n",
        "model = make_pipeline(MultinomialNB())\n",
        "model_name=\"NB1\"\n",
        "evaluation_metric = fit_and_evaluate_model(model,model_name,X, df.label)\n",
        "evaluation_metrics.append(evaluation_metric)"
      ]
    },
    {
      "cell_type": "code",
      "execution_count": 11,
      "metadata": {
        "colab": {
          "base_uri": "https://localhost:8080/",
          "height": 658
        },
        "id": "KBff-8F3DV36",
        "outputId": "07608e76-c63e-4181-dd5b-097458b03821"
      },
      "outputs": [
        {
          "output_type": "stream",
          "name": "stdout",
          "text": [
            "Salvou o arquivo com o modelo treinado:NB2.pkl\n"
          ]
        },
        {
          "output_type": "display_data",
          "data": {
            "text/plain": [
              "<Figure size 640x480 with 2 Axes>"
            ],
            "image/png": "[encoded data removed]"
          },
          "metadata": {}
        },
        {
          "output_type": "stream",
          "name": "stdout",
          "text": [
            "Acurácia: 0.602\n",
            "F1-Score: 0.528\n",
            "Precisão: 0.776\n",
            "Recall (cobertura): 0.602\n",
            "Tempo de treinamento (s): 2.332\n",
            "Tempo de classificação (s): 0.792\n",
            "Verdadeiro Positivo (TP): 0.999\n",
            "Verdadeiro Negativo (TN): 0.205\n",
            "Falso Positivo (FP): 0.795\n",
            "Falso Negativo (FN): 0.001\n"
          ]
        }
      ],
      "source": [
        "# Construção de uma modelo clássico usando Naive Bayes\n",
        "# Calculando a matriz TF-IDF durante o pipeline do modelo\n",
        "model = make_pipeline(TfidfVectorizer(), MultinomialNB())\n",
        "model_name=\"NB2\"\n",
        "evaluation_metric = fit_and_evaluate_model(model,model_name, df.preprocessed_news, df.label)\n",
        "evaluation_metrics.append(evaluation_metric)"
      ]
    },
    {
      "cell_type": "markdown",
      "metadata": {
        "id": "-GzBa4H1IE_D"
      },
      "source": [
        "Regressão logística\n",
        "\n",
        "Referências: https://scikit-learn.org/stable/modules/generated/sklearn.linear_model.LogisticRegression.html\n",
        "*italicized text*"
      ]
    },
    {
      "cell_type": "code",
      "execution_count": null,
      "metadata": {
        "colab": {
          "base_uri": "https://localhost:8080/",
          "height": 658
        },
        "id": "aWG8m30tI-Yl",
        "outputId": "afe451b7-a284-472c-8e32-f7752f132002"
      },
      "outputs": [
        {
          "name": "stdout",
          "output_type": "stream",
          "text": [
            "Salvou o arquivo com o modelo treinado:LR.pkl\n"
          ]
        },
        {
          "data": {
            "image/png": "[encoded data removed]",
            "text/plain": [
              "<Figure size 640x480 with 2 Axes>"
            ]
          },
          "metadata": {},
          "output_type": "display_data"
        },
        {
          "name": "stdout",
          "output_type": "stream",
          "text": [
            "Acurácia: 0.945\n",
            "F1-Score: 0.945\n",
            "Precisão: 0.946\n",
            "Recall (cobertura): 0.945\n",
            "Tempo de treinamento (s): 6.469\n",
            "Tempo de classificação (s): 4.165\n",
            "Verdadeiro Positivo (TP): 0.935\n",
            "Verdadeiro Negativo (TN): 0.956\n",
            "Falso Positivo (FP): 0.044\n",
            "Falso Negativo (FN): 0.065\n"
          ]
        }
      ],
      "source": [
        "# Construção de uma modelo clássico usando Regressão logística\n",
        "model = make_pipeline(TfidfVectorizer(), LogisticRegression())\n",
        "model_name=\"LR\"\n",
        "evaluation_metric = fit_and_evaluate_model(model,model_name,df.preprocessed_news, df.label)\n",
        "evaluation_metrics.append(evaluation_metric)"
      ]
    },
    {
      "cell_type": "markdown",
      "metadata": {
        "id": "-GNzUQR7cne5"
      },
      "source": [
        "Linear Support Vector Classification\n",
        "\n",
        "Referências:\n",
        "https://scikit-learn.org/stable/modules/generated/sklearn.svm.LinearSVC.html\n"
      ]
    },
    {
      "cell_type": "code",
      "execution_count": null,
      "metadata": {
        "colab": {
          "base_uri": "https://localhost:8080/",
          "height": 658
        },
        "id": "Yg9arxUpcfZu",
        "outputId": "e022be88-7ccc-41b2-a6c9-dc57b446a5b8"
      },
      "outputs": [
        {
          "name": "stdout",
          "output_type": "stream",
          "text": [
            "Salvou o arquivo com o modelo treinado:SVC.pkl\n"
          ]
        },
        {
          "data": {
            "image/png": "[encoded data removed]",
            "text/plain": [
              "<Figure size 640x480 with 2 Axes>"
            ]
          },
          "metadata": {},
          "output_type": "display_data"
        },
        {
          "name": "stdout",
          "output_type": "stream",
          "text": [
            "Acurácia: 0.952\n",
            "F1-Score: 0.952\n",
            "Precisão: 0.952\n",
            "Recall (cobertura): 0.952\n",
            "Tempo de treinamento (s): 3.580\n",
            "Tempo de classificação (s): 0.831\n",
            "Verdadeiro Positivo (TP): 0.950\n",
            "Verdadeiro Negativo (TN): 0.953\n",
            "Falso Positivo (FP): 0.047\n",
            "Falso Negativo (FN): 0.050\n"
          ]
        }
      ],
      "source": [
        "# Construção de uma modelo clássico usando Linear Support Vector Classification\n",
        "model = make_pipeline(TfidfVectorizer(), LinearSVC())\n",
        "model_name = \"SVC\"\n",
        "evaluation_metric = fit_and_evaluate_model(model,model_name,df.preprocessed_news, df.label)\n",
        "evaluation_metrics.append(evaluation_metric)"
      ]
    },
    {
      "cell_type": "markdown",
      "metadata": {
        "id": "ignzq5L_dPZP"
      },
      "source": [
        "A random forest classifier.\n",
        "\n",
        "Referências: https://scikit-learn.org/stable/modules/generated/sklearn.ensemble.RandomForestClassifier.html\n",
        "\n"
      ]
    },
    {
      "cell_type": "code",
      "execution_count": null,
      "metadata": {
        "colab": {
          "base_uri": "https://localhost:8080/",
          "height": 658
        },
        "id": "qodTD8bXdOm8",
        "outputId": "2803f48e-a450-460b-e2f0-92d0e6fbcb90"
      },
      "outputs": [
        {
          "name": "stdout",
          "output_type": "stream",
          "text": [
            "Salvou o arquivo com o modelo treinado:RFC.pkl\n"
          ]
        },
        {
          "data": {
            "image/png": "[encoded data removed]",
            "text/plain": [
              "<Figure size 640x480 with 2 Axes>"
            ]
          },
          "metadata": {},
          "output_type": "display_data"
        },
        {
          "name": "stdout",
          "output_type": "stream",
          "text": [
            "Acurácia: 0.950\n",
            "F1-Score: 0.950\n",
            "Precisão: 0.951\n",
            "Recall (cobertura): 0.950\n",
            "Tempo de treinamento (s): 9.557\n",
            "Tempo de classificação (s): 1.011\n",
            "Verdadeiro Positivo (TP): 0.927\n",
            "Verdadeiro Negativo (TN): 0.973\n",
            "Falso Positivo (FP): 0.027\n",
            "Falso Negativo (FN): 0.073\n"
          ]
        }
      ],
      "source": [
        "# Construção de uma modelo clássico usando RandomForestClassifier\n",
        "model = make_pipeline(TfidfVectorizer(), RandomForestClassifier())\n",
        "model_name = \"RFC\"\n",
        "evaluation_metric = fit_and_evaluate_model(model,model_name, df.preprocessed_news, df.label)\n",
        "evaluation_metrics.append(evaluation_metric)"
      ]
    },
    {
      "cell_type": "code",
      "execution_count": null,
      "metadata": {
        "colab": {
          "base_uri": "https://localhost:8080/"
        },
        "id": "mN26qxVin35A",
        "outputId": "d6fa28fc-b4a3-424e-8056-c5a07ef6d74a"
      },
      "outputs": [
        {
          "name": "stdout",
          "output_type": "stream",
          "text": [
            "Model\tACC\tF1\tPRE\tREC\tTT(s)\tTC(s)\tTP\tTN\tFP\tFN\t\n",
            "NB1\t0.589\t0.505\t0.772\t0.588\t0.065\t0.010\t0.999\t0.178\t0.822\t0.001\t\n",
            "NB2\t0.602\t0.528\t0.776\t0.602\t3.925\t1.791\t0.999\t0.205\t0.795\t0.001\t\n",
            "LR\t0.945\t0.945\t0.946\t0.945\t6.469\t4.165\t0.935\t0.956\t0.044\t0.065\t\n",
            "SVC\t0.952\t0.952\t0.952\t0.952\t3.580\t0.831\t0.950\t0.953\t0.047\t0.050\t\n",
            "RFC\t0.950\t0.950\t0.951\t0.950\t9.557\t1.011\t0.927\t0.973\t0.027\t0.073\t\n",
            "\n",
            "Legenda:\n",
            "NB1 = Naive Bayes utilizando a matriz TF-IDF calculada anteriormente\n",
            "NB2 = Naive Bayes Calculando a matriz TF-IDF durante o pipeline de treinamento do modelo\n",
            "LR = Logistic Regression\n",
            "SVC = Linear Support Vector Classification\n",
            "RFC = RandomForestClassifier\n",
            "MLP = Multi-layer Perceptron classifier\n",
            "ACC = Acurácia\n",
            "F1 = F1-Score\n",
            "PRE = Precisão\n",
            "REC = Recall (Cobertura)\n",
            "TT = Tempo de treinamento (segundos)\n",
            "TC = Tempo de classificação (segundos)\n",
            "TP = Verdadeiro Positivo\n",
            "TN = Verdadeiro Negativo\n",
            "FP = Falso Positivo\n",
            "FN = Falso Negativo\n"
          ]
        }
      ],
      "source": [
        "print_evaluation_metrics(evaluation_metrics)"
      ]
    },
    {
      "cell_type": "markdown",
      "metadata": {
        "id": "2ikP9oYYd283"
      },
      "source": [
        "# Abordagem usando rede neural\n",
        "Multi-layer Perceptron classifier\n",
        "\n",
        "Referências: https://scikit-learn.org/stable/modules/generated/sklearn.neural_network.MLPClassifier.html\n"
      ]
    },
    {
      "cell_type": "code",
      "execution_count": null,
      "metadata": {
        "colab": {
          "base_uri": "https://localhost:8080/"
        },
        "id": "pCinn7gXd_Dn",
        "outputId": "3b7e9862-299d-489b-abb1-fd6476f9f7fd"
      },
      "outputs": [
        {
          "name": "stdout",
          "output_type": "stream",
          "text": [
            "CPU times: user 0 ns, sys: 4 µs, total: 4 µs\n",
            "Wall time: 8.34 µs\n",
            "Salvou o arquivo com o modelo treinado:MLP.pkl\n"
          ]
        },
        {
          "data": {
            "image/png": "[encoded data removed]",
            "text/plain": [
              "<Figure size 640x480 with 2 Axes>"
            ]
          },
          "metadata": {},
          "output_type": "display_data"
        },
        {
          "name": "stdout",
          "output_type": "stream",
          "text": [
            "Acurácia: 0.946\n",
            "F1-Score: 0.946\n",
            "Precisão: 0.947\n",
            "Recall (cobertura): 0.946\n",
            "Tempo de treinamento (s): 390.015\n",
            "Tempo de classificação (s): 0.898\n",
            "Verdadeiro Positivo (TP): 0.964\n",
            "Verdadeiro Negativo (TN): 0.929\n",
            "Falso Positivo (FP): 0.071\n",
            "Falso Negativo (FN): 0.036\n"
          ]
        }
      ],
      "source": [
        "%time\n",
        "# Atenção essa célula demora para rodar\n",
        "# Construção de uma modelo clássico usando Multi-layer Perceptron classifier\n",
        "model = make_pipeline(TfidfVectorizer(), MLPClassifier())\n",
        "model_name = \"MLP\"\n",
        "evaluation_metric = fit_and_evaluate_model(model,model_name,df.preprocessed_news, df.label)\n",
        "evaluation_metrics.append(evaluation_metric)"
      ]
    },
    {
      "cell_type": "code",
      "execution_count": null,
      "metadata": {
        "colab": {
          "base_uri": "https://localhost:8080/"
        },
        "id": "Bfzj71ThjvwY",
        "outputId": "6fe68410-479e-4f12-c4dd-362b7df1670d"
      },
      "outputs": [
        {
          "name": "stdout",
          "output_type": "stream",
          "text": [
            "Model\tACC\tF1\tPRE\tREC\tTT(s)\tTC(s)\tTP\tTN\tFP\tFN\t\n",
            "NB1\t0.589\t0.505\t0.772\t0.588\t0.065\t0.010\t0.999\t0.178\t0.822\t0.001\t\n",
            "NB2\t0.602\t0.528\t0.776\t0.602\t3.925\t1.791\t0.999\t0.205\t0.795\t0.001\t\n",
            "LR\t0.945\t0.945\t0.946\t0.945\t6.469\t4.165\t0.935\t0.956\t0.044\t0.065\t\n",
            "SVC\t0.952\t0.952\t0.952\t0.952\t3.580\t0.831\t0.950\t0.953\t0.047\t0.050\t\n",
            "RFC\t0.950\t0.950\t0.951\t0.950\t9.557\t1.011\t0.927\t0.973\t0.027\t0.073\t\n",
            "MLP\t0.946\t0.946\t0.947\t0.946\t390.015\t0.898\t0.964\t0.929\t0.071\t0.036\t\n",
            "\n",
            "Legenda:\n",
            "NB1 = Naive Bayes utilizando a matriz TF-IDF calculada anteriormente\n",
            "NB2 = Naive Bayes Calculando a matriz TF-IDF durante o pipeline de treinamento do modelo\n",
            "LR = Logistic Regression\n",
            "SVC = Linear Support Vector Classification\n",
            "RFC = RandomForestClassifier\n",
            "MLP = Multi-layer Perceptron classifier\n",
            "ACC = Acurácia\n",
            "F1 = F1-Score\n",
            "PRE = Precisão\n",
            "REC = Recall (Cobertura)\n",
            "TT = Tempo de treinamento (segundos)\n",
            "TC = Tempo de classificação (segundos)\n",
            "TP = Verdadeiro Positivo\n",
            "TN = Verdadeiro Negativo\n",
            "FP = Falso Positivo\n",
            "FN = Falso Negativo\n"
          ]
        }
      ],
      "source": [
        "print_evaluation_metrics(evaluation_metrics)"
      ]
    },
    {
      "cell_type": "markdown",
      "metadata": {
        "id": "fUXXiaD8q2ZP"
      },
      "source": [
        "Modelo Batch (quando há uma série de notícias a serem avaliadas simultaneamente)"
      ]
    },
    {
      "cell_type": "code",
      "execution_count": null,
      "metadata": {
        "id": "XC2AEiMuq7lH"
      },
      "outputs": [],
      "source": []
    },
    {
      "cell_type": "markdown",
      "metadata": {
        "id": "ffLjqaqPq8K1"
      },
      "source": [
        "Model streaming (uma notícia por vez, em tempo real)"
      ]
    },
    {
      "cell_type": "code",
      "execution_count": null,
      "metadata": {
        "id": "OXTdKz-7q_dv"
      },
      "outputs": [],
      "source": []
    },
    {
      "cell_type": "markdown",
      "metadata": {
        "id": "I9B8h1NtrJL7"
      },
      "source": [
        "Salvar os parâmetros do modelo treinado considerando inferência em streaming no formato ‘pickle’"
      ]
    },
    {
      "cell_type": "code",
      "execution_count": null,
      "metadata": {
        "id": "bA6Al3jfrKdY"
      },
      "outputs": [],
      "source": [
        "# Observação: estou salvando o modelo treinado dentro da função \"fit_and_evaluate_model\"\n",
        "\n",
        "def classifica_novo_texto(model_name, new_text):\n",
        "  #Carrega o modelo treinado\n",
        "  file_name = model_name+'.pkl'\n",
        "  file_path=\"/content/\"+file_name\n",
        "  try:\n",
        "    with open(file_path, 'rb') as f:\n",
        "      model = pickle.load(f)\n",
        "      #print(f\"Carregou o modelo treinado: {file_path}\")\n",
        "      #Classifica o novo texto com o modelo\n",
        "      classificacao = model.predict(new_text)\n",
        "      print(classificacao)\n",
        "  except Exception as error:\n",
        "    print(\"Falha ao carregar o modelo treinado.\")\n",
        "    print(f\"Exceção: {error} \")\n"
      ]
    },
    {
      "cell_type": "code",
      "execution_count": null,
      "metadata": {
        "colab": {
          "base_uri": "https://localhost:8080/"
        },
        "id": "398ySvTQgbLk",
        "outputId": "bb36d368-590d-47cf-b38a-b3eb13cb1a4a"
      },
      "outputs": [
        {
          "name": "stdout",
          "output_type": "stream",
          "text": [
            "['true']\n"
          ]
        }
      ],
      "source": [
        "new_text = [\"guta oriental entenda regiao siria sob intenso ataque chegou crise humanitaria regiao proxima damasco sitiada desde alvo intensos bombardeios regime sirio mortos ataques desde domingo passam nesta semana regiao arredores damasco siria chamou atencao noticiario internacional ser palco sangrentos bombardeios resultaram mortes civis apenas horas guta oriental antigo destino viagens final semana moradores capital siria atualmente ultimos redutos rebeldes lutam contra regime ditador bashar nesta regiao cerca quilometros quadrados mil pessoas vivem cercados forcas cerco guta oriental inicio dois anos explodir guerra siria balanco vitimas segunda maior ja registrado horas desde ano regiao alvo ataque quimico apesar ser isolada bombardeada ha anos desde dia fevereiro guta oriental alvo nova campanha aerea lancada regime assad aliado russia desde entao civis morreram bombardeios diarios segundo estimativa observatorio sirio direitos humanos osdh mortos ha criancas dia bombardeios retomados tropas chegaram regiao reforcar cerco preparar ofensiva terrestre ainda nao inicio parece forcas sirias russas tentam retomar territorio controle rebeldes qualquer custo neste sabado conselho seguranca onu aprovou unanimidade resolucao pede dias regiao objetivo facilitar chegada ajuda humanitaria resgate feridos aliada assad russia concordou resolucao apos exigir mudancas teor texto veja seguir principais pontos explicam acontecendo guta oriental guta nome informal usado referir suburbios damasco ficam entorno rio barada antes guerra guta regiao agricola produtora vegetais frutas incluindo damasco ja maior fornecedor arroz acucar frutas vegetais capital tambem considerado pulmao verde onde habitantes capital passavam final semana residentes guta oriental primeiros rebelar contra regime assad regiao tomada rebeldes ano agitacao tornou conflito armado repressao manifestacoes sangrenta guerra civil julho opositores partiram luta armada formaram exercito sirio livre esl lancaram partir guta batalha contra damasco partir dessa regiao rebeldes lancam projeteis contra bairros damasco atualmente tres grupos principais lutam guta oriental piores ataques guerra civil siria ocorreu contra regiao foguetes contendo gas sarin lancados contra area segundo comprovou tarde onu organizacao proibicao armas quimicas opaq ataque deixou mortos ultimas semanas governo assad voltou ser acusado lancar varios ataques quimicos guta oriental nega janeiro osdh relatou casos asfixia cidade duma moradores fontes medicas falando ataque gas cloro janeiro ataque semelhante aconteceu arredores duma acordo osdh falou sete casos asfixia fevereiro embaixadora estados unidos nacoes unidas nikki haley disse havia evidencias claras confirmar uso cloro ataques leste ghuta constantes bombardeios aereos fogo artilharia alem deixar muitas vitimas civis destruiram edificios residenciais mercados escolas hospitais cerco regiao provocou aumento precos escassez commodities consequentemente gerou falta alimentos fome desnutricao crise humanitaria comboios humanitarios onu raramente conseguem entrar regiao onu condenou privacao deliberada alimentos civis tatica guerra apos publicacao fotografias chocantes criancas esqueleticas leste guta fundo nacoes unidas infancia unicef denunciou pior crise desnutricao desde inicio guerra criancas menores cinco anos sofrendo desnutricao grave contra janeiro apesar proximidade regiao damasco forcas assad negligenciaram guta oriental durante primeiros anos guerra civil porque concentraram recuperar areas consideradas cruciais sobrevivencia governo homs aleppo regioes proximas fronteira libano assim grupos atuam regiao anos acumular grande reserva armas municoes vinham rotas abastecimento deserto siria tambem tempo suficiente construir tuneis subterraneos secretos protegem ataques aereos militantes ainda conseguiram cultivar proprios alimentos\"]\n",
        "classifica_novo_texto(\"SVC\", new_text)"
      ]
    },
    {
      "cell_type": "code",
      "execution_count": null,
      "metadata": {
        "colab": {
          "base_uri": "https://localhost:8080/"
        },
        "id": "hltU3-cHirjD",
        "outputId": "953428af-c58e-492e-c169-7969d66720df"
      },
      "outputs": [
        {
          "name": "stdout",
          "output_type": "stream",
          "text": [
            "['fake']\n"
          ]
        }
      ],
      "source": [
        "new_text = [\"saiba sao senadores votaram favor aecio neves aecio livre leve solto podera retomar mandato alem escapar recolhimento noturno determinado primeira turma stf verdade tudo nao passou grande acordo nacional stf senado tudo votos favoraveis senador contrarios\"]\n",
        "classifica_novo_texto(\"RFC\", new_text)"
      ]
    },
    {
      "cell_type": "markdown",
      "metadata": {
        "id": "QMLFmWYDkzZU"
      },
      "source": [
        "# BERT\n",
        "\n",
        "Referências:\n",
        "\n",
        "https://medium.com/@khang.pham.exxact/text-classification-with-bert-7afaacc5e49b\n",
        "\n",
        "https://www.tensorflow.org/text/tutorials/classify_text_with_bert\n",
        "\n",
        "https://arxiv.org/abs/1810.04805"
      ]
    },
    {
      "cell_type": "code",
      "execution_count": 37,
      "metadata": {
        "id": "Oci7lmc322wj"
      },
      "outputs": [],
      "source": [
        "def load_texts(url):\n",
        "    df = pd.read_csv(url)\n",
        "    texts = df['preprocessed_news'].tolist()\n",
        "    return texts"
      ]
    },
    {
      "cell_type": "code",
      "source": [
        "def load_labels(url):\n",
        "    df = pd.read_csv(url)\n",
        "    labels = [1 if label == \"true\" else 0 for label in df['label'].tolist()]\n",
        "    return labels"
      ],
      "metadata": {
        "id": "hYo9Yc_k4yXx"
      },
      "execution_count": 38,
      "outputs": []
    },
    {
      "cell_type": "code",
      "source": [
        "url = \"https://raw.githubusercontent.com/thiagomelostuckert/datathon-fakenews/main/train_labels.csv\"\n",
        "labels =  load_labels(url)"
      ],
      "metadata": {
        "id": "93sNRDnQ4lGJ"
      },
      "execution_count": 39,
      "outputs": []
    },
    {
      "cell_type": "code",
      "source": [
        "url = \"https://raw.githubusercontent.com/thiagomelostuckert/datathon-fakenews/main/train_data.csv\"\n",
        "texts = load_texts(url)"
      ],
      "metadata": {
        "id": "cRSjY8usmoTn"
      },
      "execution_count": 40,
      "outputs": []
    },
    {
      "cell_type": "code",
      "execution_count": 42,
      "metadata": {
        "id": "6ouIAP3h27Ni"
      },
      "outputs": [],
      "source": [
        "class TextClassificationDataset(Dataset):\n",
        "  def __init__(self, texts, labels, tokenizer, max_length):\n",
        "    self.texts = texts\n",
        "    self.labels = labels\n",
        "    self.tokenizer = tokenizer\n",
        "    self.max_length = max_length\n",
        "  def __len__(self):\n",
        "    return len(self.texts)\n",
        "  def __getitem__(self, idx):\n",
        "    text = self.texts[idx]\n",
        "    label = self.labels[idx]\n",
        "    encoding = self.tokenizer(text, return_tensors='pt', max_length=self.max_length, padding='max_length', truncation=True)\n",
        "    return {'input_ids': encoding['input_ids'].flatten(), 'attention_mask': encoding['attention_mask'].flatten(), 'label': torch.tensor(label)}"
      ]
    },
    {
      "cell_type": "code",
      "execution_count": 43,
      "metadata": {
        "id": "MIXim1VW2_vz"
      },
      "outputs": [],
      "source": [
        "class BERTClassifier(nn.Module):\n",
        "  def __init__(self, bert_model_name, num_classes):\n",
        "    super(BERTClassifier, self).__init__()\n",
        "    self.bert = BertModel.from_pretrained(bert_model_name)\n",
        "    self.dropout = nn.Dropout(0.1)\n",
        "    self.fc = nn.Linear(self.bert.config.hidden_size, num_classes)\n",
        "\n",
        "  def forward(self, input_ids, attention_mask):\n",
        "    outputs = self.bert(input_ids=input_ids, attention_mask=attention_mask)\n",
        "    pooled_output = outputs.pooler_output\n",
        "    x = self.dropout(pooled_output)\n",
        "    logits = self.fc(x)\n",
        "    return logits"
      ]
    },
    {
      "cell_type": "code",
      "execution_count": 44,
      "metadata": {
        "id": "QfSCK4Ff3CKg"
      },
      "outputs": [],
      "source": [
        "def train(model, data_loader, optimizer, scheduler, device):\n",
        "  model.train()\n",
        "  for batch in data_loader:\n",
        "    optimizer.zero_grad()\n",
        "    input_ids = batch['input_ids'].to(device)\n",
        "    attention_mask = batch['attention_mask'].to(device)\n",
        "    labels = batch['label'].to(device)\n",
        "    outputs = model(input_ids=input_ids, attention_mask=attention_mask)\n",
        "    loss = nn.CrossEntropyLoss()(outputs, labels)\n",
        "    loss.backward()\n",
        "    optimizer.step()\n",
        "    scheduler.step()"
      ]
    },
    {
      "cell_type": "code",
      "execution_count": 45,
      "metadata": {
        "id": "b_F0lphS3Enp"
      },
      "outputs": [],
      "source": [
        "def evaluate(model, data_loader, device):\n",
        "  model.eval()\n",
        "  predictions = []\n",
        "  actual_labels = []\n",
        "  with torch.no_grad():\n",
        "    for batch in data_loader:\n",
        "      input_ids = batch['input_ids'].to(device)\n",
        "      attention_mask = batch['attention_mask'].to(device)\n",
        "      labels = batch['label'].to(device)\n",
        "      outputs = model(input_ids=input_ids, attention_mask=attention_mask)\n",
        "      _, preds = torch.max(outputs, dim=1)\n",
        "      predictions.extend(preds.cpu().tolist())\n",
        "      actual_labels.extend(labels.cpu().tolist())\n",
        "  return accuracy_score(actual_labels, predictions), classification_report(actual_labels, predictions)"
      ]
    },
    {
      "cell_type": "code",
      "execution_count": 46,
      "metadata": {
        "id": "wQke7FnG3IPh"
      },
      "outputs": [],
      "source": [
        "def predict_sentiment(text, model, tokenizer, device, max_length=128):\n",
        "  model.eval()\n",
        "  encoding = tokenizer(text, return_tensors='pt', max_length=max_length, padding='max_length', truncation=True)\n",
        "  input_ids = encoding['input_ids'].to(device)\n",
        "  attention_mask = encoding['attention_mask'].to(device)\n",
        "\n",
        "  with torch.no_grad():\n",
        "    outputs = model(input_ids=input_ids, attention_mask=attention_mask)\n",
        "    _, preds = torch.max(outputs, dim=1)\n",
        "  return \"true\" if preds.item() == 1 else \"fake\""
      ]
    },
    {
      "cell_type": "code",
      "execution_count": 47,
      "metadata": {
        "id": "o55kQbHK3Lcd"
      },
      "outputs": [],
      "source": [
        "# Set up parameters\n",
        "bert_model_name = 'bert-base-uncased'\n",
        "num_classes = 2\n",
        "max_length = 128\n",
        "batch_size = 16\n",
        "num_epochs = 4\n",
        "learning_rate = 2e-5"
      ]
    },
    {
      "cell_type": "code",
      "execution_count": 48,
      "metadata": {
        "id": "MvihRYjV3PVS"
      },
      "outputs": [],
      "source": [
        "#já separei em treinamento e teste. Verificar se é necessário fazer de novo\n",
        "train_texts, val_texts, train_labels, val_labels = train_test_split(texts, labels, test_size=0.2, random_state=42)\n"
      ]
    },
    {
      "cell_type": "code",
      "execution_count": 49,
      "metadata": {
        "id": "olgM1-2O3Qr4"
      },
      "outputs": [],
      "source": [
        "tokenizer = BertTokenizer.from_pretrained(bert_model_name)\n",
        "train_dataset = TextClassificationDataset(train_texts, train_labels, tokenizer, max_length)\n",
        "val_dataset = TextClassificationDataset(val_texts, val_labels, tokenizer, max_length)\n",
        "train_dataloader = DataLoader(train_dataset, batch_size=batch_size, shuffle=True)\n",
        "val_dataloader = DataLoader(val_dataset, batch_size=batch_size)"
      ]
    },
    {
      "cell_type": "code",
      "execution_count": 50,
      "metadata": {
        "id": "FTL9pXf13U52"
      },
      "outputs": [],
      "source": [
        "device = torch.device(\"cuda\" if torch.cuda.is_available() else \"cpu\")\n",
        "model = BERTClassifier(bert_model_name, num_classes).to(device)"
      ]
    },
    {
      "cell_type": "code",
      "execution_count": 51,
      "metadata": {
        "id": "HU6ql43F3VpY",
        "colab": {
          "base_uri": "https://localhost:8080/"
        },
        "outputId": "36eaf000-f1e6-486e-da78-dba67699ad0f"
      },
      "outputs": [
        {
          "output_type": "stream",
          "name": "stderr",
          "text": [
            "/usr/local/lib/python3.10/dist-packages/transformers/optimization.py:411: FutureWarning: This implementation of AdamW is deprecated and will be removed in a future version. Use the PyTorch implementation torch.optim.AdamW instead, or set `no_deprecation_warning=True` to disable this warning\n",
            "  warnings.warn(\n"
          ]
        }
      ],
      "source": [
        "#Pendente procurar uma alternativa para o Adamw\n",
        "optimizer = AdamW(model.parameters(), lr=learning_rate)\n",
        "total_steps = len(train_dataloader) * num_epochs\n",
        "scheduler = get_linear_schedule_with_warmup(optimizer, num_warmup_steps=0, num_training_steps=total_steps)"
      ]
    },
    {
      "cell_type": "code",
      "execution_count": 52,
      "metadata": {
        "id": "SQ3x8Uhr3Xt-",
        "colab": {
          "base_uri": "https://localhost:8080/"
        },
        "outputId": "0e877e96-98e0-4b74-983e-b40298b4002a"
      },
      "outputs": [
        {
          "output_type": "stream",
          "name": "stdout",
          "text": [
            "Epoch 1/4\n",
            "Validation Accuracy: 0.8364\n",
            "              precision    recall  f1-score   support\n",
            "\n",
            "           0       0.89      0.76      0.82       641\n",
            "           1       0.80      0.91      0.85       655\n",
            "\n",
            "    accuracy                           0.84      1296\n",
            "   macro avg       0.84      0.84      0.84      1296\n",
            "weighted avg       0.84      0.84      0.84      1296\n",
            "\n",
            "Epoch 2/4\n",
            "Validation Accuracy: 0.8858\n",
            "              precision    recall  f1-score   support\n",
            "\n",
            "           0       0.88      0.90      0.89       641\n",
            "           1       0.90      0.88      0.89       655\n",
            "\n",
            "    accuracy                           0.89      1296\n",
            "   macro avg       0.89      0.89      0.89      1296\n",
            "weighted avg       0.89      0.89      0.89      1296\n",
            "\n",
            "Epoch 3/4\n",
            "Validation Accuracy: 0.8974\n",
            "              precision    recall  f1-score   support\n",
            "\n",
            "           0       0.92      0.86      0.89       641\n",
            "           1       0.87      0.93      0.90       655\n",
            "\n",
            "    accuracy                           0.90      1296\n",
            "   macro avg       0.90      0.90      0.90      1296\n",
            "weighted avg       0.90      0.90      0.90      1296\n",
            "\n",
            "Epoch 4/4\n",
            "Validation Accuracy: 0.8920\n",
            "              precision    recall  f1-score   support\n",
            "\n",
            "           0       0.92      0.85      0.89       641\n",
            "           1       0.87      0.93      0.90       655\n",
            "\n",
            "    accuracy                           0.89      1296\n",
            "   macro avg       0.89      0.89      0.89      1296\n",
            "weighted avg       0.89      0.89      0.89      1296\n",
            "\n"
          ]
        }
      ],
      "source": [
        "for epoch in range(num_epochs):\n",
        "  print(f\"Epoch {epoch + 1}/{num_epochs}\")\n",
        "  train(model, train_dataloader, optimizer, scheduler, device)\n",
        "  accuracy, report = evaluate(model, val_dataloader, device)\n",
        "  print(f\"Validation Accuracy: {accuracy:.4f}\")\n",
        "  print(report)"
      ]
    },
    {
      "cell_type": "code",
      "execution_count": 53,
      "metadata": {
        "id": "qAe9i-zX3eQg"
      },
      "outputs": [],
      "source": [
        "torch.save(model.state_dict(), \"bert_classifier.pth\")\n"
      ]
    },
    {
      "cell_type": "code",
      "source": [
        "bert_model_name = 'bert-base-uncased'\n",
        "num_classes = 2\n",
        "device = torch.device(\"cuda\" if torch.cuda.is_available() else \"cpu\")\n",
        "model = BERTClassifier(bert_model_name, num_classes).to(device)\n",
        "model.load_state_dict(torch.load(\"/content/bert_classifier.pth\"))\n",
        "model.eval()"
      ],
      "metadata": {
        "colab": {
          "base_uri": "https://localhost:8080/"
        },
        "id": "jSrvoni167HH",
        "outputId": "c3b439ed-42bf-4192-9c8a-cab42c228531"
      },
      "execution_count": 57,
      "outputs": [
        {
          "output_type": "execute_result",
          "data": {
            "text/plain": [
              "BERTClassifier(\n",
              "  (bert): BertModel(\n",
              "    (embeddings): BertEmbeddings(\n",
              "      (word_embeddings): Embedding(30522, 768, padding_idx=0)\n",
              "      (position_embeddings): Embedding(512, 768)\n",
              "      (token_type_embeddings): Embedding(2, 768)\n",
              "      (LayerNorm): LayerNorm((768,), eps=1e-12, elementwise_affine=True)\n",
              "      (dropout): Dropout(p=0.1, inplace=False)\n",
              "    )\n",
              "    (encoder): BertEncoder(\n",
              "      (layer): ModuleList(\n",
              "        (0-11): 12 x BertLayer(\n",
              "          (attention): BertAttention(\n",
              "            (self): BertSelfAttention(\n",
              "              (query): Linear(in_features=768, out_features=768, bias=True)\n",
              "              (key): Linear(in_features=768, out_features=768, bias=True)\n",
              "              (value): Linear(in_features=768, out_features=768, bias=True)\n",
              "              (dropout): Dropout(p=0.1, inplace=False)\n",
              "            )\n",
              "            (output): BertSelfOutput(\n",
              "              (dense): Linear(in_features=768, out_features=768, bias=True)\n",
              "              (LayerNorm): LayerNorm((768,), eps=1e-12, elementwise_affine=True)\n",
              "              (dropout): Dropout(p=0.1, inplace=False)\n",
              "            )\n",
              "          )\n",
              "          (intermediate): BertIntermediate(\n",
              "            (dense): Linear(in_features=768, out_features=3072, bias=True)\n",
              "            (intermediate_act_fn): GELUActivation()\n",
              "          )\n",
              "          (output): BertOutput(\n",
              "            (dense): Linear(in_features=3072, out_features=768, bias=True)\n",
              "            (LayerNorm): LayerNorm((768,), eps=1e-12, elementwise_affine=True)\n",
              "            (dropout): Dropout(p=0.1, inplace=False)\n",
              "          )\n",
              "        )\n",
              "      )\n",
              "    )\n",
              "    (pooler): BertPooler(\n",
              "      (dense): Linear(in_features=768, out_features=768, bias=True)\n",
              "      (activation): Tanh()\n",
              "    )\n",
              "  )\n",
              "  (dropout): Dropout(p=0.1, inplace=False)\n",
              "  (fc): Linear(in_features=768, out_features=2, bias=True)\n",
              ")"
            ]
          },
          "metadata": {},
          "execution_count": 57
        }
      ]
    },
    {
      "cell_type": "code",
      "execution_count": 58,
      "metadata": {
        "id": "LGOIJoks3f_7",
        "colab": {
          "base_uri": "https://localhost:8080/"
        },
        "outputId": "978e30f2-b118-40d7-b2f5-da2fbbfd059b"
      },
      "outputs": [
        {
          "output_type": "stream",
          "name": "stdout",
          "text": [
            "Classificação obtida: true\n"
          ]
        }
      ],
      "source": [
        "# Test sentiment prediction\n",
        "test_text = \"sinal tres poderes republica nao temem possibilidade punicao boca urna dado dias deste mes congresso nacional criou fundo financiamento campanha fazendo unica concessao trocar insultada democracia descricao factual objetivo dinheiro farto melhor piso teto bancar certamente bilionarias campanhas eleitorais dinheiro tungado contribuinte mesma ocasiao turma reunida abrigo cumbuca virada tigela emborcada concedeu membros merce pegar dinheiro emprestado cofres viuva comprometer pagar nao quer dizer pagarao dividas uniao conjunto espoliado povo brasileiro logo seguida votacao decidida voto coluna meio presidente belas frases vazias supremo tribunal federal stf carmen lucia judiciario devolveu nada insignes tambem nada insignificantes parlamentares poder tornarem foro superprivilegio intocaveis antes disso executivo alto poder monarquico havia recorrido expedientes rotina garantir imunidade pe meio chefe concluido processo esvaziamento cofres todos receptaculos suado amarfanhado dinheiro escorchado contribuintes parte sobrou saque promovido dois aliados antanho luiz inacio lula silva dilma janete vana rousseff linhares comprar discricao zero apoio terco deputados federais permaneca poder nao trata claro algo inusitado sequer original pratica vem tempos idos certamente sera repetida dias ainda nao vividos governos todas origens regimes todas confissoes fe ideologica sempre nunca sao aceitaveis sob nenhum ponto vista contemple nao apenas civismo comum manifestacoes honestidade pessoal governante compra votos congressista age forma perversa maligna democracia faziam coroneis guarda nacional imperio republica velha pratica malsa eleicoes bico pena sempre distorcao fatal democracia demanda recursos saliva poderosos momento paulo bonifacio jose tamm andrada ambos deputados aprisco senador aecio neto tancredo neves ministro justica governo democratico gege vargas golpe parlamentarista canonizado povo encarregou conduzir nova republica longa folha corrida bons servicos prestados poderosos ocasiao relator primeira denuncia rodrigo janot contra temer exemplo tambem nesta novissima republica nacional sai nao regenera filho ibrahim ministro justica plena vigencia republica injustica posta servico tecnocratas militares deputado tucano mineiro nao fez rogado encarregado produzir relatorio alternativo substituir peemedebista contra sergio zveiter bonifacio xara aparentado patriarca independencia sempre candidato ilustre brasileiro todos tempos nunca negou votar contra povo democracia longeva passagem camara deputados ajudou derrotar emenda dante oliveira restabeleceria eleicoes diretas presidente preferiu paulo maluf hoje fiel aliado temer antes ja lula tancredo colegio eleitoral sempre sombra sim nobre parente cuja fotografia orna gabinete cujo exemplo nao honrado desempenhoi parlamentar desonra alias nao limita aspectos politicos eticos relatorio documento altura libelo acusatorio inepto insolito republica rodrigo janot tambem originario alterosas inepcia acusacao defesa travestida relatorio contudo nada ver derrota sempre dada liquida certa segunda tentativa denuncia contra presidente republica organizacao criminosa obstrucao justica margem votos favor morador jaburu ocupante planalto exclusivamente manobras manutencao mandato chefe governo qualquer custo banquetes palacio casa leais aliados distribuicao cargos benesses cumprimento obrigacao legal pagamento emendas orcamentarias vez usados nao porque habito cachimbo entorta boca principalmente porque meio eficaz levar rapidamente mao boca comer consentir desta vez contudo historia sera mal contada nao contiver novos elementos vice dilma posto ascendeu nunca usurpou garantem antigos aliados nele votaram hoje chamam golpista acrescentou rica casos pobre meritos historia celebracao malfeitos nome democracia brasil hoje ha bens vem mal distorcao bons ditos sabedoria popular responsaveis maior orgulho producao nacional agroindustria corretamente comparada galinha ovos ouro chiqueiro povoado gambas ta\"\n",
        "sentiment = predict_sentiment(test_text, model, tokenizer, device)\n",
        "print(f\"Classificação obtida: {sentiment}\")"
      ]
    },
    {
      "cell_type": "markdown",
      "metadata": {
        "id": "sjucqnj6rvzR"
      },
      "source": [
        "BiLSTM\n",
        "\n",
        "Referência:\n",
        "https://www.geeksforgeeks.org/bidirectional-lstm-in-nlp/\n"
      ]
    },
    {
      "cell_type": "code",
      "execution_count": null,
      "metadata": {
        "id": "4AsqUqX001iq"
      },
      "outputs": [],
      "source": [
        "#Carregando o dataset\n",
        "\n",
        "#X_train, X_test, y_train, y_test = train_test_split( X, y, test_size=0.33, random_state=42)\n",
        "\n",
        "dataset = tfds.load(df, as_supervised=True)\n",
        "\n",
        "# Separa o dataset em treinamento e teste\n",
        "train_dataset, test_dataset = dataset['train'], dataset['test']\n",
        "\n",
        "# Dividi treinamento e teste em batches de 32\n",
        "# e embaralha o dataset de treinamento\n",
        "batch_size = 32\n",
        "train_dataset = train_dataset.shuffle(10000)\n",
        "train_dataset = train_dataset.batch(batch_size)\n",
        "test_dataset = test_dataset.batch(batch_size)"
      ]
    },
    {
      "cell_type": "code",
      "execution_count": null,
      "metadata": {
        "id": "rWFoPYSf1bcO"
      },
      "outputs": [],
      "source": [
        "example, label = next(iter(train_dataset))\n",
        "print('Text:\\n', example.numpy()[0])\n",
        "print('\\nLabel: ', label.numpy()[0])"
      ]
    },
    {
      "cell_type": "code",
      "execution_count": null,
      "metadata": {
        "colab": {
          "base_uri": "https://localhost:8080/"
        },
        "id": "6MX-MGOb04Wa",
        "outputId": "5545a500-24bd-44e8-e108-ff7cd45944bf"
      },
      "outputs": [
        {
          "name": "stdout",
          "output_type": "stream",
          "text": [
            "original:  b'You\\'ve gotta hand it to Steven Seagal: whatever his other faults may be, he does have good taste in women. If you pick a Seagal movie, chances are there will be one or more very beautiful women in it. And usually, they do not function as mere eye candy; they get involved in the action and fight, shoot guns, kill with knives, etc. \"Flight of Fury\" offers the duo of Ciera Payton (who has a very sexy face, with luscious lips to match Angelina Jolie\\'s) and Katie Jones, and finds time to get them involved in both a catfight AND a little lesbian fondling! And if it seems like I\\'m spending a little too much time talking about them, it\\'s because the rest of the movie, although passable, is so unexciting that it\\'s hard to find much else to talk about. Ironically, the weakest aspect is probably Seagal himself, who looks as if he can\\'t even be bothered to try to pretend to care. This being a military-type actioner, there is very little fighting in it, and he doesn\\'t fit into his role (a stealth fighter pilot, \"the best in the world\", of course) very well, which may explain his almost offensive sleepwalking. (*1/2)'\n",
            "encoded:  [ 825 3412  545    9    6 2063 3291  857   25   81 4558  194   28   27\n",
            "  121   26   50 1256    8  362   45   23 1273    4 3291   18 3327   24\n",
            "   48   77   28   29   42   52   53  300  362    8    9    3  604   35\n",
            "   82   22 5439   15 2610  826 2069   35   76  561    8    2  216    3\n",
            "  537 1331 1811  502   17 8969  572 2805    5 4927 1513    2 3874    5\n",
            "    1    1   37   44    4   53 1257  403   17    1 3953    6 1012 7411\n",
            "    1    3 8622 1489    3  622   62    6   76   98  561    8  191    4\n",
            "    1    3    4  111 2452    1    3   45    9  181   39  142 3316    4\n",
            "  111  100   73   62  655   43   98   30   80    2  343    5    2   18\n",
            "  255 5213    7   38    1   12   30  264    6  160   73  329    6  727\n",
            "   43 3600    2 4206 1219    7  235 3291  304   37  263   15   45   27\n",
            "  175   54   28 2555    6  337    6 3824    6  451   11  107    4    1\n",
            "    1   48    7   53  111  995    8    9    3   27  145 1137   78   25\n",
            "  214    4 9910 4144 1802    2  115    8    2  188    5  259   53   74\n",
            "   60  194 1223   25  210 2400    1 1114]\n",
            "decoded:  youve gotta hand it to steven seagal whatever his other faults may be he does have good taste in women if you pick a seagal movie chances are there will be one or more very beautiful women in it and usually they do not function as mere eye candy they get involved in the action and fight shoot guns kill with knives etc flight of fury offers the duo of [UNK] [UNK] who has a very sexy face with [UNK] lips to match angelina [UNK] and katie jones and finds time to get them involved in both a [UNK] and a little lesbian [UNK] and if it seems like im spending a little too much time talking about them its because the rest of the movie although passable is so [UNK] that its hard to find much else to talk about ironically the weakest aspect is probably seagal himself who looks as if he cant even be bothered to try to pretend to care this being a [UNK] [UNK] there is very little fighting in it and he doesnt fit into his role a stealth fighter pilot the best in the world of course very well which may explain his almost offensive [UNK] 12\n"
          ]
        }
      ],
      "source": [
        "encoder = tf.keras.layers.TextVectorization(max_tokens=10000)\n",
        "encoder.adapt(train_dataset.map(lambda text, _: text))\n",
        "\n",
        "# Extrai o vocabulário da camada TextVectorization\n",
        "vocabulary = np.array(encoder.get_vocabulary())\n",
        "\n",
        "# Codifica um exemplo de teste e decodifica de volta\n",
        "original_text = example.numpy()[0]\n",
        "encoded_text = encoder(original_text).numpy()\n",
        "decoded_text = ' '.join(vocabulary[encoded_text])\n",
        "\n",
        "print('original: ', original_text)\n",
        "print('encoded: ', encoded_text)\n",
        "print('decoded: ', decoded_text)"
      ]
    },
    {
      "cell_type": "code",
      "execution_count": null,
      "metadata": {
        "colab": {
          "base_uri": "https://localhost:8080/"
        },
        "id": "sLm5FGfJ1R-y",
        "outputId": "3bf3ae62-8d41-49fd-a014-ddfab1234eee"
      },
      "outputs": [
        {
          "name": "stdout",
          "output_type": "stream",
          "text": [
            "Model: \"sequential\"\n",
            "_________________________________________________________________\n",
            " Layer (type)                Output Shape              Param #   \n",
            "=================================================================\n",
            " text_vectorization_1 (Text  (None, None)              0         \n",
            " Vectorization)                                                  \n",
            "                                                                 \n",
            " embedding (Embedding)       (None, None, 64)          640000    \n",
            "                                                                 \n",
            " bidirectional (Bidirection  (None, None, 128)         66048     \n",
            " al)                                                             \n",
            "                                                                 \n",
            " bidirectional_1 (Bidirecti  (None, 64)                41216     \n",
            " onal)                                                           \n",
            "                                                                 \n",
            " dense (Dense)               (None, 64)                4160      \n",
            "                                                                 \n",
            " dense_1 (Dense)             (None, 1)                 65        \n",
            "                                                                 \n",
            "=================================================================\n",
            "Total params: 751489 (2.87 MB)\n",
            "Trainable params: 751489 (2.87 MB)\n",
            "Non-trainable params: 0 (0.00 Byte)\n",
            "_________________________________________________________________\n"
          ]
        }
      ],
      "source": [
        "# Cria o modelo\n",
        "model = tf.keras.Sequential([\n",
        "    encoder,\n",
        "    tf.keras.layers.Embedding(\n",
        "        len(encoder.get_vocabulary()), 64, mask_zero=True),\n",
        "    tf.keras.layers.Bidirectional(\n",
        "        tf.keras.layers.LSTM(64,  return_sequences=True)),\n",
        "    tf.keras.layers.Bidirectional(tf.keras.layers.LSTM(32)),\n",
        "    tf.keras.layers.Dense(64, activation='relu'),\n",
        "    tf.keras.layers.Dense(1)\n",
        "])\n",
        "\n",
        "# Resume o modelo\n",
        "model.summary()\n",
        "\n",
        "# Compila o modelo\n",
        "model.compile(\n",
        "    loss=tf.keras.losses.BinaryCrossentropy(from_logits=True),\n",
        "    optimizer=tf.keras.optimizers.Adam(),\n",
        "    metrics=['accuracy']\n",
        ")"
      ]
    },
    {
      "cell_type": "code",
      "execution_count": null,
      "metadata": {
        "colab": {
          "background_save": true,
          "base_uri": "https://localhost:8080/"
        },
        "id": "tvu55lua13dz",
        "outputId": "bdf4480e-bb7e-4d4b-a579-ffa7f322caba"
      },
      "outputs": [
        {
          "name": "stdout",
          "output_type": "stream",
          "text": [
            "Epoch 1/5\n",
            "782/782 [==============================] - 2296s 3s/step - loss: 0.4153 - accuracy: 0.7989 - val_loss: 0.3895 - val_accuracy: 0.8580\n",
            "Epoch 2/5\n",
            "782/782 [==============================] - 2055s 3s/step - loss: 0.2514 - accuracy: 0.8974 - val_loss: 0.3330 - val_accuracy: 0.8483\n",
            "Epoch 3/5\n",
            "782/782 [==============================] - 2107s 3s/step - loss: 0.1803 - accuracy: 0.9302 - val_loss: 0.3563 - val_accuracy: 0.8494\n",
            "Epoch 4/5\n",
            "325/782 [===========>..................] - ETA: 16:24 - loss: 0.1257 - accuracy: 0.9521"
          ]
        }
      ],
      "source": [
        "# Treina o modelo e valida usando o conjunto de teste\n",
        "history = model.fit(\n",
        "    train_dataset,\n",
        "    epochs=5,\n",
        "    validation_data=test_dataset,\n",
        ")"
      ]
    },
    {
      "cell_type": "code",
      "execution_count": null,
      "metadata": {
        "id": "Ys8DEhIV2BNx"
      },
      "outputs": [],
      "source": [
        "\n",
        "\n",
        "# Plotting the accuracy and loss over time\n",
        "\n",
        "# Training history\n",
        "history_dict = history.history\n",
        "\n",
        "# Seperating validation and training accuracy\n",
        "acc = history_dict['accuracy']\n",
        "val_acc = history_dict['val_accuracy']\n",
        "\n",
        "# Seperating validation and training loss\n",
        "loss = history_dict['loss']\n",
        "val_loss = history_dict['val_loss']\n",
        "\n",
        "# Plotting\n",
        "plt.figure(figsize=(8, 4))\n",
        "plt.subplot(1, 2, 1)\n",
        "plt.plot(acc)\n",
        "plt.plot(val_acc)\n",
        "plt.title('Training and Validation Accuracy')\n",
        "plt.xlabel('Epochs')\n",
        "plt.ylabel('Accuracy')\n",
        "plt.legend(['Accuracy', 'Validation Accuracy'])\n",
        "\n",
        "plt.subplot(1, 2, 2)\n",
        "plt.plot(loss)\n",
        "plt.plot(val_loss)\n",
        "plt.title('Training and Validation Loss')\n",
        "plt.xlabel('Epochs')\n",
        "plt.ylabel('Loss')\n",
        "plt.legend(['Loss', 'Validation Loss'])\n",
        "\n",
        "plt.show()"
      ]
    },
    {
      "cell_type": "code",
      "execution_count": null,
      "metadata": {
        "id": "gAKB8JF_2J1d"
      },
      "outputs": [],
      "source": [
        "# Making predictions\n",
        "sample_text = (\n",
        "    '''The movie by GeeksforGeeks was so good and the animation are so dope.\n",
        "    I would recommend my friends to watch it.'''\n",
        ")\n",
        "predictions = model.predict(np.array([sample_text]))\n",
        "print(*predictions[0])\n",
        "\n",
        "# Print the label based on the prediction\n",
        "if predictions[0] > 0:\n",
        "    print('The review is positive')\n",
        "else:\n",
        "    print('The review is negative')"
      ]
    },
    {
      "cell_type": "code",
      "execution_count": null,
      "metadata": {
        "id": "vvT8Mv1-2PTc"
      },
      "outputs": [],
      "source": []
    }
  ],
  "metadata": {
    "colab": {
      "provenance": [],
      "gpuType": "T4",
      "include_colab_link": true
    },
    "kernelspec": {
      "display_name": "Python 3",
      "name": "python3"
    },
    "language_info": {
      "name": "python"
    },
    "accelerator": "GPU"
  },
  "nbformat": 4,
  "nbformat_minor": 0
}